{
 "cells": [
  {
   "cell_type": "markdown",
   "id": "17474efc-a435-431c-87b6-abcee356b403",
   "metadata": {
    "tags": []
   },
   "source": [
    "## Week03.1 In-Class Team Activity\n",
    "Tuesday April 18th, 2023 - upload PDF with photograph (either rendered or a separate file) Due by 11:59pm\n",
    "\n",
    "If you missed class – no credit for this in-class activity, instead, I drop two unexcused absences from the Monday/Wednesday activities before deductions begin.\n",
    "\n",
    "- **Please identify your team & the names of your teammates.** \n",
    "\n",
    "- **Please insert a team photo somewhere in this notebook.  If you cannot get the to render correctly to PDF please upload a separate file of the photo**\n",
    "\n"
   ]
  },
  {
   "cell_type": "markdown",
   "id": "e5d3e5d2-af3f-497b-958a-ab6443a81663",
   "metadata": {},
   "source": [
    "1.  Please read the data named `english`. Your team should generate a list as th result.  The first few lines of the result should look like this:\n",
    "\n",
    "```\n",
    "['i', 'me', 'my', 'myself', 'we', 'our', 'ours', 'ourselves', 'you', \"you're\", \"you've\", \"you'll\", \"you'd\", 'your', 'yours', 'yourself', 'yourselves', 'he', 'him', \n",
    "```\n",
    "\n",
    "The following may help you:\n",
    "\n",
    "- The .strip() method for strings (https://docs.python.org/3.10/library/stdtypes.html#str.strip) and \n",
    "\n",
    "- The .append( ) method for lists (https://docs.python.org/3.10/library/stdtypes.html#mutable-sequence-types) "
   ]
  },
  {
   "cell_type": "code",
   "execution_count": 1,
   "id": "46ed3a9a-3f97-4b9e-a1b5-b94e8e724703",
   "metadata": {
    "tags": []
   },
   "outputs": [],
   "source": [
    "# please type your code in here I will start you off\n",
    "\n",
    "# you will need something right here to hold the result\n",
    "\n",
    "with open(\"english\", \"r\") as f:\n",
    "    for engword in f:\n",
    "        pass # remove this line it is a placeholder for future code\n"
   ]
  },
  {
   "cell_type": "markdown",
   "id": "a9ba636b-4ad9-4025-9672-f2569daa4799",
   "metadata": {},
   "source": [
    "2. Recall wordle_sample.txt from a previous lecture:"
   ]
  },
  {
   "cell_type": "code",
   "execution_count": 2,
   "id": "7fdab480-369c-401f-be0b-4a2af36d5f6e",
   "metadata": {},
   "outputs": [],
   "source": [
    "with open('wordle_sample.txt', 'r') as f:\n",
    "    wordle_sample = f.read()\n",
    "\n",
    "wordle_small = wordle_sample.split()"
   ]
  },
  {
   "cell_type": "markdown",
   "id": "c627fda3-9726-470e-a433-c3f846a88c86",
   "metadata": {
    "tags": []
   },
   "source": [
    "It was not difficult to read, it's nice and organized/structured.  \n",
    "\n",
    "Today, we have a more challenging text file, it's called alice_small.txt.  Here is the start of the file:\n",
    "\n",
    "```\n",
    "Alice was beginning to get very tired of sitting by her sister on the\n",
    "bank, and of having nothing to do: once or twice she had peeped into\n",
    "the book her sister was reading, but it had no pictures or\n",
    "conversations in it, and what is the use of a book, thought Alice\n",
    "without pictures or conversations?\n",
    "```"
   ]
  },
  {
   "cell_type": "code",
   "execution_count": 3,
   "id": "edc98864-28df-4db1-835b-9d532858b04d",
   "metadata": {
    "tags": []
   },
   "outputs": [
    {
     "name": "stdout",
     "output_type": "stream",
     "text": [
      "[]\n"
     ]
    }
   ],
   "source": [
    "# please type your code in here I will start you off\n",
    "\n",
    "import string\n",
    "\n",
    "document = \"alice_small.txt\"\n",
    "\n",
    "words = []\n",
    "\n",
    "with open(document, \"r\") as input_file:\n",
    "    for line in input_file:\n",
    "        pass # remove this line it is a placeholder for future code\n",
    "        \n",
    "        # First, convert everything to lower case\n",
    "            \n",
    "        # Second, Remove punctuation using a for loop\n",
    "                \n",
    "        # Third, Split the line into words and store in the words list\n",
    "\n",
    "print(words[0:9])"
   ]
  },
  {
   "cell_type": "markdown",
   "id": "00e91bd7-119e-441e-9e7b-c9a75258793a",
   "metadata": {},
   "source": [
    "The first part of your result should look something like this:\n",
    "\n",
    "```\n",
    "['alice', 'was', 'beginning', 'to', 'get', 'very', 'tired', 'of', 'sitting']\n",
    "```"
   ]
  }
 ],
 "metadata": {
  "kernelspec": {
   "display_name": "Python 3 (ipykernel)",
   "language": "python",
   "name": "python3"
  },
  "language_info": {
   "codemirror_mode": {
    "name": "ipython",
    "version": 3
   },
   "file_extension": ".py",
   "mimetype": "text/x-python",
   "name": "python",
   "nbconvert_exporter": "python",
   "pygments_lexer": "ipython3",
   "version": "3.11.2"
  }
 },
 "nbformat": 4,
 "nbformat_minor": 5
}
