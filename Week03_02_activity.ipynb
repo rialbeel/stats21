{
 "cells": [
  {
   "cell_type": "markdown",
   "id": "17474efc-a435-431c-87b6-abcee356b403",
   "metadata": {
    "tags": []
   },
   "source": [
    "# Week03.2 In-Class Team Activity\n",
    "Thursday April 20th, 2023 - upload PDF with photograph (either rendered or a separate file) Due by 11:59pm\n",
    "\n",
    "If you missed class – no credit for this in-class activity, instead, I drop two unexcused absences from the Monday/Wednesday activities before deductions begin.\n",
    "\n",
    "- Please identify your team & the names of your teammates. \n",
    "\n",
    "- Please insert a team photo somewhere in this notebook.  If you cannot get the to render correctly to PDF please upload a separate file of the photo\n",
    "\n"
   ]
  },
  {
   "attachments": {},
   "cell_type": "markdown",
   "id": "cc8a87c8",
   "metadata": {},
   "source": [
    "Names: "
   ]
  },
  {
   "cell_type": "code",
   "execution_count": null,
   "id": "d64fff78",
   "metadata": {},
   "outputs": [],
   "source": []
  },
  {
   "cell_type": "markdown",
   "id": "d0e27852-51fe-4af1-8b02-5e8924f1e0d9",
   "metadata": {
    "slideshow": {
     "slide_type": "slide"
    },
    "tags": []
   },
   "source": [
    "## Activity 1\n",
    "\n",
    "- Suppose your team was asked to write your own mean function without using an import of any kind.  Suppose a list of numeric values will  be  your input.\n",
    "\n",
    "- Where do you begin? First you need to know what mean is and how it is calculated."
   ]
  },
  {
   "cell_type": "markdown",
   "id": "96f35f08-c6a3-49d0-9a7e-7b1238d2242d",
   "metadata": {
    "slideshow": {
     "slide_type": "slide"
    },
    "tags": []
   },
   "source": [
    "### Step 1\n",
    "\n",
    "Before writing the code, as a team, please identify the steps your function needs to perform:\n",
    "\n",
    "`please fill in the steps, in Markdown, not Python`"
   ]
  },
  {
   "cell_type": "markdown",
   "id": "1af1316a-9c2c-4cf5-9386-9f2156b46fe0",
   "metadata": {},
   "source": [
    "### Step 2\n",
    "\n",
    "Please make a team attempt to program a mean, to me this means to make a reasonable attempt to discuss it among yourselves and have agreement as to what should be done.  It's OK if you don't finish during class it's due tomorrow night."
   ]
  },
  {
   "cell_type": "code",
   "execution_count": 33,
   "id": "31bb51d9-4b8f-478e-b79d-2dcd541b1c79",
   "metadata": {},
   "outputs": [],
   "source": [
    "def arithmetic_mean(values):\n",
    "    pass"
   ]
  },
  {
   "cell_type": "markdown",
   "id": "38a516d9-970f-439f-80ea-010526a65dd8",
   "metadata": {},
   "source": [
    "## Activity 2 (optional) \n",
    "\n",
    "At the end of Week 2, lecture 3, there was an extra section on reading `iris.csv` and extracting the data from one of the columns.\n",
    "\n",
    "**Think** about how you would write a more general function to extract all of the columns from `iris.csv` or all of the columns from a different .csv file.  \n",
    "\n",
    "The real exercise here is to outline the logical steps **rather** than actually programming it because someone has already written a Python function in a package to do exactly that.  **BUT** \n",
    "of course you can try it..."
   ]
  }
 ],
 "metadata": {
  "kernelspec": {
   "display_name": "Python 3 (ipykernel)",
   "language": "python",
   "name": "python3"
  },
  "language_info": {
   "codemirror_mode": {
    "name": "ipython",
    "version": 3
   },
   "file_extension": ".py",
   "mimetype": "text/x-python",
   "name": "python",
   "nbconvert_exporter": "python",
   "pygments_lexer": "ipython3",
   "version": "3.11.2"
  }
 },
 "nbformat": 4,
 "nbformat_minor": 5
}
