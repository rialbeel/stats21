{
 "cells": [
  {
   "cell_type": "markdown",
   "id": "17474efc-a435-431c-87b6-abcee356b403",
   "metadata": {
    "tags": []
   },
   "source": [
    "## Week02.3 In-Class Team Activity\n",
    "Saturday April 15th, 2023 - upload PDF with photograph (either rendered or a separate file) Due by 11:59pm\n",
    "\n",
    "If you missed class – no credit for this in-class activity, instead, I drop two unexcused absences from the Monday/Wednesday activities before deductions begin.\n",
    "\n",
    "- Please identify your team & the names of your teammates. \n",
    "\n",
    "- Please insert a team photo somewhere in this notebook.  If you cannot get the to render correctly to PDF please upload a separate file of the photo\n",
    "\n"
   ]
  },
  {
   "attachments": {},
   "cell_type": "markdown",
   "id": "c251bbb0",
   "metadata": {},
   "source": [
    "Names:"
   ]
  },
  {
   "cell_type": "code",
   "execution_count": null,
   "id": "73748475",
   "metadata": {},
   "outputs": [],
   "source": []
  },
  {
   "cell_type": "markdown",
   "id": "e5d3e5d2-af3f-497b-958a-ab6443a81663",
   "metadata": {},
   "source": [
    "1.  Please demonstrate that your team can construct   \n",
    "\n",
    "(a) a list comprised of string values    \n",
    "(b) an empty list    \n",
    "(c) a list of numeric values    "
   ]
  },
  {
   "cell_type": "code",
   "execution_count": 2,
   "id": "46ed3a9a-3f97-4b9e-a1b5-b94e8e724703",
   "metadata": {
    "jupyter": {
     "source_hidden": true
    },
    "tags": []
   },
   "outputs": [],
   "source": [
    "# please type your code in here\n",
    "string_list = [\"a\", \"b\", \"c\", \"d\", \"e\"]\n",
    "empty_list = list()\n",
    "numeric_list = [1, 2, 3, 4, 5, 6, 7, 8, 9, 10]"
   ]
  },
  {
   "cell_type": "markdown",
   "id": "a9ba636b-4ad9-4025-9672-f2569daa4799",
   "metadata": {},
   "source": [
    "2. Recall wordle_sample.txt from a previous lecture:"
   ]
  },
  {
   "cell_type": "code",
   "execution_count": 3,
   "id": "7fdab480-369c-401f-be0b-4a2af36d5f6e",
   "metadata": {},
   "outputs": [],
   "source": [
    "with open('wordle_sample.txt', 'r') as f:\n",
    "    wordle_sample = f.read()\n",
    "\n",
    "wordle_small = wordle_sample.split()"
   ]
  },
  {
   "cell_type": "markdown",
   "id": "c627fda3-9726-470e-a433-c3f846a88c86",
   "metadata": {
    "tags": []
   },
   "source": [
    "Please show that you can:    \n",
    "\n",
    "(a) sort wordle_sample alphabetically  \n",
    "(b) access the first letter of any word in the list  \n",
    "(c) (optional) how would you obtain a list of the first  letter of each word?  "
   ]
  },
  {
   "cell_type": "code",
   "execution_count": 29,
   "id": "edc98864-28df-4db1-835b-9d532858b04d",
   "metadata": {
    "tags": []
   },
   "outputs": [
    {
     "name": "stdout",
     "output_type": "stream",
     "text": [
      "['abate', 'abuse', 'actor', 'adage', 'admin', 'adorn', 'adult', 'agile', 'alarm', 'album', 'algae', 'alone', 'amass', 'amble', 'amend', 'amiss', 'amply', 'anger', 'apart', 'apnea', 'arrow', 'attic', 'augur', 'baron', 'basal', 'basic', 'bawdy', 'beach', 'beady', 'beard', 'being', 'belly', 'berth', 'bevel', 'bingo', 'biome', 'birth', 'bleat', 'bleep', 'blend', 'bluer', 'boney', 'bongo', 'booby', 'borne', 'bowel', 'brand', 'brawl', 'bread', 'brick', 'brink', 'brook', 'broom', 'brown', 'brush', 'bulge', 'cabal', 'cacao', 'cairn', 'canal', 'canny', 'cargo', 'chant', 'choke', 'chose', 'claim', 'clank', 'cleat', 'climb', 'clone', 'cocoa', 'copse', 'corer', 'count', 'court', 'coven', 'cover', 'covet', 'covey', 'cower', 'crate', 'crazy', 'credo', 'creed', 'creme', 'crepe', 'crisp', 'crony', 'crude', 'crump', 'curse', 'dairy', 'dally', 'decal', 'decoy', 'decry', 'deign', 'denim', 'dingo', 'dirty', 'disco', 'ditto', 'dowdy', 'drawn', 'dress', 'drown', 'drunk', 'dryer', 'dryly', 'dwarf', 'dwelt', 'eight', 'eking', 'elect', 'elope', 'ember', 'essay', 'every', 'exist', 'fecal', 'felon', 'fence', 'ferry', 'fiend', 'fight', 'filmy', 'finer', 'fishy', 'fjord', 'flail', 'fleck', 'fling', 'float', 'floss', 'fluff', 'foamy', 'foggy', 'folly', 'forgo', 'forty', 'foyer', 'frank', 'frock', 'front', 'fully', 'fungi', 'funky', 'gaffe', 'gassy', 'gecko', 'gipsy', 'glass', 'glide', 'glove', 'godly', 'goner', 'goose', 'grasp', 'grass', 'grave', 'great', 'groin', 'gross', 'grove', 'guppy', 'halve', 'harry', 'harsh', 'heard', 'hedge', 'hinge', 'hobby', 'horny', 'horse', 'hovel', 'humus', 'husky', 'icily', 'inlet', 'inter', 'irate', 'itchy', 'jaunt', 'jumbo', 'junta', 'junto', 'kayak', 'khaki', 'kneed', 'lanky', 'larva', 'leant', 'leapt', 'lemon', 'liver', 'lorry', 'louse', 'lowly', 'loyal', 'madam', 'mammy', 'manor', 'marry', 'matey', 'meaty', 'meter', 'might', 'miner', 'modem', 'moldy', 'mound', 'mourn', 'munch', 'naval', 'neigh', 'nerve', 'ninja', 'nomad', 'ocean', 'oddly', 'offer', 'onion', 'opium', 'ovoid', 'panel', 'pansy', 'papal', 'parka', 'parry', 'pedal', 'pinto', 'piper', 'pizza', 'plied', 'pluck', 'plunk', 'prior', 'prism', 'privy', 'prone', 'prose', 'psalm', 'puffy', 'puppy', 'quark', 'quash', 'query', 'quilt', 'quite', 'radii', 'ralph', 'ranch', 'raven', 'reach', 'rebus', 'reedy', 'renal', 'rhino', 'rifle', 'right', 'rigid', 'rigor', 'rival', 'rumor', 'rusty', 'salad', 'salty', 'salve', 'savoy', 'savvy', 'scamp', 'scene', 'score', 'scree', 'screw', 'sepia', 'serum', 'sever', 'sewer', 'shape', 'shear', 'shire', 'shock', 'shove', 'shrug', 'shunt', 'siege', 'silky', 'sissy', 'skulk', 'skull', 'slack', 'slain', 'slyly', 'smash', 'smell', 'snack', 'snake', 'sniff', 'snuck', 'solid', 'spank', 'spare', 'spend', 'spent', 'sperm', 'spiky', 'spine', 'sprig', 'stalk', 'stare', 'start', 'state', 'stave', 'steal', 'stoke', 'stoop', 'story', 'stung', 'stunk', 'suave', 'suing', 'swear', 'sweet', 'syrup', 'taffy', 'tangy', 'theft', 'theme', 'tidal', 'tiger', 'timer', 'toddy', 'tonga', 'trend', 'tripe', 'troop', 'tweak', 'udder', 'undid', 'undue', 'untie', 'until', 'upset', 'usurp', 'value', 'vegan', 'venom', 'vinyl', 'vogue', 'whelp', 'wider', 'widow', 'wince', 'wiser', 'witch', 'witty', 'women', 'wordy', 'worry', 'wound', 'wreak', 'wrist', 'yacht', 'zebra']\n",
      "365\n",
      "m\n",
      "['a', 'a', 'a', 'a', 'a', 'a', 'a', 'a', 'a', 'a', 'a', 'a', 'a', 'a', 'a', 'a', 'a', 'a', 'a', 'a', 'a', 'a', 'a', 'b', 'b', 'b', 'b', 'b', 'b', 'b', 'b', 'b', 'b', 'b', 'b', 'b', 'b', 'b', 'b', 'b', 'b', 'b', 'b', 'b', 'b', 'b', 'b', 'b', 'b', 'b', 'b', 'b', 'b', 'b', 'b', 'b', 'c', 'c', 'c', 'c', 'c', 'c', 'c', 'c', 'c', 'c', 'c', 'c', 'c', 'c', 'c', 'c', 'c', 'c', 'c', 'c', 'c', 'c', 'c', 'c', 'c', 'c', 'c', 'c', 'c', 'c', 'c', 'c', 'c', 'c', 'c', 'd', 'd', 'd', 'd', 'd', 'd', 'd', 'd', 'd', 'd', 'd', 'd', 'd', 'd', 'd', 'd', 'd', 'd', 'd', 'd', 'e', 'e', 'e', 'e', 'e', 'e', 'e', 'e', 'f', 'f', 'f', 'f', 'f', 'f', 'f', 'f', 'f', 'f', 'f', 'f', 'f', 'f', 'f', 'f', 'f', 'f', 'f', 'f', 'f', 'f', 'f', 'f', 'f', 'f', 'f', 'f', 'g', 'g', 'g', 'g', 'g', 'g', 'g', 'g', 'g', 'g', 'g', 'g', 'g', 'g', 'g', 'g', 'g', 'g', 'h', 'h', 'h', 'h', 'h', 'h', 'h', 'h', 'h', 'h', 'h', 'h', 'i', 'i', 'i', 'i', 'i', 'j', 'j', 'j', 'j', 'k', 'k', 'k', 'l', 'l', 'l', 'l', 'l', 'l', 'l', 'l', 'l', 'l', 'm', 'm', 'm', 'm', 'm', 'm', 'm', 'm', 'm', 'm', 'm', 'm', 'm', 'm', 'n', 'n', 'n', 'n', 'n', 'o', 'o', 'o', 'o', 'o', 'o', 'p', 'p', 'p', 'p', 'p', 'p', 'p', 'p', 'p', 'p', 'p', 'p', 'p', 'p', 'p', 'p', 'p', 'p', 'p', 'p', 'q', 'q', 'q', 'q', 'q', 'r', 'r', 'r', 'r', 'r', 'r', 'r', 'r', 'r', 'r', 'r', 'r', 'r', 'r', 'r', 'r', 's', 's', 's', 's', 's', 's', 's', 's', 's', 's', 's', 's', 's', 's', 's', 's', 's', 's', 's', 's', 's', 's', 's', 's', 's', 's', 's', 's', 's', 's', 's', 's', 's', 's', 's', 's', 's', 's', 's', 's', 's', 's', 's', 's', 's', 's', 's', 's', 's', 's', 's', 's', 's', 's', 's', 's', 's', 's', 's', 's', 't', 't', 't', 't', 't', 't', 't', 't', 't', 't', 't', 't', 't', 'u', 'u', 'u', 'u', 'u', 'u', 'u', 'v', 'v', 'v', 'v', 'v', 'w', 'w', 'w', 'w', 'w', 'w', 'w', 'w', 'w', 'w', 'w', 'w', 'w', 'y', 'z']\n"
     ]
    }
   ],
   "source": [
    "# please type your code in here\n",
    "# a)\n",
    "sorted_list = sorted(wordle_sample.split())\n",
    "print(sorted_list)\n",
    "# b)\n",
    "# let x be the word you want to access\n",
    "length_of_list = len(sorted_list)\n",
    "print(length_of_list)\n",
    "x = 200\n",
    "print(sorted_list[x - 1][0])\n",
    "#c)\n",
    "first_letter_list = list([None] * 365)\n",
    "for index in range(0, length_of_list):\n",
    "    first_letter_list[index] = sorted_list[index][0]\n",
    "print(first_letter_list)"
   ]
  },
  {
   "cell_type": "markdown",
   "id": "547ee510-ce20-496d-b457-7ed0826892e2",
   "metadata": {},
   "source": [
    "3. Using the data in the next cell, can you think of **two** different ways to append the list height to the list name?"
   ]
  },
  {
   "cell_type": "code",
   "execution_count": 31,
   "id": "460335ad-e81c-4ae4-89dd-adc5cf7013b6",
   "metadata": {},
   "outputs": [],
   "source": [
    "name = [\"Luke Skywalker\", \"C-3PO\", \"R2-D2\", \"Darth Vader\",\n",
    "        \"Leia Organa\", \"Owen Lars\", \"Beru Whitesun lars\" , \n",
    "        \"R5-D4\", \"Biggs Darklighter\" ,\"Obi-Wan Kenobi\"]\n",
    "height = [172, 167, 96, 202, 150, 178, 165, 97, 183, 182]"
   ]
  },
  {
   "cell_type": "code",
   "execution_count": 35,
   "id": "7269cf88-a4dd-4fb9-a32b-3af2de360022",
   "metadata": {
    "tags": []
   },
   "outputs": [
    {
     "name": "stdout",
     "output_type": "stream",
     "text": [
      "['Luke Skywalker', 'C-3PO', 'R2-D2', 'Darth Vader', 'Leia Organa', 'Owen Lars', 'Beru Whitesun lars', 'R5-D4', 'Biggs Darklighter', 'Obi-Wan Kenobi', 172, 167, 96, 202, 150, 178, 165, 97, 183, 182, 172, 167, 96, 202, 150, 178, 165, 97, 183, 182]\n",
      "['Luke Skywalker', 'C-3PO', 'R2-D2', 'Darth Vader', 'Leia Organa', 'Owen Lars', 'Beru Whitesun lars', 'R5-D4', 'Biggs Darklighter', 'Obi-Wan Kenobi', 172, 167, 96, 202, 150, 178, 165, 97, 183, 182, 172, 167, 96, 202, 150, 178, 165, 97, 183, 182] "
     ]
    }
   ],
   "source": [
    "# please type your code in here\n",
    "concatenated_list = name + height\n",
    "print(concatenated_list)\n",
    "name.extend(height)\n",
    "print(name, end = \" \")"
   ]
  },
  {
   "cell_type": "code",
   "execution_count": null,
   "id": "66af0c1a",
   "metadata": {},
   "outputs": [],
   "source": []
  }
 ],
 "metadata": {
  "kernelspec": {
   "display_name": "Python 3 (ipykernel)",
   "language": "python",
   "name": "python3"
  },
  "language_info": {
   "codemirror_mode": {
    "name": "ipython",
    "version": 3
   },
   "file_extension": ".py",
   "mimetype": "text/x-python",
   "name": "python",
   "nbconvert_exporter": "python",
   "pygments_lexer": "ipython3",
   "version": "3.11.2"
  }
 },
 "nbformat": 4,
 "nbformat_minor": 5
}
