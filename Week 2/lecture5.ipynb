{
 "cells": [
  {
   "attachments": {},
   "cell_type": "markdown",
   "metadata": {},
   "source": [
    "## Lecture 5"
   ]
  },
  {
   "cell_type": "code",
   "execution_count": 6,
   "metadata": {},
   "outputs": [
    {
     "name": "stdout",
     "output_type": "stream",
     "text": [
      "<class 'float'>\n"
     ]
    }
   ],
   "source": [
    "# Division always results in a float\n",
    "print(type(7/7))"
   ]
  },
  {
   "cell_type": "code",
   "execution_count": 7,
   "metadata": {},
   "outputs": [
    {
     "name": "stdout",
     "output_type": "stream",
     "text": [
      "UCLA!UCLA!UCLA!\n"
     ]
    }
   ],
   "source": [
    "print(\"UCLA!\" * 3)"
   ]
  },
  {
   "cell_type": "code",
   "execution_count": 8,
   "metadata": {},
   "outputs": [
    {
     "name": "stdout",
     "output_type": "stream",
     "text": [
      "1.4142135623730951\n"
     ]
    }
   ],
   "source": [
    "import math\n",
    "print(math.sqrt(2))"
   ]
  },
  {
   "cell_type": "code",
   "execution_count": 10,
   "metadata": {},
   "outputs": [
    {
     "name": "stdout",
     "output_type": "stream",
     "text": [
      "['apple', 'banana', 'pear']\n"
     ]
    }
   ],
   "source": [
    "# Try to have as helpful of a variable name as possible\n",
    "fruit_names = [\"apple\", \"banana\", \"pear\"]\n",
    "print(fruit_names)"
   ]
  },
  {
   "cell_type": "code",
   "execution_count": 12,
   "metadata": {},
   "outputs": [],
   "source": [
    "# For booleans, use camelCase\n",
    "isSelected = False\n",
    "# Can also use camelCase for numeric variables\n",
    "maxRows = 4"
   ]
  },
  {
   "cell_type": "code",
   "execution_count": 18,
   "metadata": {},
   "outputs": [
    {
     "name": "stdout",
     "output_type": "stream",
     "text": [
      "['BMW', 'Ford', 'Toyota', 'Volvo']\n",
      "['Ford', 'BMW', 'Volvo', 'Toyota']\n",
      "['BMW', 'Ford', 'Toyota', 'Volvo']\n"
     ]
    }
   ],
   "source": [
    "# Functions that directly modify an object/input should be named with an active verb\n",
    "# Functions that do not directly modify an object/input should use a passive verb\n",
    "carBrandNames = [\"Ford\", \"BMW\", \"Volvo\", \"Toyota\"]\n",
    "print(sorted(carBrandNames))\n",
    "print(carBrandNames)\n",
    "carBrandNames.sort()\n",
    "print(carBrandNames)\n",
    "\n"
   ]
  },
  {
   "cell_type": "code",
   "execution_count": 25,
   "metadata": {},
   "outputs": [
    {
     "name": "stdout",
     "output_type": "stream",
     "text": [
      "range(1, 11)\n",
      "10\n",
      "1\n",
      "10\n",
      "55\n"
     ]
    }
   ],
   "source": [
    "# range(start, stop, step)\n",
    "my_range = range(1, 11)\n",
    "print(my_range)\n",
    "print(len(my_range))\n",
    "print(min(my_range))\n",
    "print(max(my_range))\n",
    "print(sum(my_range))"
   ]
  },
  {
   "cell_type": "code",
   "execution_count": 29,
   "metadata": {},
   "outputs": [
    {
     "name": "stdout",
     "output_type": "stream",
     "text": [
      "['d', 'e', 'f']\n"
     ]
    }
   ],
   "source": [
    "a = [\"a\", \"b\", \"c\", \"d\", \"e\", \"f\", \"g\"]\n",
    "x = slice(3, 6)\n",
    "print(a[x])"
   ]
  },
  {
   "cell_type": "code",
   "execution_count": 31,
   "metadata": {},
   "outputs": [
    {
     "name": "stdout",
     "output_type": "stream",
     "text": [
      "1 4 9 16 25 36 49 64 81 100 "
     ]
    }
   ],
   "source": [
    "# for variable in iterable:\n",
    "for r in my_range:\n",
    "    print(r**2, end = \" \")"
   ]
  },
  {
   "cell_type": "code",
   "execution_count": 32,
   "metadata": {},
   "outputs": [
    {
     "name": "stdout",
     "output_type": "stream",
     "text": [
      "-3 must be negative\n"
     ]
    }
   ],
   "source": [
    "x = -3\n",
    "if x == 0:\n",
    "    print(f\"{x} is zero\")\n",
    "elif x > 0:\n",
    "    print(f\"{x} is positive\")\n",
    "else:\n",
    "    print(f\"{x} must be negative\")"
   ]
  },
  {
   "cell_type": "code",
   "execution_count": 33,
   "metadata": {},
   "outputs": [
    {
     "name": "stdout",
     "output_type": "stream",
     "text": [
      "1 9 25 49 81 "
     ]
    }
   ],
   "source": [
    "for r in my_range:\n",
    "    if r % 2:\n",
    "        print(r**2, end = \" \")"
   ]
  }
 ],
 "metadata": {
  "kernelspec": {
   "display_name": "Python 3",
   "language": "python",
   "name": "python3"
  },
  "language_info": {
   "codemirror_mode": {
    "name": "ipython",
    "version": 3
   },
   "file_extension": ".py",
   "mimetype": "text/x-python",
   "name": "python",
   "nbconvert_exporter": "python",
   "pygments_lexer": "ipython3",
   "version": "3.11.2"
  },
  "orig_nbformat": 4
 },
 "nbformat": 4,
 "nbformat_minor": 2
}
