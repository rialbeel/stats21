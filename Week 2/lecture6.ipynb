{
 "cells": [
  {
   "attachments": {},
   "cell_type": "markdown",
   "metadata": {},
   "source": [
    "## Lecture 6"
   ]
  },
  {
   "cell_type": "code",
   "execution_count": 9,
   "metadata": {},
   "outputs": [
    {
     "name": "stdout",
     "output_type": "stream",
     "text": [
      "0 1 2 3 4 5 6 7 8 9 "
     ]
    }
   ],
   "source": [
    "x = 0\n",
    "while x < 10:\n",
    "    print(x, end = \" \")\n",
    "    x += 1\n",
    "\n",
    "# be careful with while loops as it can run infinitely"
   ]
  },
  {
   "cell_type": "code",
   "execution_count": 10,
   "metadata": {},
   "outputs": [
    {
     "data": {
      "text/plain": [
       "True"
      ]
     },
     "execution_count": 10,
     "metadata": {},
     "output_type": "execute_result"
    }
   ],
   "source": [
    "# booleans output as True or False\n",
    "5 == 5"
   ]
  },
  {
   "cell_type": "code",
   "execution_count": 11,
   "metadata": {},
   "outputs": [
    {
     "data": {
      "text/plain": [
       "True"
      ]
     },
     "execution_count": 11,
     "metadata": {},
     "output_type": "execute_result"
    }
   ],
   "source": [
    "5 != 6"
   ]
  },
  {
   "cell_type": "code",
   "execution_count": 1,
   "metadata": {},
   "outputs": [
    {
     "data": {
      "text/plain": [
       "False"
      ]
     },
     "execution_count": 1,
     "metadata": {},
     "output_type": "execute_result"
    }
   ],
   "source": [
    "# can also compare strings\n",
    "\"a\" > \"z\""
   ]
  },
  {
   "cell_type": "code",
   "execution_count": 3,
   "metadata": {},
   "outputs": [
    {
     "data": {
      "text/plain": [
       "True"
      ]
     },
     "execution_count": 3,
     "metadata": {},
     "output_type": "execute_result"
    }
   ],
   "source": [
    "\"a\" > \"A\""
   ]
  },
  {
   "cell_type": "code",
   "execution_count": 4,
   "metadata": {},
   "outputs": [
    {
     "data": {
      "text/plain": [
       "True"
      ]
     },
     "execution_count": 4,
     "metadata": {},
     "output_type": "execute_result"
    }
   ],
   "source": [
    "\"a\" in \"bananas\""
   ]
  },
  {
   "cell_type": "code",
   "execution_count": 7,
   "metadata": {},
   "outputs": [
    {
     "name": "stdout",
     "output_type": "stream",
     "text": [
      "I love cookies\n",
      "['I', 'love', 'cookies']\n",
      "['I love cookies']\n",
      "['I', ' ', 'l', 'o', 'v', 'e', ' ', 'c', 'o', 'o', 'k', 'i', 'e', 's']\n"
     ]
    }
   ],
   "source": [
    "# list is a data structure in Python; can be mutable and ordered\n",
    "# can be made using [] or list() or as a result of a different function/method\n",
    "# items in a list are separated by commas\n",
    "s = \"I love cookies\"\n",
    "s_list_split = s.split()\n",
    "s_list_square = [s]\n",
    "s_list_function = list(s)\n",
    "\n",
    "print(s)\n",
    "print(s_list_split)\n",
    "print(s_list_square)\n",
    "print(s_list_function)"
   ]
  },
  {
   "cell_type": "code",
   "execution_count": 15,
   "metadata": {},
   "outputs": [],
   "source": [
    "my_list = [\"Luke Skywalker\", 172, \"C-3PO\", 167, \"R2-D2\", 96, \"Darth Vader\", 202]\n",
    "\n",
    "first_element = my_list[0]\n",
    "second_element = my_list[1]\n",
    "last_element = my_list[-1]"
   ]
  },
  {
   "cell_type": "code",
   "execution_count": 16,
   "metadata": {},
   "outputs": [],
   "source": [
    "# can also slice, append, insert, and extend lists\n",
    "names = my_list[0::2]\n",
    "height = my_list[1::2]"
   ]
  },
  {
   "cell_type": "code",
   "execution_count": 17,
   "metadata": {},
   "outputs": [
    {
     "name": "stdout",
     "output_type": "stream",
     "text": [
      "['Luke Skywalker', 172, 'Leia Organa', 122, 'C-3PO', 167, 'R2-D2', 96, 'Darth Vader', 202]\n"
     ]
    }
   ],
   "source": [
    "my_list.insert(2, \"Leia Organa\")\n",
    "my_list.insert(3, 122)\n",
    "print(my_list)"
   ]
  },
  {
   "cell_type": "code",
   "execution_count": 18,
   "metadata": {},
   "outputs": [
    {
     "name": "stdout",
     "output_type": "stream",
     "text": [
      "['Luke Skywalker', 172, 122, 'C-3PO', 167, 'R2-D2', 96, 'Darth Vader', 202]\n",
      "['Luke Skywalker', 172, 'C-3PO', 167, 'R2-D2', 96, 'Darth Vader', 202]\n"
     ]
    }
   ],
   "source": [
    "my_list.remove(\"Leia Organa\")\n",
    "print(my_list)\n",
    "my_list.pop(2)\n",
    "print(my_list)"
   ]
  },
  {
   "cell_type": "code",
   "execution_count": null,
   "metadata": {},
   "outputs": [],
   "source": [
    "# Shallow copy is "
   ]
  }
 ],
 "metadata": {
  "kernelspec": {
   "display_name": "Python 3",
   "language": "python",
   "name": "python3"
  },
  "language_info": {
   "codemirror_mode": {
    "name": "ipython",
    "version": 3
   },
   "file_extension": ".py",
   "mimetype": "text/x-python",
   "name": "python",
   "nbconvert_exporter": "python",
   "pygments_lexer": "ipython3",
   "version": "3.11.2"
  },
  "orig_nbformat": 4
 },
 "nbformat": 4,
 "nbformat_minor": 2
}
