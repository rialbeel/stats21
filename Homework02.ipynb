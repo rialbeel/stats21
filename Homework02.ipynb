{
 "cells": [
  {
   "cell_type": "markdown",
   "metadata": {},
   "source": [
    "# Stats 21 - HW 2 - Due 4/22/2023 by 11:59PM\n",
    "## Please modify this line by replacing it with your name and SID thank you."
   ]
  },
  {
   "cell_type": "markdown",
   "metadata": {},
   "source": [
    "**Homework is generally an opportunity to practice coding and to train your problem solving and critical thinking skills. Putting Python to use is where learning happens.**\n",
    "\n",
    "**Copying and pasting another's solutions takes away your learning opportunities. It is also academic dishonesty.**\n",
    "\n",
    "**ChatGPT is always allowed in this class, but do remember, it is not foolproof and if your solution looks too much like another submission, I am required to file a report**\n",
    "\n",
    "Please use this document as your homework template and submit both the modified .ipynb file and a PDF export."
   ]
  },
  {
   "cell_type": "markdown",
   "metadata": {
    "tags": []
   },
   "source": [
    "## Assignment\n",
    "### 1. Data Types (2pts)\n",
    "\n",
    "Please evaluate these expressions as if you were going to evaluate them using Python **BUT TRY NOT TO** evaluate instead, look at them first and identify the result by adding a comment inline.  Of course you can evaluate them to check and correct, but do try it without Python.  I will do the first one for you"
   ]
  },
  {
   "cell_type": "code",
   "execution_count": null,
   "metadata": {
    "tags": []
   },
   "outputs": [],
   "source": [
    "34 # int\n",
    "34 / 2\n",
    "34 % 3\n",
    "True\n",
    "'True'\n",
    "'True' * 4\n",
    "34 < 12\n",
    "4**2\n",
    "4.**2\n",
    "'5012888748274991661034926292112253883237205694398754483388962668892510972746226260A'"
   ]
  },
  {
   "cell_type": "markdown",
   "metadata": {
    "tags": []
   },
   "source": [
    "If you got any of those wrong, please do stop and ask yourself why."
   ]
  },
  {
   "cell_type": "markdown",
   "metadata": {
    "tags": []
   },
   "source": [
    "### 2.Working with Strings (3pts)\n",
    "\n",
    "Please refer back to the Gettysburg Address (or any other comparably short work - like lyrics to your favorite song or some other work) and try the following questions\n",
    "\n",
    "(a) Count the words (not individual letters) it's OK to leave the punctuation in (but if you know how to remove it or want to learn, go ahead)"
   ]
  },
  {
   "cell_type": "code",
   "execution_count": null,
   "metadata": {},
   "outputs": [],
   "source": [
    "## answer to 3a"
   ]
  },
  {
   "cell_type": "markdown",
   "metadata": {},
   "source": [
    "(b) Count the presence of any one specific word.  For example \"and\""
   ]
  },
  {
   "cell_type": "code",
   "execution_count": null,
   "metadata": {},
   "outputs": [],
   "source": [
    "## answer to 3b"
   ]
  },
  {
   "cell_type": "markdown",
   "metadata": {
    "tags": []
   },
   "source": [
    "(c) Please choose any word and demonstrate that you can replace it.  "
   ]
  },
  {
   "cell_type": "code",
   "execution_count": null,
   "metadata": {},
   "outputs": [],
   "source": [
    "## answer to 3c"
   ]
  },
  {
   "cell_type": "markdown",
   "metadata": {},
   "source": [
    "### 4. Generating Sequences (2pts)\n",
    "\n",
    "(a) Please show us how to generate a sequence of the first 10 positive even numbers"
   ]
  },
  {
   "cell_type": "code",
   "execution_count": null,
   "metadata": {
    "tags": []
   },
   "outputs": [],
   "source": [
    "## answer to 4a"
   ]
  },
  {
   "cell_type": "markdown",
   "metadata": {},
   "source": [
    "(b) Please show us how to generate a sequence of the first 'n' powers of 2 (2^0, 2^1, 2^2, ... 2^n), where 'n' is a positive integer."
   ]
  },
  {
   "cell_type": "code",
   "execution_count": null,
   "metadata": {
    "tags": []
   },
   "outputs": [],
   "source": [
    "## answer to 4b"
   ]
  },
  {
   "cell_type": "markdown",
   "metadata": {},
   "source": [
    "## 5. Conditionals (3pts)\n",
    "\n",
    "Given an integer (0-100) representing a student's grade, please write a bit of code to classify it into one of the following categories:\n",
    "\n",
    "A: 90-100\n",
    "B: 80-89\n",
    "C: 51-79\n",
    "F: 0-50\n"
   ]
  },
  {
   "cell_type": "code",
   "execution_count": null,
   "metadata": {},
   "outputs": [],
   "source": [
    "## please use following values to show us\n",
    "## that your classifier works\n",
    "\n",
    "student_grade = [91.2, 83, 57.3, 12]\n"
   ]
  }
 ],
 "metadata": {
  "kernelspec": {
   "display_name": "Python 3 (ipykernel)",
   "language": "python",
   "name": "python3"
  },
  "language_info": {
   "codemirror_mode": {
    "name": "ipython",
    "version": 3
   },
   "file_extension": ".py",
   "mimetype": "text/x-python",
   "name": "python",
   "nbconvert_exporter": "python",
   "pygments_lexer": "ipython3",
   "version": "3.11.2"
  }
 },
 "nbformat": 4,
 "nbformat_minor": 4
}
