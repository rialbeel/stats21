{
 "cells": [
  {
   "attachments": {},
   "cell_type": "markdown",
   "metadata": {},
   "source": [
    "# Stats 21 - HW 2 - Due 4/22/2023 by 11:59PM\n",
    "## Blair Lee - 005721089"
   ]
  },
  {
   "cell_type": "markdown",
   "metadata": {},
   "source": [
    "**Homework is generally an opportunity to practice coding and to train your problem solving and critical thinking skills. Putting Python to use is where learning happens.**\n",
    "\n",
    "**Copying and pasting another's solutions takes away your learning opportunities. It is also academic dishonesty.**\n",
    "\n",
    "**ChatGPT is always allowed in this class, but do remember, it is not foolproof and if your solution looks too much like another submission, I am required to file a report**\n",
    "\n",
    "Please use this document as your homework template and submit both the modified .ipynb file and a PDF export."
   ]
  },
  {
   "cell_type": "markdown",
   "metadata": {
    "tags": []
   },
   "source": [
    "## Assignment\n",
    "### 1. Data Types (2pts)\n",
    "\n",
    "Please evaluate these expressions as if you were going to evaluate them using Python **BUT TRY NOT TO** evaluate instead, look at them first and identify the result by adding a comment inline.  Of course you can evaluate them to check and correct, but do try it without Python.  I will do the first one for you"
   ]
  },
  {
   "cell_type": "code",
   "execution_count": 11,
   "metadata": {
    "tags": []
   },
   "outputs": [
    {
     "data": {
      "text/plain": [
       "'5012888748274991661034926292112253883237205694398754483388962668892510972746226260A'"
      ]
     },
     "execution_count": 11,
     "metadata": {},
     "output_type": "execute_result"
    }
   ],
   "source": [
    "34 # int\n",
    "34 / 2 # float\n",
    "34 % 3 # int\n",
    "True # bool\n",
    "'True' # str\n",
    "'True' * 4 # str\n",
    "34 < 12 # bool\n",
    "4**2 # int\n",
    "4.**2 # float\n",
    "'5012888748274991661034926292112253883237205694398754483388962668892510972746226260A' # str"
   ]
  },
  {
   "cell_type": "markdown",
   "metadata": {
    "tags": []
   },
   "source": [
    "If you got any of those wrong, please do stop and ask yourself why."
   ]
  },
  {
   "attachments": {},
   "cell_type": "markdown",
   "metadata": {
    "tags": []
   },
   "source": [
    "### 2. Working with Strings (3pts)\n",
    "\n",
    "Please refer back to the Gettysburg Address (or any other comparably short work - like lyrics to your favorite song or some other work) and try the following questions\n",
    "\n",
    "(a) Count the words (not individual letters) it's OK to leave the punctuation in (but if you know how to remove it or want to learn, go ahead)"
   ]
  },
  {
   "cell_type": "code",
   "execution_count": 52,
   "metadata": {},
   "outputs": [
    {
     "name": "stdout",
     "output_type": "stream",
     "text": [
      "267\n"
     ]
    }
   ],
   "source": [
    "## answer to 3a\n",
    "import requests\n",
    "import string\n",
    "\n",
    "url = 'http://www.stat.ucla.edu/~vlew/datasets/gettysburg.txt'\n",
    "\n",
    "response = requests.get(url)\n",
    "\n",
    "gettysburg = response.text\n",
    "\n",
    "no_punctuation = []\n",
    "no_punctuation_gettysburg = []\n",
    "for c in gettysburg:\n",
    "    if c not in string.punctuation:\n",
    "        no_punctuation.append(c)\n",
    "        no_punctuation_gettysburg = \"\".join(no_punctuation)\n",
    "\n",
    "gettysburg_words = no_punctuation_gettysburg.split()\n",
    "\n",
    "print(len(gettysburg_words))"
   ]
  },
  {
   "cell_type": "markdown",
   "metadata": {},
   "source": [
    "(b) Count the presence of any one specific word.  For example \"and\""
   ]
  },
  {
   "cell_type": "code",
   "execution_count": 35,
   "metadata": {},
   "outputs": [
    {
     "name": "stdout",
     "output_type": "stream",
     "text": [
      "6\n"
     ]
    }
   ],
   "source": [
    "## answer to 3b\n",
    "gettysburg_lower = gettysburg.lower()\n",
    "gettysburg_words = gettysburg_lower.split()\n",
    "counter = 0\n",
    "for word in gettysburg_words:\n",
    "    if word == \"and\":\n",
    "        counter += 1\n",
    "print(counter)"
   ]
  },
  {
   "cell_type": "markdown",
   "metadata": {
    "tags": []
   },
   "source": [
    "(c) Please choose any word and demonstrate that you can replace it.  "
   ]
  },
  {
   "cell_type": "code",
   "execution_count": 53,
   "metadata": {},
   "outputs": [
    {
     "name": "stdout",
     "output_type": "stream",
     "text": [
      "Fourscore and seven years ago our fathers brought forth on this continent a new nation, conceived in liberty and dedicated to the proposition that all men are created equal. Now we are engaged in a great civil war, testing whether that nation or any nation so conceived and so dedicated can long endure. We are met on a great battlefield of that war. We have come to dedicate a portion of that field as a final resting place for those who here gave their lives that that nation might live. It is altogether fitting and proper that we should do this. But in a larger sense, we cannot dedicate, we cannot consecrate, we cannot hallow this ground. The brave men, living and dead who struggled here have consecrated it far above our poor power to add or detract. The world will little note nor long remember what we say here, but it can never forget what they did here. It is for us the living rather to be dedicated here to the unfinished work which they who fought here have thus far so nobly advanced. It is rather for us to be here dedicated to the great task remaining before us that from these honored dead we take increased devotion to that cause for which they gave the last full measure of devotion that we here highly resolve that these dead shall not have died in vain, that this nation under God shall have a new birth of freedom, and that government of the people, by the people, for the people shall not perish from the earth\n",
      "Fourscore and eight years ago our fathers brought forth on this continent a new nation, conceived in liberty and dedicated to the proposition that all men are created equal. Now we are engaged in a great civil war, testing whether that nation or any nation so conceived and so dedicated can long endure. We are met on a great battlefield of that war. We have come to dedicate a portion of that field as a final resting place for those who here gave their lives that that nation might live. It is altogether fitting and proper that we should do this. But in a larger sense, we cannot dedicate, we cannot consecrate, we cannot hallow this ground. The brave men, living and dead who struggled here have consecrated it far above our poor power to add or detract. The world will little note nor long remember what we say here, but it can never forget what they did here. It is for us the living rather to be dedicated here to the unfinished work which they who fought here have thus far so nobly advanced. It is rather for us to be here dedicated to the great task remaining before us that from these honored dead we take increased devotion to that cause for which they gave the last full measure of devotion that we here highly resolve that these dead shall not have died in vain, that this nation under God shall have a new birth of freedom, and that government of the people, by the people, for the people shall not perish from the earth\n"
     ]
    }
   ],
   "source": [
    "## answer to 3c\n",
    "print(gettysburg)\n",
    "\n",
    "print(gettysburg.replace(\"seven\", \"eight\"))"
   ]
  },
  {
   "cell_type": "markdown",
   "metadata": {},
   "source": [
    "### 4. Generating Sequences (2pts)\n",
    "\n",
    "(a) Please show us how to generate a sequence of the first 10 positive even numbers"
   ]
  },
  {
   "cell_type": "code",
   "execution_count": 47,
   "metadata": {
    "tags": []
   },
   "outputs": [
    {
     "name": "stdout",
     "output_type": "stream",
     "text": [
      "2 4 6 8 10 12 14 16 18 20 "
     ]
    }
   ],
   "source": [
    "## answer to 4a\n",
    "sequence = range(2, 21, 2)\n",
    "for n in sequence:\n",
    "    print(n, end = \" \")"
   ]
  },
  {
   "cell_type": "markdown",
   "metadata": {},
   "source": [
    "(b) Please show us how to generate a sequence of the first 'n' powers of 2 (2^0, 2^1, 2^2, ... 2^n), where 'n' is a positive integer."
   ]
  },
  {
   "cell_type": "code",
   "execution_count": 49,
   "metadata": {
    "tags": []
   },
   "outputs": [
    {
     "name": "stdout",
     "output_type": "stream",
     "text": [
      "1 2 4 8 16 32 64 128 256 512 1024 "
     ]
    }
   ],
   "source": [
    "## answer to 4b\n",
    "n = 10 # can be equal to any positive integer\n",
    "for x in range(0, n + 1):\n",
    "    print(2**x, end = \" \")"
   ]
  },
  {
   "cell_type": "markdown",
   "metadata": {},
   "source": [
    "## 5. Conditionals (3pts)\n",
    "\n",
    "Given an integer (0-100) representing a student's grade, please write a bit of code to classify it into one of the following categories:\n",
    "\n",
    "A: 90-100\n",
    "B: 80-89\n",
    "C: 51-79\n",
    "F: 0-50\n"
   ]
  },
  {
   "cell_type": "code",
   "execution_count": 51,
   "metadata": {},
   "outputs": [
    {
     "name": "stdout",
     "output_type": "stream",
     "text": [
      "['A', 'B', 'C', 'F']\n"
     ]
    }
   ],
   "source": [
    "## please use following values to show us\n",
    "## that your classifier works\n",
    "\n",
    "student_grade = [91.2, 83, 57.3, 12]\n",
    "\n",
    "letter_grade = []\n",
    "for grade in student_grade:\n",
    "    if grade <= 50:\n",
    "        letter_grade.append(\"F\")\n",
    "    if grade > 50 and grade <= 79:\n",
    "        letter_grade.append(\"C\")\n",
    "    if grade > 79 and grade <= 89:\n",
    "        letter_grade.append(\"B\")\n",
    "    if grade > 89 and grade <= 100:\n",
    "        letter_grade.append(\"A\")\n",
    "\n",
    "print(letter_grade)\n"
   ]
  },
  {
   "cell_type": "code",
   "execution_count": null,
   "metadata": {},
   "outputs": [],
   "source": []
  }
 ],
 "metadata": {
  "kernelspec": {
   "display_name": "Python 3 (ipykernel)",
   "language": "python",
   "name": "python3"
  },
  "language_info": {
   "codemirror_mode": {
    "name": "ipython",
    "version": 3
   },
   "file_extension": ".py",
   "mimetype": "text/x-python",
   "name": "python",
   "nbconvert_exporter": "python",
   "pygments_lexer": "ipython3",
   "version": "3.11.2"
  }
 },
 "nbformat": 4,
 "nbformat_minor": 4
}
