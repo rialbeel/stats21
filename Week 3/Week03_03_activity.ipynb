{
 "cells": [
  {
   "cell_type": "markdown",
   "id": "17474efc-a435-431c-87b6-abcee356b403",
   "metadata": {
    "tags": []
   },
   "source": [
    "## Week03.3 In-Class Team Activity\n",
    "Saturday April 22nd, 2023 - upload PDF with photograph (either rendered or a separate file) Due by 11:59pm\n",
    "\n",
    "If you missed class – no credit for this in-class activity, instead, I drop two unexcused absences from the Monday/Wednesday activities before deductions begin.\n",
    "\n",
    "- Please identify your team & the names of your teammates. \n",
    "\n",
    "- Please insert a team photo somewhere in this notebook.  If you cannot get the to render correctly to PDF please upload a separate file of the photo\n",
    "\n"
   ]
  },
  {
   "attachments": {},
   "cell_type": "markdown",
   "id": "7b9c0122",
   "metadata": {},
   "source": [
    "Names: Blair Lee, Aryan Sunkersett"
   ]
  },
  {
   "cell_type": "code",
   "execution_count": null,
   "id": "9687ca55",
   "metadata": {},
   "outputs": [],
   "source": []
  },
  {
   "cell_type": "markdown",
   "id": "c9caa558-2d1a-49c2-933c-1ae7b27e1b96",
   "metadata": {},
   "source": [
    "### Please try to write your own factorial function without the use of recursion\n",
    "\n",
    "So you have seen a factorial function programmed to illustrate the use of recursion, but can your team program a version without recursion using the cell below?\n",
    "\n",
    "Start by discussing as a team the features of the recursive function (e.g., a base case that returns a special value).  Then try programming a solution.  If your team can't do it, it is OK, just note how far you were able to get before running into problems."
   ]
  },
  {
   "cell_type": "code",
   "execution_count": 19,
   "id": "7e7578e4-0f66-46e0-833f-784047daddf4",
   "metadata": {},
   "outputs": [
    {
     "name": "stdout",
     "output_type": "stream",
     "text": [
      "120\n",
      "1\n"
     ]
    }
   ],
   "source": [
    "# please try to write a factorial function without recursion\n",
    "def factorial(n):\n",
    "    if n <= 0:\n",
    "        return 1\n",
    "    else:\n",
    "        product = n\n",
    "        next = n - 1\n",
    "        while (next > 0):\n",
    "            product = product * next\n",
    "            next = next - 1\n",
    "        return product\n",
    "    \n",
    "print(factorial(5))\n",
    "print(factorial(0))"
   ]
  },
  {
   "cell_type": "markdown",
   "id": "1469b03a-1a81-4281-b01b-efbdd5c59252",
   "metadata": {
    "slideshow": {
     "slide_type": "slide"
    },
    "tags": []
   },
   "source": [
    "### Please try the sum of numbers 1 to n with recursion\n",
    "\n",
    "Suppose your function is named `we_tried_it`.  Can you make it work so something such as:\n",
    "\n",
    "`we_tried_it(10)` or `we_tried_it(n = 10)`\n",
    "\n",
    "prints out:\n",
    "\n",
    "`The result is: 55`\n",
    "\n",
    "Yes, I know sum(range(1, 11)) will result in 55 but this is for the exercise of writing a recursive function in Python."
   ]
  },
  {
   "cell_type": "code",
   "execution_count": 20,
   "id": "bacccf6c-6f7b-4c5d-ab40-38a9357c5471",
   "metadata": {},
   "outputs": [
    {
     "data": {
      "text/plain": [
       "55"
      ]
     },
     "execution_count": 20,
     "metadata": {},
     "output_type": "execute_result"
    }
   ],
   "source": [
    "# please choose any number that fits within your resources\n",
    "def we_tried_it(n):\n",
    "    if n == 1:\n",
    "        return 1\n",
    "    else:\n",
    "        return n + we_tried_it(n - 1)\n",
    "\n",
    "we_tried_it(10)\n"
   ]
  },
  {
   "cell_type": "markdown",
   "id": "e008c82d-5a29-4cb9-9425-da092ede288a",
   "metadata": {},
   "source": [
    "### (optional) How about using recursion and generating a Fibonacci sequence?\n",
    "\n",
    "The Fibonacci sequence is a sequence in which each number is the sum of the two preceding numbers usually starting with zero and one.\n",
    "\n",
    "$F_0 =0, \\quad F_1 =1,$  \n",
    "\n",
    "and\n",
    "\n",
    "$F_{n}=F_{n-1}+F_{n-2}$  for n > 1.\n",
    "\n",
    "0, 1, 1, 2, 3, 5, 8, 13, 21, 34\n",
    "\n",
    "So maybe that is the result of Fibonacci(10)"
   ]
  },
  {
   "cell_type": "code",
   "execution_count": 15,
   "id": "e33d7f2e-72fc-4df3-87c2-ad4071f4089e",
   "metadata": {},
   "outputs": [
    {
     "data": {
      "text/plain": [
       "[0, 1, 1, 2, 3, 5, 8, 13, 21, 34]"
      ]
     },
     "execution_count": 15,
     "metadata": {},
     "output_type": "execute_result"
    }
   ],
   "source": [
    "# please choose any number that fits within your resources\n",
    "def Fibonacci(n):\n",
    "    f0 = 0\n",
    "    f1 = 1\n",
    "    fn = 1\n",
    "    seq = []\n",
    "    seq.append(f0)\n",
    "    seq.append(f1)\n",
    "    while (n > 2):\n",
    "        fn = f0 + f1\n",
    "        seq.append(fn)\n",
    "        f0 = f1\n",
    "        f1 = fn\n",
    "        n = n - 1\n",
    "    return seq\n",
    "\n",
    "\n",
    "Fibonacci(10)"
   ]
  }
 ],
 "metadata": {
  "kernelspec": {
   "display_name": "Python 3 (ipykernel)",
   "language": "python",
   "name": "python3"
  },
  "language_info": {
   "codemirror_mode": {
    "name": "ipython",
    "version": 3
   },
   "file_extension": ".py",
   "mimetype": "text/x-python",
   "name": "python",
   "nbconvert_exporter": "python",
   "pygments_lexer": "ipython3",
   "version": "3.11.2"
  }
 },
 "nbformat": 4,
 "nbformat_minor": 5
}
