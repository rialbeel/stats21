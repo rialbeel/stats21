{
 "cells": [
  {
   "cell_type": "code",
   "execution_count": 1,
   "metadata": {},
   "outputs": [
    {
     "name": "stdout",
     "output_type": "stream",
     "text": [
      "Numpy is 52.7x faster!\n"
     ]
    }
   ],
   "source": [
    "import time\n",
    "import numpy as np\n",
    "\n",
    "vec_size = 100000\n",
    "def base():\n",
    "    t1 = time.time()\n",
    "    x = range(vec_size)\n",
    "    y = range(vec_size)\n",
    "    z = [x[i] + y[i] for i in range(len(x))]\n",
    "    return time.time() - t1\n",
    "\n",
    "def numpy():\n",
    "    t1 = time.time()\n",
    "    x = np.arange(vec_size)\n",
    "    y = np.arange(vec_size)\n",
    "    z = x + y\n",
    "    return time.time() - t1\n",
    "\n",
    "time1 = base()\n",
    "time2 = numpy()\n",
    "print(f\"Numpy is {round(time1/time2, 1)}x faster!\")"
   ]
  },
  {
   "cell_type": "code",
   "execution_count": null,
   "metadata": {},
   "outputs": [],
   "source": []
  }
 ],
 "metadata": {
  "kernelspec": {
   "display_name": "Python 3",
   "language": "python",
   "name": "python3"
  },
  "language_info": {
   "codemirror_mode": {
    "name": "ipython",
    "version": 3
   },
   "file_extension": ".py",
   "mimetype": "text/x-python",
   "name": "python",
   "nbconvert_exporter": "python",
   "pygments_lexer": "ipython3",
   "version": "3.11.2"
  },
  "orig_nbformat": 4
 },
 "nbformat": 4,
 "nbformat_minor": 2
}
