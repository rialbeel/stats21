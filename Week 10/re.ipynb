{
 "cells": [
  {
   "cell_type": "code",
   "execution_count": 3,
   "metadata": {},
   "outputs": [],
   "source": [
    "import pandas as pd\n",
    "import re"
   ]
  },
  {
   "cell_type": "code",
   "execution_count": 4,
   "metadata": {},
   "outputs": [],
   "source": [
    "sgl = ['Tenkū no Shiro Laputa', 'Tonari no Totoro', 'Majo no Takkyūbin','Mononoke-hime', 'Sen to Chihiro no Kamikakushi', 'Hauru no Ugoku Shiro']"
   ]
  },
  {
   "cell_type": "code",
   "execution_count": 5,
   "metadata": {},
   "outputs": [
    {
     "name": "stdout",
     "output_type": "stream",
     "text": [
      "['T']\n",
      "['T', 'T']\n",
      "['T']\n",
      "[]\n",
      "[]\n",
      "[]\n"
     ]
    }
   ],
   "source": [
    "for word in sgl:\n",
    "    print(re.findall(\"T\", word))"
   ]
  },
  {
   "cell_type": "code",
   "execution_count": 6,
   "metadata": {},
   "outputs": [
    {
     "name": "stdout",
     "output_type": "stream",
     "text": [
      "[<re.Match object; span=(0, 1), match='T'>, <re.Match object; span=(0, 1), match='T'>, <re.Match object; span=(8, 9), match='T'>, None, None, None]\n",
      "<re.Match object; span=(0, 1), match='T'>\n",
      "T\n",
      "0\n",
      "1\n",
      "(0, 1)\n"
     ]
    }
   ],
   "source": [
    "res = []\n",
    "for word in sgl:\n",
    "    res.append(re.search(\"T\", word))\n",
    "print(res)\n",
    "print(res[1])\n",
    "print(res[1].group())\n",
    "print(res[1].start())\n",
    "print(res[1].end())\n",
    "print(res[1].span())"
   ]
  },
  {
   "cell_type": "code",
   "execution_count": 7,
   "metadata": {},
   "outputs": [
    {
     "name": "stdout",
     "output_type": "stream",
     "text": [
      "['Shiro']\n",
      "[]\n",
      "[]\n",
      "[]\n",
      "['hiro']\n",
      "['Shiro']\n"
     ]
    }
   ],
   "source": [
    "for word in sgl:\n",
    "    print(re.findall(\"S?hiro\", word, re.IGNORECASE))"
   ]
  },
  {
   "cell_type": "code",
   "execution_count": 8,
   "metadata": {},
   "outputs": [
    {
     "name": "stdout",
     "output_type": "stream",
     "text": [
      "['e', 'o', 'i', 'o', 'a', 'u', 'a']\n",
      "['o', 'a', 'i', 'o', 'o', 'o', 'o']\n",
      "['a', 'o', 'o', 'a', 'y', 'i']\n",
      "['o', 'o', 'o', 'e', 'i', 'e']\n",
      "['e', 'o', 'i', 'i', 'o', 'o', 'a', 'i', 'a', 'u', 'i']\n",
      "['a', 'u', 'u', 'o', 'U', 'o', 'u', 'i', 'o']\n"
     ]
    }
   ],
   "source": [
    "for word in sgl:\n",
    "    print(re.findall(r'[aeiouy]', word, re.IGNORECASE))"
   ]
  },
  {
   "cell_type": "code",
   "execution_count": null,
   "metadata": {},
   "outputs": [],
   "source": []
  }
 ],
 "metadata": {
  "kernelspec": {
   "display_name": "Python 3",
   "language": "python",
   "name": "python3"
  },
  "language_info": {
   "codemirror_mode": {
    "name": "ipython",
    "version": 3
   },
   "file_extension": ".py",
   "mimetype": "text/x-python",
   "name": "python",
   "nbconvert_exporter": "python",
   "pygments_lexer": "ipython3",
   "version": "3.11.2"
  },
  "orig_nbformat": 4
 },
 "nbformat": 4,
 "nbformat_minor": 2
}
