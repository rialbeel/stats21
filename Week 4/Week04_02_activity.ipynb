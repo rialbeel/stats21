{
 "cells": [
  {
   "cell_type": "markdown",
   "id": "17474efc-a435-431c-87b6-abcee356b403",
   "metadata": {
    "tags": []
   },
   "source": [
    "## Week04.2 In-Class Team Activity\n",
    "Thursday April 27th, 2023 - upload PDF with photograph (either rendered or a separate file) Due by 11:59pm\n",
    "\n",
    "If you missed class – no credit for this in-class activity, instead, I drop two unexcused absences from the Monday/Wednesday activities before deductions begin.\n",
    "\n",
    "- **Please identify your team & the names of your teammates.** \n",
    "\n",
    "- **Please insert a team photo somewhere in this notebook.  If you cannot get the to render correctly to PDF please upload a separate file of the photo**\n",
    "\n",
    "- **Please make certain that all of your teammates agree upon and understand the team answers. Thank you.**\n",
    "\n"
   ]
  },
  {
   "attachments": {},
   "cell_type": "markdown",
   "id": "fe9c25b3",
   "metadata": {},
   "source": [
    "Names: "
   ]
  },
  {
   "cell_type": "code",
   "execution_count": null,
   "id": "07430dbe",
   "metadata": {},
   "outputs": [],
   "source": [
    "# Picture"
   ]
  },
  {
   "cell_type": "markdown",
   "id": "3ca9e2f0-54c4-435f-b90b-1251db3e04b2",
   "metadata": {},
   "source": [
    "1. Recall wordle.txt (all wordle words up to recently) from a previous lecture:"
   ]
  },
  {
   "cell_type": "code",
   "execution_count": null,
   "id": "de867af7-43c1-41bb-869a-4055121faf7b",
   "metadata": {
    "tags": []
   },
   "outputs": [],
   "source": [
    "with open('wordle.txt', 'r') as f:\n",
    "    wordle_full = f.read()\n",
    "    \n",
    "# please create a function named letter count.\n",
    "def letter_count():\n",
    "    "
   ]
  },
  {
   "cell_type": "markdown",
   "id": "3cf2756f-44f6-4546-8d5c-2767561f0e41",
   "metadata": {},
   "source": [
    "Please write a *function* incorporating the use of a dictionary, to count the number of times each letter appeared and answer the question \"which letter was most frequently seen?\" Do remove the whitespace from your result."
   ]
  },
  {
   "cell_type": "code",
   "execution_count": null,
   "id": "edfd4579-092e-4f51-9b99-ea9b6d751284",
   "metadata": {
    "tags": []
   },
   "outputs": [],
   "source": [
    "# the result should look like this\n",
    "letter_count(wordle_full)"
   ]
  },
  {
   "cell_type": "markdown",
   "id": "508a9374-e754-4efd-b0bd-a7d3a8477536",
   "metadata": {},
   "source": [
    "```\n",
    "{'a': 975,\n",
    " 'b': 280,\n",
    " 'c': 475,\n",
    " 'k': 210,\n",
    " 's': 668,\n",
    " 'e': 1230,\n",
    " 't': 729,\n",
    " 'y': 424,\n",
    " 'o': 753,\n",
    " 'h': 387,\n",
    " 'r': 897,\n",
    " 'i': 670,\n",
    " 'd': 393,\n",
    " 'l': 716,\n",
    " 'u': 466,\n",
    " 'v': 152,\n",
    " 'n': 573,\n",
    " 'g': 310,\n",
    " 'p': 365,\n",
    " 'm': 316,\n",
    " 'f': 229,\n",
    " 'x': 37,\n",
    " 'w': 194,\n",
    " 'z': 40,\n",
    " 'j': 27,\n",
    " 'q': 29}\n",
    "```"
   ]
  },
  {
   "cell_type": "markdown",
   "id": "d3549635-9e88-41ab-b27e-c37c041a311f",
   "metadata": {},
   "source": [
    "2. Here we have several data objects:"
   ]
  },
  {
   "cell_type": "code",
   "execution_count": null,
   "id": "98919794-2d8c-452f-9dd7-75fdecebe9ef",
   "metadata": {
    "tags": []
   },
   "outputs": [],
   "source": [
    "one = range(1, 51)\n",
    "two = [\n",
    "    'AL', 'AK', 'AZ', 'AR', 'CA', 'CO', 'CT', 'DE', 'FL', 'GA',\n",
    "    'HI', 'ID', 'IL', 'IN', 'IA', 'KS', 'KY', 'LA', 'ME', 'MD',\n",
    "    'MA', 'MI', 'MN', 'MS', 'MO', 'MT', 'NE', 'NV', 'NH', 'NJ',\n",
    "    'NM', 'NY', 'NC', 'ND', 'OH', 'OK', 'OR', 'PA', 'RI', 'SC',\n",
    "    'SD', 'TN', 'TX', 'UT', 'VT', 'VA', 'WA', 'WV', 'WI', 'WY'\n",
    "]\n",
    "three = (\n",
    "    \"Alabama\", \"Alaska\", \"Arizona\", \"Arkansas\", \"California\", \"Colorado\", \"Connecticut\",\n",
    "    \"Delaware\", \"Florida\", \"Georgia\", \"Hawaii\", \"Idaho\", \"Illinois\", \"Indiana\", \"Iowa\", \"Kansas\", \n",
    "    \"Kentucky\", \"Louisiana\", \"Maine\", \"Maryland\", \"Massachusetts\", \"Michigan\", \"Minnesota\", \n",
    "    \"Mississippi\", \"Missouri\", \"Montana\", \"Nebraska\", \"Nevada\", \"New Hampshire\", \"New Jersey\", \n",
    "    \"New Mexico\", \"New York\", \"North Carolina\", \"North Dakota\", \"Ohio\", \"Oklahoma\", \"Oregon\", \n",
    "    \"Pennsylvania\", \"Rhode Island\", \"South Carolina\", \"South Dakota\", \"Tennessee\", \"Texas\", \n",
    "    \"Utah\", \"Vermont\", \"Virginia\", \"Washington\", \"West Virginia\", \"Wisconsin\", \"Wyoming\"\n",
    ")\n",
    "four = [\n",
    "    4903185, 731545, 7278717, 3017804, 39538223, 5773714, 3605944, 989948,\n",
    "    21538187, 10711908, 1455271, 1839106, 12812508, 6785528, 3190369, 2913314,\n",
    "    4467673, 4657757, 1362359, 6177224, 7029917, 10077331, 5706494, 2961279,\n",
    "    6154913, 1084225, 1961504, 3104614, 1377529, 9288994, 2117522, 20201249,\n",
    "    10439388, 779094, 11693217, 3963516, 4237256, 13002700, 1097379, 5170722,\n",
    "    886667, 6910840, 29145505, 3271616, 643077, 8631393, 7693612, 1793716,\n",
    "    5893718, 576851\n",
    "]\n",
    "\n"
   ]
  },
  {
   "cell_type": "markdown",
   "id": "bcda8248-40a7-4c8b-987d-3e225418393c",
   "metadata": {},
   "source": [
    "Given what you have seen in Stats 21 so far, please treat `one` as the key and make the other three (two, three, four) values in order to convert this information to a dictionary.  Your result should look something like this (doesn't need to be as tidy and I'm only showing the first five) and you don't need to write a function."
   ]
  },
  {
   "cell_type": "code",
   "execution_count": null,
   "id": "733e14ad-8248-4ea2-bb74-e2fc10f7f77c",
   "metadata": {
    "tags": []
   },
   "outputs": [],
   "source": [
    "# your code goes here    \n"
   ]
  },
  {
   "cell_type": "markdown",
   "id": "1b4eccf4-7a34-406c-8079-d7b9a3dbca9d",
   "metadata": {},
   "source": [
    "```\n",
    "1: ('AL', 'Alabama', 4903185)\n",
    "2: ('AK', 'Alaska', 731545)\n",
    "3: ('AZ', 'Arizona', 7278717)\n",
    "4: ('AR', 'Arkansas', 3017804)\n",
    "5: ('CA', 'California', 39538223)\n",
    "```"
   ]
  }
 ],
 "metadata": {
  "kernelspec": {
   "display_name": "Python 3 (ipykernel)",
   "language": "python",
   "name": "python3"
  },
  "language_info": {
   "codemirror_mode": {
    "name": "ipython",
    "version": 3
   },
   "file_extension": ".py",
   "mimetype": "text/x-python",
   "name": "python",
   "nbconvert_exporter": "python",
   "pygments_lexer": "ipython3",
   "version": "3.10.8"
  }
 },
 "nbformat": 4,
 "nbformat_minor": 5
}
