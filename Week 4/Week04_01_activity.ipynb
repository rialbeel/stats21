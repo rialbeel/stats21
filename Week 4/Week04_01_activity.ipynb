{
 "cells": [
  {
   "cell_type": "markdown",
   "id": "17474efc-a435-431c-87b6-abcee356b403",
   "metadata": {
    "tags": []
   },
   "source": [
    "## Week04.1 In-Class Team Activity\n",
    "Tuesday April 25th, 2023 - upload PDF with photograph (either rendered or a separate file) Due by 11:59pm\n",
    "\n",
    "If you missed class – no credit for this in-class activity, instead, I drop two unexcused absences from the Monday/Wednesday activities before deductions begin.\n",
    "\n",
    "- **Please identify your team & the names of your teammates.** \n",
    "\n",
    "- **Please insert a team photo somewhere in this notebook.  If you cannot get the to render correctly to PDF please upload a separate file of the photo**\n",
    "\n",
    "- **Please make certain that all of your teammates agree upon and understand the team answers. Thank you.**\n",
    "\n"
   ]
  },
  {
   "attachments": {},
   "cell_type": "markdown",
   "id": "5b95e645",
   "metadata": {},
   "source": [
    "Names:"
   ]
  },
  {
   "cell_type": "code",
   "execution_count": 2,
   "id": "4b790e59",
   "metadata": {},
   "outputs": [
    {
     "ename": "ModuleNotFoundError",
     "evalue": "No module named 'iPython'",
     "output_type": "error",
     "traceback": [
      "\u001b[0;31m---------------------------------------------------------------------------\u001b[0m",
      "\u001b[0;31mModuleNotFoundError\u001b[0m                       Traceback (most recent call last)",
      "Cell \u001b[0;32mIn[2], line 1\u001b[0m\n\u001b[0;32m----> 1\u001b[0m \u001b[39mfrom\u001b[39;00m \u001b[39miPython\u001b[39;00m \u001b[39mimport\u001b[39;00m display\n\u001b[1;32m      2\u001b[0m display()\n",
      "\u001b[0;31mModuleNotFoundError\u001b[0m: No module named 'iPython'"
     ]
    }
   ],
   "source": [
    "from iPython import display"
   ]
  },
  {
   "cell_type": "markdown",
   "id": "3ca9e2f0-54c4-435f-b90b-1251db3e04b2",
   "metadata": {},
   "source": [
    "1. Recall wordle_sample.txt from a previous lecture:"
   ]
  },
  {
   "cell_type": "code",
   "execution_count": 3,
   "id": "de867af7-43c1-41bb-869a-4055121faf7b",
   "metadata": {
    "tags": []
   },
   "outputs": [],
   "source": [
    "with open('wordle_sample.txt', 'r') as f:\n",
    "    wordle_sample = f.read()"
   ]
  },
  {
   "cell_type": "markdown",
   "id": "3cf2756f-44f6-4546-8d5c-2767561f0e41",
   "metadata": {},
   "source": [
    "Using list comprehension, can you separate each word into its individual letters and remove the spaces at the same time to obtain a result like:"
   ]
  },
  {
   "cell_type": "code",
   "execution_count": 8,
   "id": "edfd4579-092e-4f51-9b99-ea9b6d751284",
   "metadata": {
    "tags": []
   },
   "outputs": [
    {
     "name": "stdout",
     "output_type": "stream",
     "text": [
      "['m', 'i', 'n', 'e', 'r', 's', 'a', 'l', 't', 'y', 'b', 'e', 'a', 'r', 'd', 'a', 'r', 'r', 'o', 'w', 't', 'r', 'o', 'o', 'p', 's', 'e', 'p', 'i', 'a', 'd', 'i', 'r', 't', 'y', 'r', 'i', 'g', 'o', 'r', 'b', 'a', 's', 'i', 'c', 't', 'h', 'e', 'f', 't', 'w', 'i', 't', 't', 'y', 'c', 'o', 'v', 'e', 'y', 'a', 'l', 'b', 'u', 'm', 'f', 'o', 'l', 'l', 'y', 'a', 'l', 'a', 'r', 'm', 'g', 'r', 'o', 'i', 'n', 'g', 'e', 'c', 'k', 'o', 'g', 'l', 'i', 'd', 'e', 'a', 'm', 'e', 'n', 'd', 'u', 'n', 't', 'i', 'e', 'h', 'e', 'a', 'r', 'd', 'c', 'o', 'r', 'e', 'r', 's', 'n', 'a', 'c', 'k', 'p', 'r', 'i', 'o', 'r', 'l', 'e', 'a', 'n', 't', 'f', 'e', 'n', 'c', 'e', 'c', 'r', 'u', 'm', 'p', 'd', 'r', 'e', 's', 's', 'n', 'i', 'n', 'j', 'a', 's', 't', 'e', 'a', 'l', 'a', 'p', 'n', 'e', 'a', 's', 'k', 'u', 'l', 'l', 'v', 'e', 'g', 'a', 'n', 'v', 'o', 'g', 'u', 'e', 'e', 'x', 'i', 's', 't', 'l', 'i', 'v', 'e', 'r', 'c', 'l', 'a', 'n', 'k', 'o', 'f', 'f', 'e', 'r', 'f', 'r', 'o', 'c', 'k', 'b', 'l', 'e', 'e', 'p', 'w', 'r', 'e', 'a', 'k', 'c', 'o', 'c', 'o', 'a', 'p', 'l', 'i', 'e', 'd', 'f', 'l', 'u', 'f', 'f', 'f', 'i', 'e', 'n', 'd', 'd', 'r', 'o', 'w', 'n', 'c', 'r', 'e', 'e', 'd', 'd', 'i', 't', 't', 'o', 'w', 'i', 'n', 'c', 'e', 'b', 'o', 'n', 'e', 'y', 'l', 'a', 'n', 'k', 'y', 'h', 'a', 'l', 'v', 'e', 'g', 'r', 'e', 'a', 't', 'v', 'i', 'n', 'y', 'l', 'o', 'n', 'i', 'o', 'n', 'f', 'r', 'a', 'n', 'k', 'c', 'r', 'a', 'z', 'y', 't', 'h', 'e', 'm', 'e', 'p', 'r', 'i', 's', 'm', 's', 'u', 'i', 'n', 'g', 'e', 'l', 'o', 'p', 'e', 'b', 'a', 's', 'a', 'l', 'i', 'r', 'a', 't', 'e', 'c', 'r', 'e', 'p', 'e', 'q', 'u', 'i', 't', 'e', 's', 'p', 'e', 'n', 't', 's', 'n', 'u', 'c', 'k', 'u', 's', 'u', 'r', 'p', 'w', 'i', 's', 'e', 'r', 'm', 'a', 't', 'e', 'y', 'h', 'u', 's', 'k', 'y', 'a', 'd', 'a', 'g', 'e', 's', 'i', 's', 's', 'y', 'l', 'e', 'a', 'p', 't', 'c', 'o', 'u', 'n', 't', 's', 'i', 'l', 'k', 'y', 's', 'a', 'v', 'v', 'y', 'p', 'r', 'o', 'n', 'e', 'v', 'e', 'n', 'o', 'm', 'c', 'h', 'o', 's', 'e', 's', 'h', 'e', 'a', 'r', 's', 'p', 'e', 'r', 'm', 'e', 'l', 'e', 'c', 't', 'w', 'i', 't', 'c', 'h', 'a', 'p', 'a', 'r', 't', 'f', 'i', 'g', 'h', 't', 'b', 'e', 'v', 'e', 'l', 'b', 'r', 'e', 'a', 'd', 'b', 'r', 'i', 'n', 'k', 'd', 'r', 'y', 'l', 'y', 'a', 'd', 'o', 'r', 'n', 'l', 'o', 'r', 'r', 'y', 'b', 'u', 'l', 'g', 'e', 'c', 'h', 'a', 'n', 't', 'c', 'r', 'o', 'n', 'y', 's', 'e', 'v', 'e', 'r', 'g', 'r', 'o', 'v', 'e', 'r', 'i', 'v', 'a', 'l', 'b', 'l', 'e', 'n', 'd', 'd', 'r', 'a', 'w', 'n', 'c', 'a', 'n', 'n', 'y', 's', 'c', 'r', 'e', 'w', 's', 'c', 'o', 'r', 'e', 'p', 'a', 'r', 'r', 'y', 'k', 'a', 'y', 'a', 'k', 'b', 'a', 'w', 'd', 'y', 'b', 'i', 'r', 't', 'h', 's', 'a', 'l', 'a', 'd', 'c', 'a', 'c', 'a', 'o', 'c', 'o', 'v', 'e', 'n', 's', 'h', 'r', 'u', 'g', 'b', 'o', 'r', 'n', 'e', 'p', 'i', 'z', 'z', 'a', 's', 'h', 'i', 'r', 'e', 's', 't', 'a', 't', 'e', 's', 't', 'u', 'n', 'k', 'h', 'o', 'r', 'n', 'y', 'r', 'h', 'i', 'n', 'o', 'h', 'o', 'b', 'b', 'y', 'c', 'l', 'a', 'i', 'm', 'r', 'a', 'n', 'c', 'h', 'b', 'e', 'a', 'c', 'h', 's', 't', 'u', 'n', 'g', 'k', 'h', 'a', 'k', 'i', 'g', 'i', 'p', 's', 'y', 'r', 'e', 'b', 'u', 's', 's', 'h', 'u', 'n', 't', 'f', 'o', 'a', 'm', 'y', 'c', 'r', 'e', 'd', 'o', 'p', 'u', 'p', 'p', 'y', 'm', 'u', 'n', 'c', 'h', 's', 'y', 'r', 'u', 'p', 'w', 'h', 'e', 'l', 'p', 'e', 'i', 'g', 'h', 't', 'l', 'e', 'm', 'o', 'n', 'f', 'r', 'o', 'n', 't', 'c', 'r', 'a', 't', 'e', 'a', 'l', 'g', 'a', 'e', 'c', 'l', 'o', 'n', 'e', 'f', 'i', 'n', 'e', 'r', 's', 'c', 'a', 'm', 'p', 'd', 'a', 'i', 'r', 'y', 's', 'c', 'e', 'n', 'e', 'b', 'r', 'o', 'o', 'm', 'f', 'j', 'o', 'r', 'd', 'a', 'c', 't', 'o', 'r', 'w', 'r', 'i', 's', 't', 'd', 'e', 'n', 'i', 'm', 'b', 'e', 'l', 'l', 'y', 'm', 'a', 'n', 'o', 'r', 'd', 'i', 'n', 'g', 'o', 'd', 'r', 'u', 'n', 'k', 'c', 'a', 'r', 'g', 'o', 'a', 'm', 'b', 'l', 'e', 's', 't', 'o', 'o', 'p', 's', 'h', 'o', 'v', 'e', 't', 'i', 'g', 'e', 'r', 'f', 'o', 'r', 'g', 'o', 'g', 'o', 'd', 'l', 'y', 's', 'l', 'y', 'l', 'y', 'f', 'u', 'l', 'l', 'y', 's', 'm', 'a', 's', 'h', 'a', 'm', 'i', 's', 's', 'm', 'i', 'g', 'h', 't', 'f', 'o', 'r', 't', 'y', 's', 'm', 'e', 'l', 'l', 'n', 'e', 'i', 'g', 'h', 'w', 'o', 'm', 'e', 'n', 'p', 'a', 'r', 'k', 'a', 'b', 'o', 'o', 'b', 'y', 't', 'i', 'm', 'e', 'r', 'm', 'e', 'a', 't', 'y', 'h', 'i', 'n', 'g', 'e', 'm', 'o', 'u', 'n', 'd', 'u', 'p', 's', 'e', 't', 'm', 'a', 'm', 'm', 'y', 'e', 'v', 'e', 'r', 'y', 's', 'a', 'v', 'o', 'y', 'u', 'n', 'd', 'u', 'e', 'i', 'c', 'i', 'l', 'y', 'c', 'a', 'i', 'r', 'n', 'f', 'l', 'e', 'c', 'k', 's', 'p', 'r', 'i', 'g', 'g', 'l', 'a', 's', 's', 's', 'w', 'e', 'a', 'r', 'c', 'a', 'n', 'a', 'l', 'a', 'g', 'i', 'l', 'e', 'b', 'l', 'u', 'e', 'r', 'l', 'o', 'y', 'a', 'l', 's', 'p', 'e', 'n', 'd', 'a', 'd', 'm', 'i', 'n', 'c', 'o', 'p', 's', 'e', 's', 'e', 'r', 'u', 'm', 'j', 'u', 'n', 't', 'a', 'f', 'l', 'i', 'n', 'g', 'a', 'm', 'a', 's', 's', 's', 'a', 'l', 'v', 'e', 'g', 'r', 'a', 's', 's', 'w', 'o', 'r', 'r', 'y', 'a', 'l', 'o', 'n', 'e', 'm', 'o', 'd', 'e', 'm', 'w', 'i', 'd', 'o', 'w', 'f', 'u', 'n', 'g', 'i', 'd', 'w', 'e', 'l', 't', 's', 'o', 'l', 'i', 'd', 'n', 'o', 'm', 'a', 'd', 'r', 'e', 'e', 'd', 'y', 'o', 'v', 'o', 'i', 'd', 'j', 'u', 'm', 'b', 'o', 's', 'p', 'a', 'r', 'e', 'd', 'i', 's', 'c', 'o', 't', 'a', 'n', 'g', 'y', 'd', 'w', 'a', 'r', 'f', 'c', 'o', 'v', 'e', 't', 'h', 'a', 'r', 's', 'h', 's', 'n', 'i', 'f', 'f', 'p', 'e', 'd', 'a', 'l', 'h', 'a', 'r', 'r', 'y', 'r', 'u', 's', 't', 'y', 's', 't', 'a', 'v', 'e', 'u', 'n', 'd', 'i', 'd', 'p', 'i', 'p', 'e', 'r', 'g', 'l', 'o', 'v', 'e', 'r', 'a', 'l', 'p', 'h', 'q', 'u', 'a', 's', 'h', 'd', 'e', 'i', 'g', 'n', 's', 't', 'a', 'l', 'k', 'q', 'u', 'e', 'r', 'y', 'g', 'r', 'o', 's', 's', 'f', 'o', 'y', 'e', 'r', 'c', 'o', 'v', 'e', 'r', 's', 'p', 'a', 'n', 'k', 'o', 'd', 'd', 'l', 'y', 's', 't', 'o', 'r', 'y', 'h', 'e', 'd', 'g', 'e', 'c', 'l', 'e', 'a', 't', 'r', 'u', 'm', 'o', 'r', 'a', 'u', 'g', 'u', 'r', 'p', 'u', 'f', 'f', 'y', 'b', 'e', 'r', 't', 'h', 'g', 'a', 'f', 'f', 'e', 'g', 'u', 'p', 'p', 'y', 's', 'u', 'a', 'v', 'e', 'b', 'r', 'a', 'w', 'l', 'q', 'u', 'a', 'r', 'k', 'p', 'i', 'n', 't', 'o', 'd', 'e', 'c', 'a', 'l', 'b', 'i', 'o', 'm', 'e', 'd', 'e', 'c', 'o', 'y', 'v', 'a', 'l', 'u', 'e', 'c', 'l', 'i', 'm', 'b', 'e', 'm', 'b', 'e', 'r', 'a', 'b', 'u', 's', 'e', 'c', 'r', 'u', 'd', 'e', 'a', 'n', 'g', 'e', 'r', 's', 'p', 'i', 'n', 'e', 'l', 'a', 'r', 'v', 'a', 'b', 'e', 'i', 'n', 'g', 't', 'w', 'e', 'a', 'k', 't', 'i', 'd', 'a', 'l', 'g', 'r', 'a', 's', 'p', 'b', 'r', 'i', 'c', 'k', 'd', 'e', 'c', 'r', 'y', 'f', 'l', 'o', 'a', 't', 'b', 'i', 'n', 'g', 'o', 'c', 'o', 'u', 'r', 't', 's', 'l', 'a', 'i', 'n', 'b', 'r', 'o', 'w', 'n', 'c', 'r', 'i', 's', 'p', 's', 'h', 'o', 'c', 'k', 'f', 'i', 'l', 'm', 'y', 'p', 'l', 'u', 'c', 'k', 'b', 'o', 'n', 'g', 'o', 'p', 's', 'a', 'l', 'm', 's', 'k', 'u', 'l', 'k', 's', 'e', 'w', 'e', 'r', 'r', 'i', 'g', 'h', 't', 'z', 'e', 'b', 'r', 'a', 'f', 'i', 's', 'h', 'y', 'c', 'o', 'w', 'e', 'r', 's', 'p', 'i', 'k', 'y', 's', 'i', 'e', 'g', 'e', 'c', 'a', 'b', 'a', 'l', 'n', 'a', 'v', 'a', 'l', 'g', 'o', 'n', 'e', 'r', 'c', 'h', 'o', 'k', 'e', 'j', 'a', 'u', 'n', 't', 'a', 't', 't', 'i', 'c', 'g', 'a', 's', 's', 'y', 't', 'a', 'f', 'f', 'y', 'b', 'a', 'r', 'o', 'n', 'u', 'd', 'd', 'e', 'r', 'r', 'a', 'd', 'i', 'i', 'k', 'n', 'e', 'e', 'd', 'd', 'o', 'w', 'd', 'y', 'g', 'r', 'a', 'v', 'e', 'f', 'u', 'n', 'k', 'y', 'i', 'n', 't', 'e', 'r', 'q', 'u', 'i', 'l', 't', 'b', 'e', 'a', 'd', 'y', 'r', 'a', 'v', 'e', 'n', 'y', 'a', 'c', 'h', 't', 'm', 'a', 'r', 'r', 'y', 'r', 'e', 'a', 'c', 'h', 'b', 'l', 'e', 'a', 't', 'f', 'e', 'l', 'o', 'n', 'b', 'r', 'u', 's', 'h', 'r', 'i', 'f', 'l', 'e', 't', 'r', 'i', 'p', 'e', 'f', 'e', 'r', 'r', 'y', 's', 't', 'o', 'k', 'e', 'i', 'n', 'l', 'e', 't', 'w', 'o', 'u', 'n', 'd', 'e', 'k', 'i', 'n', 'g', 'l', 'o', 'w', 'l', 'y', 'i', 't', 'c', 'h', 'y', 'f', 'l', 'o', 's', 's', 's', 't', 'a', 'r', 'e', 'h', 'u', 'm', 'u', 's', 'a', 'm', 'p', 'l', 'y', 'r', 'e', 'n', 'a', 'l', 'f', 'e', 'c', 'a', 'l', 'f', 'l', 'a', 'i', 'l', 's', 't', 'a', 'r', 't', 'e', 's', 's', 'a', 'y', 'o', 'c', 'e', 'a', 'n', 'w', 'i', 'd', 'e', 'r', 'p', 'a', 'n', 'e', 'l', 't', 'o', 'n', 'g', 'a', 'u', 'n', 't', 'i', 'l', 'p', 'a', 'p', 'a', 'l', 'a', 'b', 'a', 't', 'e', 'd', 'r', 'y', 'e', 'r', 'a', 'd', 'u', 'l', 't', 's', 'n', 'a', 'k', 'e', 'm', 'o', 'u', 'r', 'n', 'n', 'e', 'r', 'v', 'e', 'h', 'o', 'r', 's', 'e', 'o', 'p', 'i', 'u', 'm', 'c', 'r', 'e', 'm', 'e', 'b', 'r', 'a', 'n', 'd', 't', 'o', 'd', 'd', 'y', 'j', 'u', 'n', 't', 'o', 's', 'c', 'r', 'e', 'e', 'p', 'l', 'u', 'n', 'k', 'p', 'a', 'n', 's', 'y', 'd', 'a', 'l', 'l', 'y', 'b', 'o', 'w', 'e', 'l', 'f', 'o', 'g', 'g', 'y', 'b', 'r', 'o', 'o', 'k', 't', 'r', 'e', 'n', 'd', 'm', 'e', 't', 'e', 'r', 'p', 'r', 'o', 's', 'e', 's', 'h', 'a', 'p', 'e', 'g', 'o', 'o', 's', 'e', 'w', 'o', 'r', 'd', 'y', 'm', 'o', 'l', 'd', 'y', 'r', 'i', 'g', 'i', 'd', 's', 'l', 'a', 'c', 'k', 'c', 'u', 'r', 's', 'e', 's', 'w', 'e', 'e', 't', 'm', 'a', 'd', 'a', 'm', 'p', 'r', 'i', 'v', 'y', 'l', 'o', 'u', 's', 'e', 'h', 'o', 'v', 'e', 'l']\n"
     ]
    }
   ],
   "source": [
    "# please put your one line here:\n",
    "wordle = [letter for letter in wordle_sample if letter != \" \"]\n",
    "print(wordle)\n",
    "# wordle_letters[0:15]"
   ]
  },
  {
   "cell_type": "markdown",
   "id": "d3549635-9e88-41ab-b27e-c37c041a311f",
   "metadata": {},
   "source": [
    "2. Here we have several data objects:"
   ]
  },
  {
   "cell_type": "code",
   "execution_count": 3,
   "id": "98919794-2d8c-452f-9dd7-75fdecebe9ef",
   "metadata": {
    "tags": []
   },
   "outputs": [],
   "source": [
    "one = range(1, 51)\n",
    "two = [\n",
    "    'AL', 'AK', 'AZ', 'AR', 'CA', 'CO', 'CT', 'DE', 'FL', 'GA',\n",
    "    'HI', 'ID', 'IL', 'IN', 'IA', 'KS', 'KY', 'LA', 'ME', 'MD',\n",
    "    'MA', 'MI', 'MN', 'MS', 'MO', 'MT', 'NE', 'NV', 'NH', 'NJ',\n",
    "    'NM', 'NY', 'NC', 'ND', 'OH', 'OK', 'OR', 'PA', 'RI', 'SC',\n",
    "    'SD', 'TN', 'TX', 'UT', 'VT', 'VA', 'WA', 'WV', 'WI', 'WY'\n",
    "]\n",
    "three = (\n",
    "    \"Alabama\", \"Alaska\", \"Arizona\", \"Arkansas\", \"California\", \"Colorado\", \"Connecticut\",\n",
    "    \"Delaware\", \"Florida\", \"Georgia\", \"Hawaii\", \"Idaho\", \"Illinois\", \"Indiana\", \"Iowa\", \"Kansas\", \n",
    "    \"Kentucky\", \"Louisiana\", \"Maine\", \"Maryland\", \"Massachusetts\", \"Michigan\", \"Minnesota\", \n",
    "    \"Mississippi\", \"Missouri\", \"Montana\", \"Nebraska\", \"Nevada\", \"New Hampshire\", \"New Jersey\", \n",
    "    \"New Mexico\", \"New York\", \"North Carolina\", \"North Dakota\", \"Ohio\", \"Oklahoma\", \"Oregon\", \n",
    "    \"Pennsylvania\", \"Rhode Island\", \"South Carolina\", \"South Dakota\", \"Tennessee\", \"Texas\", \n",
    "    \"Utah\", \"Vermont\", \"Virginia\", \"Washington\", \"West Virginia\", \"Wisconsin\", \"Wyoming\"\n",
    ")\n",
    "four = [\n",
    "    4903185, 731545, 7278717, 3017804, 39538223, 5773714, 3605944, 989948,\n",
    "    21538187, 10711908, 1455271, 1839106, 12812508, 6785528, 3190369, 2913314,\n",
    "    4467673, 4657757, 1362359, 6177224, 7029917, 10077331, 5706494, 2961279,\n",
    "    6154913, 1084225, 1961504, 3104614, 1377529, 9288994, 2117522, 20201249,\n",
    "    10439388, 779094, 11693217, 3963516, 4237256, 13002700, 1097379, 5170722,\n",
    "    886667, 6910840, 29145505, 3271616, 643077, 8631393, 7693612, 1793716,\n",
    "    5893718, 576851\n",
    "]\n",
    "\n"
   ]
  },
  {
   "cell_type": "markdown",
   "id": "94159903-56be-4efe-9238-24a36ca060f3",
   "metadata": {},
   "source": [
    "Given what you have learned so far, please combine the four objects into a single object with a result like the following:"
   ]
  },
  {
   "cell_type": "code",
   "execution_count": 4,
   "id": "733e14ad-8248-4ea2-bb74-e2fc10f7f77c",
   "metadata": {
    "tags": []
   },
   "outputs": [
    {
     "data": {
      "text/plain": [
       "[(1, 'AL', 'Alabama', 4903185),\n",
       " (2, 'AK', 'Alaska', 731545),\n",
       " (3, 'AZ', 'Arizona', 7278717),\n",
       " (4, 'AR', 'Arkansas', 3017804),\n",
       " (5, 'CA', 'California', 39538223)]"
      ]
     },
     "execution_count": 4,
     "metadata": {},
     "output_type": "execute_result"
    }
   ],
   "source": [
    "# please put your one line here:\n",
    "\n",
    "combined[:5]"
   ]
  }
 ],
 "metadata": {
  "kernelspec": {
   "display_name": "Python 3 (ipykernel)",
   "language": "python",
   "name": "python3"
  },
  "language_info": {
   "codemirror_mode": {
    "name": "ipython",
    "version": 3
   },
   "file_extension": ".py",
   "mimetype": "text/x-python",
   "name": "python",
   "nbconvert_exporter": "python",
   "pygments_lexer": "ipython3",
   "version": "3.11.2"
  }
 },
 "nbformat": 4,
 "nbformat_minor": 5
}
