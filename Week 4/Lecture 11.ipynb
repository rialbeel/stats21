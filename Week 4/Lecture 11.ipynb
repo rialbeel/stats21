{
 "cells": [
  {
   "attachments": {},
   "cell_type": "markdown",
   "metadata": {},
   "source": [
    "## Lecture 11"
   ]
  },
  {
   "cell_type": "code",
   "execution_count": 1,
   "metadata": {},
   "outputs": [
    {
     "data": {
      "text/plain": [
       "{'adam': 25, 'bob': 19, 'carl': 30}"
      ]
     },
     "execution_count": 1,
     "metadata": {},
     "output_type": "execute_result"
    }
   ],
   "source": [
    "# Dictionaries are mutable list-like data structure that stores\n",
    "# and manages data in pairs of keys and values\n",
    "\n",
    "# Dictionary values are indexed/accessed by their key\n",
    "\n",
    "# Dictionaries uses a hash function to store and retrieve data based on keys\n",
    "people2 = dict(adam = 25, bob = 19, carl = 30)\n",
    "people2"
   ]
  },
  {
   "cell_type": "code",
   "execution_count": 5,
   "metadata": {},
   "outputs": [
    {
     "data": {
      "text/plain": [
       "{'adam': 25, 'bob': 19, 'carl': 30}"
      ]
     },
     "execution_count": 5,
     "metadata": {},
     "output_type": "execute_result"
    }
   ],
   "source": [
    "dict(zip(['adam', 'bob', 'carl'], [25, 19, 30]))\n",
    "# Many many other ways to create dictionaries"
   ]
  },
  {
   "cell_type": "code",
   "execution_count": 6,
   "metadata": {},
   "outputs": [
    {
     "data": {
      "text/plain": [
       "list"
      ]
     },
     "execution_count": 6,
     "metadata": {},
     "output_type": "execute_result"
    }
   ],
   "source": [
    "import requests\n",
    "\n",
    "url = 'https://raw.githubusercontent.com/fanzeyi/pokemon.json/master/pokedex.json'\n",
    "response = requests.get(url)\n",
    "data = response.json()\n",
    "\n",
    "type(data)"
   ]
  },
  {
   "cell_type": "code",
   "execution_count": 9,
   "metadata": {},
   "outputs": [
    {
     "data": {
      "text/plain": [
       "[{'id': 1,\n",
       "  'name': {'english': 'Bulbasaur',\n",
       "   'japanese': 'フシギダネ',\n",
       "   'chinese': '妙蛙种子',\n",
       "   'french': 'Bulbizarre'},\n",
       "  'type': ['Grass', 'Poison'],\n",
       "  'base': {'HP': 45,\n",
       "   'Attack': 49,\n",
       "   'Defense': 49,\n",
       "   'Sp. Attack': 65,\n",
       "   'Sp. Defense': 65,\n",
       "   'Speed': 45}},\n",
       " {'id': 2,\n",
       "  'name': {'english': 'Ivysaur',\n",
       "   'japanese': 'フシギソウ',\n",
       "   'chinese': '妙蛙草',\n",
       "   'french': 'Herbizarre'},\n",
       "  'type': ['Grass', 'Poison'],\n",
       "  'base': {'HP': 60,\n",
       "   'Attack': 62,\n",
       "   'Defense': 63,\n",
       "   'Sp. Attack': 80,\n",
       "   'Sp. Defense': 80,\n",
       "   'Speed': 60}},\n",
       " {'id': 3,\n",
       "  'name': {'english': 'Venusaur',\n",
       "   'japanese': 'フシギバナ',\n",
       "   'chinese': '妙蛙花',\n",
       "   'french': 'Florizarre'},\n",
       "  'type': ['Grass', 'Poison'],\n",
       "  'base': {'HP': 80,\n",
       "   'Attack': 82,\n",
       "   'Defense': 83,\n",
       "   'Sp. Attack': 100,\n",
       "   'Sp. Defense': 100,\n",
       "   'Speed': 80}}]"
      ]
     },
     "execution_count": 9,
     "metadata": {},
     "output_type": "execute_result"
    }
   ],
   "source": [
    "data[:3]"
   ]
  },
  {
   "cell_type": "code",
   "execution_count": 4,
   "metadata": {},
   "outputs": [
    {
     "data": {
      "text/plain": [
       "25"
      ]
     },
     "execution_count": 4,
     "metadata": {},
     "output_type": "execute_result"
    }
   ],
   "source": [
    "people2['adam']"
   ]
  },
  {
   "cell_type": "code",
   "execution_count": null,
   "metadata": {},
   "outputs": [],
   "source": []
  }
 ],
 "metadata": {
  "kernelspec": {
   "display_name": "Python 3",
   "language": "python",
   "name": "python3"
  },
  "language_info": {
   "codemirror_mode": {
    "name": "ipython",
    "version": 3
   },
   "file_extension": ".py",
   "mimetype": "text/x-python",
   "name": "python",
   "nbconvert_exporter": "python",
   "pygments_lexer": "ipython3",
   "version": "3.11.2"
  },
  "orig_nbformat": 4
 },
 "nbformat": 4,
 "nbformat_minor": 2
}
