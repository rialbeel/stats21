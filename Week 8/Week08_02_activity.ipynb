{
 "cells": [
  {
   "cell_type": "markdown",
   "id": "44df5f05-aa79-4f4b-bac7-0b441fd10934",
   "metadata": {},
   "source": [
    "<style>\n",
    "body h1:before, body h2:before, body h3:before, body h4:before, body h5:before, body h6:before {\n",
    "  content: \"\";\n",
    "  counter-increment: none;\n",
    "}\n",
    "</style>"
   ]
  },
  {
   "cell_type": "raw",
   "id": "8281eb25-292a-4f5c-9a6d-4360815466a8",
   "metadata": {},
   "source": [
    "\\setcounter{secnumdepth}{0}"
   ]
  },
  {
   "cell_type": "markdown",
   "id": "17474efc-a435-431c-87b6-abcee356b403",
   "metadata": {
    "tags": []
   },
   "source": [
    "# Week08.2 Team Activity\n",
    "Due Thursday May 25th, 2023 by 11:59pm - please upload PDF with photograph (either rendered or a separate file).  There is no expectation of completing this during class, in fact, I am trying to get you to practice working outside of class in teams in preparation for the final project.\n",
    "\n",
    "If you missed class – no credit for this activity, instead, I drop two unexcused absences from the Monday/Wednesday activities before deductions begin.\n",
    "\n",
    "- **Please identify your team & the names of your teammates.** \n",
    "\n",
    "- **Please insert a team photo somewhere in this notebook.  If you cannot get the to render correctly to PDF please upload a separate file of the photo**\n",
    "\n",
    "- **Please make certain that all of your teammates agree upon and understand the team answers. Thank you.**"
   ]
  },
  {
   "attachments": {},
   "cell_type": "markdown",
   "id": "2f54aa0b",
   "metadata": {},
   "source": [
    "Names:"
   ]
  },
  {
   "cell_type": "code",
   "execution_count": 2,
   "id": "bb3a9753",
   "metadata": {},
   "outputs": [],
   "source": [
    "from IPython.display import Image\n",
    "Image(\".jpeg\")"
   ]
  },
  {
   "cell_type": "markdown",
   "id": "f5cb3153-7c1f-4af7-95f3-96f8d22bdfcb",
   "metadata": {
    "tags": []
   },
   "source": [
    "## Assignment\n",
    "\n",
    "If you are with your final project team and have your data, please go ahead and use your final data for this activity.\n",
    "\n",
    "If you are not on a team or sitting with non-teammates today, please try the following, this is a random forest with numerical outcome (price) I've done the preparation for you:"
   ]
  },
  {
   "cell_type": "code",
   "execution_count": 18,
   "id": "d89242b0-dd7a-481a-95ce-042172f294bd",
   "metadata": {},
   "outputs": [
    {
     "data": {
      "text/html": [
       "<div>\n",
       "<style scoped>\n",
       "    .dataframe tbody tr th:only-of-type {\n",
       "        vertical-align: middle;\n",
       "    }\n",
       "\n",
       "    .dataframe tbody tr th {\n",
       "        vertical-align: top;\n",
       "    }\n",
       "\n",
       "    .dataframe thead th {\n",
       "        text-align: right;\n",
       "    }\n",
       "</style>\n",
       "<table border=\"1\" class=\"dataframe\">\n",
       "  <thead>\n",
       "    <tr style=\"text-align: right;\">\n",
       "      <th></th>\n",
       "      <th>bathrooms</th>\n",
       "      <th>bedrooms</th>\n",
       "      <th>created</th>\n",
       "      <th>description</th>\n",
       "      <th>display_address</th>\n",
       "      <th>features</th>\n",
       "      <th>latitude</th>\n",
       "      <th>listing_id</th>\n",
       "      <th>longitude</th>\n",
       "      <th>manager_id</th>\n",
       "      <th>photos</th>\n",
       "      <th>price</th>\n",
       "      <th>street_address</th>\n",
       "      <th>interest_level</th>\n",
       "    </tr>\n",
       "    <tr>\n",
       "      <th>building_id</th>\n",
       "      <th></th>\n",
       "      <th></th>\n",
       "      <th></th>\n",
       "      <th></th>\n",
       "      <th></th>\n",
       "      <th></th>\n",
       "      <th></th>\n",
       "      <th></th>\n",
       "      <th></th>\n",
       "      <th></th>\n",
       "      <th></th>\n",
       "      <th></th>\n",
       "      <th></th>\n",
       "      <th></th>\n",
       "    </tr>\n",
       "  </thead>\n",
       "  <tbody>\n",
       "    <tr>\n",
       "      <th>8579a0b0d54db803821a35a4a615e97a</th>\n",
       "      <td>1.0</td>\n",
       "      <td>1</td>\n",
       "      <td>2016-06-16 05:55:27</td>\n",
       "      <td>Spacious 1 Bedroom 1 Bathroom in Williamsburg!...</td>\n",
       "      <td>145 Borinquen Place</td>\n",
       "      <td>[Dining Room, Pre-War, Laundry in Building, Di...</td>\n",
       "      <td>40.7108</td>\n",
       "      <td>7170325</td>\n",
       "      <td>-73.9539</td>\n",
       "      <td>a10db4590843d78c784171a107bdacb4</td>\n",
       "      <td>[https://photos.renthop.com/2/7170325_3bb5ac84...</td>\n",
       "      <td>2400</td>\n",
       "      <td>145 Borinquen Place</td>\n",
       "      <td>medium</td>\n",
       "    </tr>\n",
       "    <tr>\n",
       "      <th>b8e75fc949a6cd8225b455648a951712</th>\n",
       "      <td>1.0</td>\n",
       "      <td>2</td>\n",
       "      <td>2016-06-01 05:44:33</td>\n",
       "      <td>BRAND NEW GUT RENOVATED TRUE 2 BEDROOMFind you...</td>\n",
       "      <td>East 44th</td>\n",
       "      <td>[Doorman, Elevator, Laundry in Building, Dishw...</td>\n",
       "      <td>40.7513</td>\n",
       "      <td>7092344</td>\n",
       "      <td>-73.9722</td>\n",
       "      <td>955db33477af4f40004820b4aed804a0</td>\n",
       "      <td>[https://photos.renthop.com/2/7092344_7663c19a...</td>\n",
       "      <td>3800</td>\n",
       "      <td>230 East 44th</td>\n",
       "      <td>low</td>\n",
       "    </tr>\n",
       "    <tr>\n",
       "      <th>cd759a988b8f23924b5a2058d5ab2b49</th>\n",
       "      <td>1.0</td>\n",
       "      <td>2</td>\n",
       "      <td>2016-06-14 15:19:59</td>\n",
       "      <td>**FLEX 2 BEDROOM WITH FULL PRESSURIZED WALL**L...</td>\n",
       "      <td>East 56th Street</td>\n",
       "      <td>[Doorman, Elevator, Laundry in Building, Laund...</td>\n",
       "      <td>40.7575</td>\n",
       "      <td>7158677</td>\n",
       "      <td>-73.9625</td>\n",
       "      <td>c8b10a317b766204f08e613cef4ce7a0</td>\n",
       "      <td>[https://photos.renthop.com/2/7158677_c897a134...</td>\n",
       "      <td>3495</td>\n",
       "      <td>405 East 56th Street</td>\n",
       "      <td>medium</td>\n",
       "    </tr>\n",
       "    <tr>\n",
       "      <th>53a5b119ba8f7b61d4e010512e0dfc85</th>\n",
       "      <td>1.5</td>\n",
       "      <td>3</td>\n",
       "      <td>2016-06-24 07:54:24</td>\n",
       "      <td>A Brand New 3 Bedroom 1.5 bath ApartmentEnjoy ...</td>\n",
       "      <td>Metropolitan Avenue</td>\n",
       "      <td>[]</td>\n",
       "      <td>40.7145</td>\n",
       "      <td>7211212</td>\n",
       "      <td>-73.9425</td>\n",
       "      <td>5ba989232d0489da1b5f2c45f6688adc</td>\n",
       "      <td>[https://photos.renthop.com/2/7211212_1ed4542e...</td>\n",
       "      <td>3000</td>\n",
       "      <td>792 Metropolitan Avenue</td>\n",
       "      <td>medium</td>\n",
       "    </tr>\n",
       "    <tr>\n",
       "      <th>bfb9405149bfff42a92980b594c28234</th>\n",
       "      <td>1.0</td>\n",
       "      <td>0</td>\n",
       "      <td>2016-06-28 03:50:23</td>\n",
       "      <td>Over-sized Studio w abundant closets. Availabl...</td>\n",
       "      <td>East 34th Street</td>\n",
       "      <td>[Doorman, Elevator, Fitness Center, Laundry in...</td>\n",
       "      <td>40.7439</td>\n",
       "      <td>7225292</td>\n",
       "      <td>-73.9743</td>\n",
       "      <td>2c3b41f588fbb5234d8a1e885a436cfa</td>\n",
       "      <td>[https://photos.renthop.com/2/7225292_901f1984...</td>\n",
       "      <td>2795</td>\n",
       "      <td>340 East 34th Street</td>\n",
       "      <td>low</td>\n",
       "    </tr>\n",
       "  </tbody>\n",
       "</table>\n",
       "</div>"
      ],
      "text/plain": [
       "                                  bathrooms  bedrooms              created  \\\n",
       "building_id                                                                  \n",
       "8579a0b0d54db803821a35a4a615e97a        1.0         1  2016-06-16 05:55:27   \n",
       "b8e75fc949a6cd8225b455648a951712        1.0         2  2016-06-01 05:44:33   \n",
       "cd759a988b8f23924b5a2058d5ab2b49        1.0         2  2016-06-14 15:19:59   \n",
       "53a5b119ba8f7b61d4e010512e0dfc85        1.5         3  2016-06-24 07:54:24   \n",
       "bfb9405149bfff42a92980b594c28234        1.0         0  2016-06-28 03:50:23   \n",
       "\n",
       "                                                                        description  \\\n",
       "building_id                                                                           \n",
       "8579a0b0d54db803821a35a4a615e97a  Spacious 1 Bedroom 1 Bathroom in Williamsburg!...   \n",
       "b8e75fc949a6cd8225b455648a951712  BRAND NEW GUT RENOVATED TRUE 2 BEDROOMFind you...   \n",
       "cd759a988b8f23924b5a2058d5ab2b49  **FLEX 2 BEDROOM WITH FULL PRESSURIZED WALL**L...   \n",
       "53a5b119ba8f7b61d4e010512e0dfc85  A Brand New 3 Bedroom 1.5 bath ApartmentEnjoy ...   \n",
       "bfb9405149bfff42a92980b594c28234  Over-sized Studio w abundant closets. Availabl...   \n",
       "\n",
       "                                      display_address  \\\n",
       "building_id                                             \n",
       "8579a0b0d54db803821a35a4a615e97a  145 Borinquen Place   \n",
       "b8e75fc949a6cd8225b455648a951712            East 44th   \n",
       "cd759a988b8f23924b5a2058d5ab2b49     East 56th Street   \n",
       "53a5b119ba8f7b61d4e010512e0dfc85  Metropolitan Avenue   \n",
       "bfb9405149bfff42a92980b594c28234     East 34th Street   \n",
       "\n",
       "                                                                           features  \\\n",
       "building_id                                                                           \n",
       "8579a0b0d54db803821a35a4a615e97a  [Dining Room, Pre-War, Laundry in Building, Di...   \n",
       "b8e75fc949a6cd8225b455648a951712  [Doorman, Elevator, Laundry in Building, Dishw...   \n",
       "cd759a988b8f23924b5a2058d5ab2b49  [Doorman, Elevator, Laundry in Building, Laund...   \n",
       "53a5b119ba8f7b61d4e010512e0dfc85                                                 []   \n",
       "bfb9405149bfff42a92980b594c28234  [Doorman, Elevator, Fitness Center, Laundry in...   \n",
       "\n",
       "                                  latitude  listing_id  longitude  \\\n",
       "building_id                                                         \n",
       "8579a0b0d54db803821a35a4a615e97a   40.7108     7170325   -73.9539   \n",
       "b8e75fc949a6cd8225b455648a951712   40.7513     7092344   -73.9722   \n",
       "cd759a988b8f23924b5a2058d5ab2b49   40.7575     7158677   -73.9625   \n",
       "53a5b119ba8f7b61d4e010512e0dfc85   40.7145     7211212   -73.9425   \n",
       "bfb9405149bfff42a92980b594c28234   40.7439     7225292   -73.9743   \n",
       "\n",
       "                                                        manager_id  \\\n",
       "building_id                                                          \n",
       "8579a0b0d54db803821a35a4a615e97a  a10db4590843d78c784171a107bdacb4   \n",
       "b8e75fc949a6cd8225b455648a951712  955db33477af4f40004820b4aed804a0   \n",
       "cd759a988b8f23924b5a2058d5ab2b49  c8b10a317b766204f08e613cef4ce7a0   \n",
       "53a5b119ba8f7b61d4e010512e0dfc85  5ba989232d0489da1b5f2c45f6688adc   \n",
       "bfb9405149bfff42a92980b594c28234  2c3b41f588fbb5234d8a1e885a436cfa   \n",
       "\n",
       "                                                                             photos  \\\n",
       "building_id                                                                           \n",
       "8579a0b0d54db803821a35a4a615e97a  [https://photos.renthop.com/2/7170325_3bb5ac84...   \n",
       "b8e75fc949a6cd8225b455648a951712  [https://photos.renthop.com/2/7092344_7663c19a...   \n",
       "cd759a988b8f23924b5a2058d5ab2b49  [https://photos.renthop.com/2/7158677_c897a134...   \n",
       "53a5b119ba8f7b61d4e010512e0dfc85  [https://photos.renthop.com/2/7211212_1ed4542e...   \n",
       "bfb9405149bfff42a92980b594c28234  [https://photos.renthop.com/2/7225292_901f1984...   \n",
       "\n",
       "                                  price           street_address  \\\n",
       "building_id                                                        \n",
       "8579a0b0d54db803821a35a4a615e97a   2400      145 Borinquen Place   \n",
       "b8e75fc949a6cd8225b455648a951712   3800            230 East 44th   \n",
       "cd759a988b8f23924b5a2058d5ab2b49   3495     405 East 56th Street   \n",
       "53a5b119ba8f7b61d4e010512e0dfc85   3000  792 Metropolitan Avenue   \n",
       "bfb9405149bfff42a92980b594c28234   2795     340 East 34th Street   \n",
       "\n",
       "                                 interest_level  \n",
       "building_id                                      \n",
       "8579a0b0d54db803821a35a4a615e97a         medium  \n",
       "b8e75fc949a6cd8225b455648a951712            low  \n",
       "cd759a988b8f23924b5a2058d5ab2b49         medium  \n",
       "53a5b119ba8f7b61d4e010512e0dfc85         medium  \n",
       "bfb9405149bfff42a92980b594c28234            low  "
      ]
     },
     "execution_count": 18,
     "metadata": {},
     "output_type": "execute_result"
    }
   ],
   "source": [
    "import numpy as np\n",
    "import pandas as pd\n",
    "import matplotlib.pyplot as plt\n",
    "\n",
    "from sklearn.ensemble import RandomForestClassifier, RandomForestRegressor\n",
    "\n",
    "train = pd.read_json(\"train.json\")\n",
    "train.set_index('building_id', inplace=True)\n",
    "\n",
    "%matplotlib inline\n",
    "train.head()"
   ]
  },
  {
   "cell_type": "code",
   "execution_count": 14,
   "id": "d82d02d4-d60e-4fee-93d0-5d9533fc11a4",
   "metadata": {
    "tags": []
   },
   "outputs": [],
   "source": [
    "# turn the outcome into categories\n",
    "train['interest_level'] =  pd.Categorical(\n",
    "    train['interest_level'], \n",
    "    categories=[\"low\", \"medium\", \"high\"], ordered=True\n",
    ")"
   ]
  },
  {
   "cell_type": "markdown",
   "id": "d2b9d0f7-a129-4bf2-a89c-0310cf35ceac",
   "metadata": {},
   "source": [
    "## Add additional features to this list\n",
    "\n",
    "Please add additional features to the model.  I've only included location (lon/lat) but there are others.  I didn't talk about RandomForestRegressor (numerical outcome) so here is the model (followed by an explanation):"
   ]
  },
  {
   "cell_type": "code",
   "execution_count": 20,
   "id": "6b4e35aa-0a2c-466e-b3d7-03e4c0c6b3db",
   "metadata": {
    "tags": []
   },
   "outputs": [],
   "source": [
    "feature_names = ['longitude', 'latitude', 'bedrooms', 'price']\n",
    "train_sub = train[feature_names]\n",
    "X_train, y_train = train_sub.drop('price',axis=1), train_sub['price']\n",
    "rf = RandomForestRegressor(\n",
    "         n_estimators=100,\n",
    "         min_samples_leaf=1,\n",
    "         n_jobs=-1)"
   ]
  },
  {
   "cell_type": "markdown",
   "id": "b11e8c81-c586-4f93-b6b5-a0d4df47eb07",
   "metadata": {},
   "source": [
    "n_estimators: This is the number of trees in the forest. In this case, 100 trees will be estimated.\n",
    "\n",
    "min_samples_leaf: This is the minimum number of samples required to be at a leaf node. The algorithm won't allow a split that leaves fewer than this number of samples in a node.\n",
    "\n",
    "n_jobs: The number of jobs to run in parallel for both fit and predict. If -1, then the number of jobs is set to the number of cores."
   ]
  },
  {
   "cell_type": "markdown",
   "id": "4ccd5bd9-cc8a-46c9-b1a4-85be9b6c7ab2",
   "metadata": {},
   "source": [
    "## Fit your model"
   ]
  },
  {
   "cell_type": "code",
   "execution_count": 21,
   "id": "881cc3c5-aa3a-4bdf-9e49-f48ed156ff36",
   "metadata": {},
   "outputs": [
    {
     "data": {
      "text/html": [
       "<style>#sk-container-id-3 {color: black;background-color: white;}#sk-container-id-3 pre{padding: 0;}#sk-container-id-3 div.sk-toggleable {background-color: white;}#sk-container-id-3 label.sk-toggleable__label {cursor: pointer;display: block;width: 100%;margin-bottom: 0;padding: 0.3em;box-sizing: border-box;text-align: center;}#sk-container-id-3 label.sk-toggleable__label-arrow:before {content: \"▸\";float: left;margin-right: 0.25em;color: #696969;}#sk-container-id-3 label.sk-toggleable__label-arrow:hover:before {color: black;}#sk-container-id-3 div.sk-estimator:hover label.sk-toggleable__label-arrow:before {color: black;}#sk-container-id-3 div.sk-toggleable__content {max-height: 0;max-width: 0;overflow: hidden;text-align: left;background-color: #f0f8ff;}#sk-container-id-3 div.sk-toggleable__content pre {margin: 0.2em;color: black;border-radius: 0.25em;background-color: #f0f8ff;}#sk-container-id-3 input.sk-toggleable__control:checked~div.sk-toggleable__content {max-height: 200px;max-width: 100%;overflow: auto;}#sk-container-id-3 input.sk-toggleable__control:checked~label.sk-toggleable__label-arrow:before {content: \"▾\";}#sk-container-id-3 div.sk-estimator input.sk-toggleable__control:checked~label.sk-toggleable__label {background-color: #d4ebff;}#sk-container-id-3 div.sk-label input.sk-toggleable__control:checked~label.sk-toggleable__label {background-color: #d4ebff;}#sk-container-id-3 input.sk-hidden--visually {border: 0;clip: rect(1px 1px 1px 1px);clip: rect(1px, 1px, 1px, 1px);height: 1px;margin: -1px;overflow: hidden;padding: 0;position: absolute;width: 1px;}#sk-container-id-3 div.sk-estimator {font-family: monospace;background-color: #f0f8ff;border: 1px dotted black;border-radius: 0.25em;box-sizing: border-box;margin-bottom: 0.5em;}#sk-container-id-3 div.sk-estimator:hover {background-color: #d4ebff;}#sk-container-id-3 div.sk-parallel-item::after {content: \"\";width: 100%;border-bottom: 1px solid gray;flex-grow: 1;}#sk-container-id-3 div.sk-label:hover label.sk-toggleable__label {background-color: #d4ebff;}#sk-container-id-3 div.sk-serial::before {content: \"\";position: absolute;border-left: 1px solid gray;box-sizing: border-box;top: 0;bottom: 0;left: 50%;z-index: 0;}#sk-container-id-3 div.sk-serial {display: flex;flex-direction: column;align-items: center;background-color: white;padding-right: 0.2em;padding-left: 0.2em;position: relative;}#sk-container-id-3 div.sk-item {position: relative;z-index: 1;}#sk-container-id-3 div.sk-parallel {display: flex;align-items: stretch;justify-content: center;background-color: white;position: relative;}#sk-container-id-3 div.sk-item::before, #sk-container-id-3 div.sk-parallel-item::before {content: \"\";position: absolute;border-left: 1px solid gray;box-sizing: border-box;top: 0;bottom: 0;left: 50%;z-index: -1;}#sk-container-id-3 div.sk-parallel-item {display: flex;flex-direction: column;z-index: 1;position: relative;background-color: white;}#sk-container-id-3 div.sk-parallel-item:first-child::after {align-self: flex-end;width: 50%;}#sk-container-id-3 div.sk-parallel-item:last-child::after {align-self: flex-start;width: 50%;}#sk-container-id-3 div.sk-parallel-item:only-child::after {width: 0;}#sk-container-id-3 div.sk-dashed-wrapped {border: 1px dashed gray;margin: 0 0.4em 0.5em 0.4em;box-sizing: border-box;padding-bottom: 0.4em;background-color: white;}#sk-container-id-3 div.sk-label label {font-family: monospace;font-weight: bold;display: inline-block;line-height: 1.2em;}#sk-container-id-3 div.sk-label-container {text-align: center;}#sk-container-id-3 div.sk-container {/* jupyter's `normalize.less` sets `[hidden] { display: none; }` but bootstrap.min.css set `[hidden] { display: none !important; }` so we also need the `!important` here to be able to override the default hidden behavior on the sphinx rendered scikit-learn.org. See: https://github.com/scikit-learn/scikit-learn/issues/21755 */display: inline-block !important;position: relative;}#sk-container-id-3 div.sk-text-repr-fallback {display: none;}</style><div id=\"sk-container-id-3\" class=\"sk-top-container\"><div class=\"sk-text-repr-fallback\"><pre>RandomForestRegressor(n_jobs=-1)</pre><b>In a Jupyter environment, please rerun this cell to show the HTML representation or trust the notebook. <br />On GitHub, the HTML representation is unable to render, please try loading this page with nbviewer.org.</b></div><div class=\"sk-container\" hidden><div class=\"sk-item\"><div class=\"sk-estimator sk-toggleable\"><input class=\"sk-toggleable__control sk-hidden--visually\" id=\"sk-estimator-id-3\" type=\"checkbox\" checked><label for=\"sk-estimator-id-3\" class=\"sk-toggleable__label sk-toggleable__label-arrow\">RandomForestRegressor</label><div class=\"sk-toggleable__content\"><pre>RandomForestRegressor(n_jobs=-1)</pre></div></div></div></div></div>"
      ],
      "text/plain": [
       "RandomForestRegressor(n_jobs=-1)"
      ]
     },
     "execution_count": 21,
     "metadata": {},
     "output_type": "execute_result"
    }
   ],
   "source": [
    "rf.fit(X_train, y_train)"
   ]
  },
  {
   "cell_type": "markdown",
   "id": "8db92aa3-6c32-4233-80eb-334405bdfe74",
   "metadata": {},
   "source": [
    "## Examine the results\n",
    "\n",
    "Example, check the feature importance (you should add more variables and modify the graphic) and what do you conclude about the real estate features and price?"
   ]
  },
  {
   "cell_type": "code",
   "execution_count": 22,
   "id": "53774b22-0485-4f6c-b168-ca3970b407c7",
   "metadata": {
    "tags": []
   },
   "outputs": [
    {
     "data": {
      "image/png": "[encoded data removed]",
      "text/plain": [
       "<Figure size 1200x600 with 1 Axes>"
      ]
     },
     "metadata": {},
     "output_type": "display_data"
    }
   ],
   "source": [
    "feature_importance = rf.feature_importances_[0:3]\n",
    "indices = np.argsort(feature_importance)\n",
    "\n",
    "plt.figure(figsize=(12, 6))\n",
    "plt.title(\"Feature importance\")\n",
    "plt.barh(range(len(indices)), feature_importance[indices], color='b', align='center')\n",
    "plt.yticks(range(len(indices)), [feature_names[i] for i in indices])\n",
    "plt.xlabel('Relative Importance')\n",
    "plt.show()"
   ]
  },
  {
   "cell_type": "markdown",
   "id": "2b334525-bca2-4828-a449-805b26bf3333",
   "metadata": {},
   "source": [
    "There are more things you could do, for example, predict price using the test data."
   ]
  },
  {
   "cell_type": "markdown",
   "id": "ef69a93c-8bf7-4416-9395-350e36b74acc",
   "metadata": {
    "jp-MarkdownHeadingCollapsed": true,
    "tags": []
   },
   "source": [
    "3.  Can your team modify this model to examine the categorical outcome \"interest_level\"?  If yes, how does the model for interest_level differ from price with respect to variables like location and the features of the rental unit.\n",
    "\n",
    "Please remember to take a team photo.\n",
    " "
   ]
  },
  {
   "cell_type": "markdown",
   "id": "1d34b3a1-1ddb-493b-99b8-c98205b4d9c1",
   "metadata": {},
   "source": [
    "## What to submit for credit\n",
    "\n",
    "- Please upload the Jupyter Notebook (.ipynb) and PDF (preferred) OR .html (OK) to Bruin Learn with your team attempt.  Please make sure every team member understands the contents of the notebook.  \n",
    "\n",
    "- This is due before 11:59pm Thursday 5/25/2023 "
   ]
  }
 ],
 "metadata": {
  "kernelspec": {
   "display_name": "Python 3 (ipykernel)",
   "language": "python",
   "name": "python3"
  },
  "language_info": {
   "codemirror_mode": {
    "name": "ipython",
    "version": 3
   },
   "file_extension": ".py",
   "mimetype": "text/x-python",
   "name": "python",
   "nbconvert_exporter": "python",
   "pygments_lexer": "ipython3",
   "version": "3.11.2"
  }
 },
 "nbformat": 4,
 "nbformat_minor": 5
}
