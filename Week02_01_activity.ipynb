{
 "cells": [
  {
   "cell_type": "markdown",
   "id": "17474efc-a435-431c-87b6-abcee356b403",
   "metadata": {},
   "source": [
    "## Week02.1 In-Class Team Activity\n",
    "Monday April 10th, 2023 - upload PDF with photograph (either rendered or a separate file) Due by 11:59pm\n",
    "\n",
    "If you missed class – no credit for this in-class activity, instead, I drop two unexcused absences from the Monday/Wednesday activities before deductions begin.\n",
    "\n",
    "1. Please identify your team & the names of your teammates. \n",
    "\n",
    "2. Please insert a team photo somewhere in this notebook.  If you cannot get it to render correctly upload a separate copy\n",
    "\n",
    "Please run the next cell to obtain a copy of the Gettysburg Address by Abraham Lincoln.  You will need to install the requests library (documentation if you want to learn more: https://requests.readthedocs.io/en/latest/) if you don't already have access to it (or get a copy of the Gettysburg Address some other way)"
   ]
  },
  {
   "cell_type": "code",
   "execution_count": 1,
   "id": "460335ad-e81c-4ae4-89dd-adc5cf7013b6",
   "metadata": {},
   "outputs": [
    {
     "name": "stdout",
     "output_type": "stream",
     "text": [
      "Fourscore and seven years ago our fathers brought forth on this continent a new nation, conceived in liberty and dedicated to the proposition that all men are created equal. Now we are engaged in a great civil war, testing whether that nation or any nation so conceived and so dedicated can long endure. We are met on a great battlefield of that war. We have come to dedicate a portion of that field as a final resting place for those who here gave their lives that that nation might live. It is altogether fitting and proper that we should do this. But in a larger sense, we cannot dedicate, we cannot consecrate, we cannot hallow this ground. The brave men, living and dead who struggled here have consecrated it far above our poor power to add or detract. The world will little note nor long remember what we say here, but it can never forget what they did here. It is for us the living rather to be dedicated here to the unfinished work which they who fought here have thus far so nobly advanced. It is rather for us to be here dedicated to the great task remaining before us that from these honored dead we take increased devotion to that cause for which they gave the last full measure of devotion that we here highly resolve that these dead shall not have died in vain, that this nation under God shall have a new birth of freedom, and that government of the people, by the people, for the people shall not perish from the earth\n"
     ]
    }
   ],
   "source": [
    "import requests\n",
    "\n",
    "url = 'http://www.stat.ucla.edu/~vlew/datasets/gettysburg.txt'\n",
    "\n",
    "response = requests.get(url)\n",
    "# type(response)\n",
    "\n",
    "# .text is a property of the Response object\n",
    "gettysburg = response.text\n",
    "print(gettysburg)"
   ]
  },
  {
   "cell_type": "markdown",
   "id": "547ee510-ce20-496d-b457-7ed0826892e2",
   "metadata": {},
   "source": [
    "1. What is the length of the Gettysburg Address according to Python? (put  your code in the cell below)"
   ]
  },
  {
   "cell_type": "code",
   "execution_count": 2,
   "id": "0897a93d-0e8b-4f7e-a202-71708f96c5f2",
   "metadata": {},
   "outputs": [],
   "source": [
    "# modify this cell with the appropriate code"
   ]
  },
  {
   "cell_type": "markdown",
   "id": "c56fe4a3-3038-4c22-b3c1-21ecc79a4453",
   "metadata": {},
   "source": [
    "2. How would you slice the Gettysburg Address to obtain the first word \"Fourscore\"?"
   ]
  },
  {
   "cell_type": "code",
   "execution_count": 3,
   "id": "015dfbc9-b8f2-4bc7-b52e-878a9ca0c02a",
   "metadata": {},
   "outputs": [],
   "source": [
    "# modify this cell with the appropriate code"
   ]
  },
  {
   "cell_type": "markdown",
   "id": "11d97335-1dea-41c3-b5bd-5a729cbba416",
   "metadata": {},
   "source": [
    "3. How would you slice the Gettysburg Address to obtain the final word \"earth\"?"
   ]
  },
  {
   "cell_type": "code",
   "execution_count": 4,
   "id": "73e13be3-26d0-4f33-a521-4448b4abc4f9",
   "metadata": {},
   "outputs": [],
   "source": [
    "# modify this cell with the appropriate code"
   ]
  },
  {
   "cell_type": "markdown",
   "id": "e7209153-1119-4015-815d-ab16677020d3",
   "metadata": {},
   "source": [
    "4. (thinking question) Don't look this up (yet) but instead think it through as a team - what steps would you take (or outline) to remove the punctuation from the Gettysburg address so you could better analyze it?"
   ]
  },
  {
   "cell_type": "markdown",
   "id": "8d232a24-99b5-4a97-b255-d5731e521161",
   "metadata": {},
   "source": [
    "*this is a markdown cell* please modify it"
   ]
  },
  {
   "cell_type": "markdown",
   "id": "182db9a3-68c8-42e9-9160-0bba9bbd4d34",
   "metadata": {},
   "source": [
    "(optional) 5. If your team has the time/inclination, see if you can remove the punctuation with only using modules from the Python Standard Library (so import without installing) and a for loop (that's next lecture but you should have convered it in Stats 20).  ChatGPT is fine to use here."
   ]
  },
  {
   "cell_type": "code",
   "execution_count": 5,
   "id": "ca6b312a-a165-4a7b-aab4-43a20975fb23",
   "metadata": {},
   "outputs": [],
   "source": [
    "# modify this cell with the appropriate code"
   ]
  }
 ],
 "metadata": {
  "kernelspec": {
   "display_name": "Python 3 (ipykernel)",
   "language": "python",
   "name": "python3"
  },
  "language_info": {
   "codemirror_mode": {
    "name": "ipython",
    "version": 3
   },
   "file_extension": ".py",
   "mimetype": "text/x-python",
   "name": "python",
   "nbconvert_exporter": "python",
   "pygments_lexer": "ipython3",
   "version": "3.11.2"
  }
 },
 "nbformat": 4,
 "nbformat_minor": 5
}
