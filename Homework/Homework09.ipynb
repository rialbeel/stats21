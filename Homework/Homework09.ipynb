{
 "cells": [
  {
   "attachments": {},
   "cell_type": "markdown",
   "metadata": {
    "tags": []
   },
   "source": [
    "## Stats 21 - Homework 09 {-}\n",
    "### Blair Lee - 005721089\n",
    "### Due June 10, 2023 by 11:59pm {-}"
   ]
  },
  {
   "cell_type": "markdown",
   "metadata": {},
   "source": [
    "Problems have been adapted from the exercises in Think Python 2nd Ed by Allen B. Downey. https://greenteapress.com/thinkpython2/html/thinkpython2017.html\n",
    "\n",
    "The questions have been entered into this document. You will modify the document by entering your code.\n",
    "\n",
    "Make sure you run the cell so the requested output is visible. "
   ]
  },
  {
   "cell_type": "code",
   "execution_count": 1,
   "metadata": {},
   "outputs": [],
   "source": [
    "from IPython.display import display, Math, Latex"
   ]
  },
  {
   "cell_type": "markdown",
   "metadata": {
    "tags": []
   },
   "source": [
    "### Problem 1. Convert integers to Roman number {-}\n",
    "\n",
    "Please write define a class (we got you started wtih some useful attributes) that will convert integers to Roman numbers.  So for example the number 2023 should convert to 'MMXXIII'\n",
    "\n",
    "If a float is received, it should convert the float to integer without error.\n",
    "\n",
    "You should be able to program this one without importing any libraries/modules.\n"
   ]
  },
  {
   "cell_type": "code",
   "execution_count": 39,
   "metadata": {
    "tags": []
   },
   "outputs": [],
   "source": [
    "class IntegerToRoman:\n",
    "    def __init__(self):\n",
    "        self.values = [1000, 900, 500, 400, 100, 90, 50, 40, 10, 9, 5, 4, 1]\n",
    "        self.symbols = [\"M\", \"CM\", \"D\", \"CD\", \"C\", \"XC\", \"L\", \"XL\", \"X\", \"IX\", \"V\", \"IV\", \"I\"]\n",
    "    \n",
    "    def int_to_roman(self, number):\n",
    "        if type(number) not in [int, float]:\n",
    "            print(\"WARNING: the inputted value is not a number! Returning empty string.\")\n",
    "            return \"\"\n",
    "        number = round(number) \n",
    "        i = 0\n",
    "        roman = \"\"\n",
    "        while number:\n",
    "            division = number // self.values[i]\n",
    "            number %= self.values[i]\n",
    "            while division:\n",
    "                roman += self.symbols[i]\n",
    "                division -= 1\n",
    "            i += 1\n",
    "        return roman"
   ]
  },
  {
   "cell_type": "code",
   "execution_count": 40,
   "metadata": {
    "tags": []
   },
   "outputs": [],
   "source": [
    "converter = IntegerToRoman()"
   ]
  },
  {
   "cell_type": "code",
   "execution_count": 41,
   "metadata": {
    "tags": []
   },
   "outputs": [
    {
     "data": {
      "text/plain": [
       "'MMXXIII'"
      ]
     },
     "execution_count": 41,
     "metadata": {},
     "output_type": "execute_result"
    }
   ],
   "source": [
    "# Uncomment the next line and run\n",
    "converter.int_to_roman(2023)"
   ]
  },
  {
   "cell_type": "code",
   "execution_count": 42,
   "metadata": {
    "tags": []
   },
   "outputs": [
    {
     "name": "stdout",
     "output_type": "stream",
     "text": [
      "IV\n",
      "IX\n",
      "XX\n",
      "LIII\n",
      "CII\n",
      "DVII\n",
      "MMXXII\n",
      "WARNING: the inputted value is not a number! Returning empty string.\n",
      "\n",
      "WARNING: the inputted value is not a number! Returning empty string.\n",
      "\n"
     ]
    }
   ],
   "source": [
    "# Uncomment the next lines and run\n",
    "x = [4, 9, 19.7, 53, 102, 507, 2022, True, False]\n",
    "for i in x:\n",
    "    print(IntegerToRoman().int_to_roman(i))"
   ]
  },
  {
   "cell_type": "markdown",
   "metadata": {},
   "source": [
    "### Problem 2. String Cleaning {-}\n",
    "\n",
    "One of the reasons we use Object Oriented Programming is to reuse code in the current and possibly different applications.\n",
    "\n",
    "Strings, with only a few exceptions, are unclean.\n",
    "\n",
    "Please construct a class named StringCleaner that will accept a test string and perform the following actions found below.\n",
    "\n",
    "You may import any libraries/modules that you have seen presented in this class and any of the modules from the Python Standard library that you may not have seen."
   ]
  },
  {
   "cell_type": "code",
   "execution_count": 80,
   "metadata": {
    "tags": []
   },
   "outputs": [],
   "source": [
    "import string\n",
    "\n",
    "class StringCleaner:\n",
    "    def __init__(self, string):\n",
    "        self.string = string\n",
    "    \n",
    "    def clean_string_tolower(self):\n",
    "        return self.string.lower()\n",
    "\n",
    "    def clean_string_toupper(self):\n",
    "        return self.string.upper()\n",
    "    \n",
    "    def remove_punctuation(self):\n",
    "        no_punc = \"\"\n",
    "        punc = '''!()-[]{};:'\"\\,<>./?@#$%^&*_~'''\n",
    "        for i in self.string:\n",
    "            if i not in punc:\n",
    "                no_punc += i\n",
    "        return no_punc\n",
    "    \n",
    "    def remove_capitalization(self):\n",
    "        return self.string.lower()\n",
    "        "
   ]
  },
  {
   "cell_type": "code",
   "execution_count": 81,
   "metadata": {
    "tags": []
   },
   "outputs": [],
   "source": [
    "test_string = \"I'm findin' ways to articulate the feelin' I'm goin' through I just can't say I don't love you (Yeah) 'Cause I love you, yeah It's hard for me to communicate the thoughts that I hold But tonight, I'm gon' let you know Let me tell the truth Baby, let me tell the truth, yeah\""
   ]
  },
  {
   "cell_type": "code",
   "execution_count": 82,
   "metadata": {
    "tags": []
   },
   "outputs": [],
   "source": [
    "# uncomment the next line and run\n",
    "test = StringCleaner(test_string)"
   ]
  },
  {
   "cell_type": "code",
   "execution_count": 83,
   "metadata": {
    "tags": []
   },
   "outputs": [
    {
     "data": {
      "text/plain": [
       "\"i'm findin' ways to articulate the feelin' i'm goin' through i just can't say i don't love you (yeah) 'cause i love you, yeah it's hard for me to communicate the thoughts that i hold but tonight, i'm gon' let you know let me tell the truth baby, let me tell the truth, yeah\""
      ]
     },
     "execution_count": 83,
     "metadata": {},
     "output_type": "execute_result"
    }
   ],
   "source": [
    "# uncomment the next line and run\n",
    "test.clean_string_tolower()"
   ]
  },
  {
   "cell_type": "code",
   "execution_count": 84,
   "metadata": {
    "tags": []
   },
   "outputs": [
    {
     "data": {
      "text/plain": [
       "\"I'M FINDIN' WAYS TO ARTICULATE THE FEELIN' I'M GOIN' THROUGH I JUST CAN'T SAY I DON'T LOVE YOU (YEAH) 'CAUSE I LOVE YOU, YEAH IT'S HARD FOR ME TO COMMUNICATE THE THOUGHTS THAT I HOLD BUT TONIGHT, I'M GON' LET YOU KNOW LET ME TELL THE TRUTH BABY, LET ME TELL THE TRUTH, YEAH\""
      ]
     },
     "execution_count": 84,
     "metadata": {},
     "output_type": "execute_result"
    }
   ],
   "source": [
    "# uncomment the next line and run\n",
    "test.clean_string_toupper()"
   ]
  },
  {
   "cell_type": "code",
   "execution_count": 85,
   "metadata": {
    "tags": []
   },
   "outputs": [
    {
     "data": {
      "text/plain": [
       "'Im findin ways to articulate the feelin Im goin through I just cant say I dont love you Yeah Cause I love you yeah Its hard for me to communicate the thoughts that I hold But tonight Im gon let you know Let me tell the truth Baby let me tell the truth yeah'"
      ]
     },
     "execution_count": 85,
     "metadata": {},
     "output_type": "execute_result"
    }
   ],
   "source": [
    "# uncomment the next line and run\n",
    "test.remove_punctuation()"
   ]
  },
  {
   "cell_type": "code",
   "execution_count": 86,
   "metadata": {
    "tags": []
   },
   "outputs": [
    {
     "data": {
      "text/plain": [
       "\"i'm findin' ways to articulate the feelin' i'm goin' through i just can't say i don't love you (yeah) 'cause i love you, yeah it's hard for me to communicate the thoughts that i hold but tonight, i'm gon' let you know let me tell the truth baby, let me tell the truth, yeah\""
      ]
     },
     "execution_count": 86,
     "metadata": {},
     "output_type": "execute_result"
    }
   ],
   "source": [
    "# uncomment the next line and run\n",
    "test.remove_capitalization()"
   ]
  },
  {
   "cell_type": "code",
   "execution_count": 87,
   "metadata": {
    "tags": []
   },
   "outputs": [
    {
     "data": {
      "text/plain": [
       "\"i'm findin' ways to articulate the feelin' i'm goin' through i just can't say i don't love you (yeah) 'cause i love you, yeah it's hard for me to communicate the thoughts that i hold but tonight, i'm gon' let you know let me tell the truth baby, let me tell the truth, yeah\""
      ]
     },
     "execution_count": 87,
     "metadata": {},
     "output_type": "execute_result"
    }
   ],
   "source": [
    "# uncomment the next line and run\n",
    "test_string.lower()"
   ]
  },
  {
   "cell_type": "markdown",
   "metadata": {},
   "source": [
    "### Problem 3. Rolling Dice {-}\n",
    "\n",
    "Please construct a class (called DiceRoll below, but name yours whatever) with a method named roll that allows the user to specify the number of die rolled, and the number of sides."
   ]
  },
  {
   "cell_type": "code",
   "execution_count": 127,
   "metadata": {
    "tags": []
   },
   "outputs": [],
   "source": [
    "import random\n",
    "import seaborn as sns\n",
    "\n",
    "random.seed(1)\n",
    "\n",
    "class DiceRoll:\n",
    "    def __init__(self, sides, num_dice):\n",
    "        self.sides = sides\n",
    "        self.num_dice = num_dice\n",
    "    \n",
    "    def random_roll(self):\n",
    "        results = []\n",
    "        rolls = self.num_dice\n",
    "        while rolls:\n",
    "            results.append(random.randint(1, self.sides))\n",
    "            rolls -= 1\n",
    "        return results\n"
   ]
  },
  {
   "cell_type": "code",
   "execution_count": 128,
   "metadata": {
    "tags": []
   },
   "outputs": [
    {
     "data": {
      "text/plain": [
       "[2, 5]"
      ]
     },
     "execution_count": 128,
     "metadata": {},
     "output_type": "execute_result"
    }
   ],
   "source": [
    "# Roll two 6-sided dice\n",
    "two_six = DiceRoll(6, 2)\n",
    "two_six.random_roll()"
   ]
  },
  {
   "cell_type": "code",
   "execution_count": 129,
   "metadata": {
    "tags": []
   },
   "outputs": [
    {
     "data": {
      "text/plain": [
       "[2, 5, 2]"
      ]
     },
     "execution_count": 129,
     "metadata": {},
     "output_type": "execute_result"
    }
   ],
   "source": [
    "# Roll three 10-sided dice\n",
    "three_ten = DiceRoll(10, 3)\n",
    "three_ten.random_roll()"
   ]
  },
  {
   "cell_type": "code",
   "execution_count": 130,
   "metadata": {
    "tags": []
   },
   "outputs": [
    {
     "data": {
      "image/png": "[encoded data removed]",
      "text/plain": [
       "<Figure size 640x480 with 1 Axes>"
      ]
     },
     "metadata": {},
     "output_type": "display_data"
    }
   ],
   "source": [
    "# Roll three 6 sided dice 1000 times and plot the results\n",
    "all_rolls = []\n",
    "many = 1000\n",
    "while many:\n",
    "    three_six = DiceRoll(6, 3)\n",
    "    temp = three_six.random_roll()\n",
    "    for i in temp:\n",
    "        all_rolls.append(i)\n",
    "    many -= 1\n",
    "sns.countplot(x = all_rolls)\n",
    "plt.xlabel(\"Outcome\")\n",
    "plt.ylabel(\"Frequency\")\n",
    "plt.title(\"Simulation of 1000 rolls\")\n",
    "plt.show()"
   ]
  }
 ],
 "metadata": {
  "kernelspec": {
   "display_name": "Python 3 (ipykernel)",
   "language": "python",
   "name": "python3"
  },
  "language_info": {
   "codemirror_mode": {
    "name": "ipython",
    "version": 3
   },
   "file_extension": ".py",
   "mimetype": "text/x-python",
   "name": "python",
   "nbconvert_exporter": "python",
   "pygments_lexer": "ipython3",
   "version": "3.11.2"
  }
 },
 "nbformat": 4,
 "nbformat_minor": 4
}
