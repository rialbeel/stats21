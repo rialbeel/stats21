{
 "cells": [
  {
   "attachments": {},
   "cell_type": "markdown",
   "metadata": {},
   "source": [
    "# Stats 21 - HW 8 - Due 6/3/2023 by 11:59PM\n",
    "## Blair Lee - 005721089"
   ]
  },
  {
   "cell_type": "markdown",
   "metadata": {},
   "source": [
    "**Homework is generally an opportunity to practice coding and to train your problem solving and critical thinking skills. Putting Python to use is where learning happens.**\n",
    "\n",
    "**Copying and pasting another's solutions takes away your learning opportunities. It is also academic dishonesty.**\n",
    "\n",
    "**ChatGPT is always allowed in this class, but do remember, it is not foolproof and if your solution looks too much like another submission, I am required to file a report**\n",
    "\n",
    "Please use this document as your homework template and submit both the modified .ipynb file and a PDF OR HTML export."
   ]
  },
  {
   "cell_type": "markdown",
   "metadata": {},
   "source": [
    "## Introduction\n",
    "\n",
    "The data were derived from the US Centers for Disease Control 2010.   It can also be found in Tableau.  https://www.cdc.gov/obesity/data/index.html\n"
   ]
  },
  {
   "cell_type": "markdown",
   "metadata": {},
   "source": [
    "## Description of the Data\n",
    "\n",
    "- County: Name of location  \n",
    "- Region: Region of the US     \n",
    "- State: State Name \n",
    "- State_ABB: State Abbrevation (e.g., CA)\n",
    "- Adult Obesity: Percentage Obese (BMI > 30)\n",
    "- Adult Smokers: Percentage Smokers   \n",
    "- Children in Poverty: Percentage in Poverty (under age 18) \n",
    "- Diabetic: Percentage Diabetic (all ages) \n",
    "- Food Insecure: Percentage reporting difficulty having enough food to eat (all ages) \n",
    "- Physically Inactive: Percentage Physically Inactive (all ages)"
   ]
  },
  {
   "cell_type": "markdown",
   "metadata": {
    "tags": []
   },
   "source": [
    "## Problem 1: read the data\n",
    "\n",
    "Correctly read the data from the CSV file named \"Obesity.csv\" using pandas and provide evidence (e.g., dimensions, data summary) that it was correctly read.  Some of the data values may require cleaning/correction before they can be used properly."
   ]
  },
  {
   "cell_type": "code",
   "execution_count": 4,
   "metadata": {
    "tags": []
   },
   "outputs": [
    {
     "data": {
      "text/html": [
       "<div>\n",
       "<style scoped>\n",
       "    .dataframe tbody tr th:only-of-type {\n",
       "        vertical-align: middle;\n",
       "    }\n",
       "\n",
       "    .dataframe tbody tr th {\n",
       "        vertical-align: top;\n",
       "    }\n",
       "\n",
       "    .dataframe thead th {\n",
       "        text-align: right;\n",
       "    }\n",
       "</style>\n",
       "<table border=\"1\" class=\"dataframe\">\n",
       "  <thead>\n",
       "    <tr style=\"text-align: right;\">\n",
       "      <th></th>\n",
       "      <th>County</th>\n",
       "      <th>Region</th>\n",
       "      <th>State</th>\n",
       "      <th>State_ABB</th>\n",
       "      <th>Adult Obesity</th>\n",
       "      <th>Adult Smokers</th>\n",
       "      <th>Children in Poverty</th>\n",
       "      <th>Diabetic</th>\n",
       "      <th>Food Insecure</th>\n",
       "      <th>Physically Inactive</th>\n",
       "    </tr>\n",
       "  </thead>\n",
       "  <tbody>\n",
       "    <tr>\n",
       "      <th>0</th>\n",
       "      <td>Adams</td>\n",
       "      <td>Midwest</td>\n",
       "      <td>Illinois</td>\n",
       "      <td>IL</td>\n",
       "      <td>35.0</td>\n",
       "      <td>16.0</td>\n",
       "      <td>20.0</td>\n",
       "      <td>10.0</td>\n",
       "      <td>13.0</td>\n",
       "      <td>24.0</td>\n",
       "    </tr>\n",
       "    <tr>\n",
       "      <th>1</th>\n",
       "      <td>Alexander</td>\n",
       "      <td>Midwest</td>\n",
       "      <td>Illinois</td>\n",
       "      <td>IL</td>\n",
       "      <td>32.0</td>\n",
       "      <td>24.0</td>\n",
       "      <td>52.0</td>\n",
       "      <td>16.0</td>\n",
       "      <td>22.0</td>\n",
       "      <td>30.0</td>\n",
       "    </tr>\n",
       "    <tr>\n",
       "      <th>2</th>\n",
       "      <td>Bond</td>\n",
       "      <td>Midwest</td>\n",
       "      <td>Illinois</td>\n",
       "      <td>IL</td>\n",
       "      <td>31.0</td>\n",
       "      <td>17.0</td>\n",
       "      <td>21.0</td>\n",
       "      <td>10.0</td>\n",
       "      <td>13.0</td>\n",
       "      <td>26.0</td>\n",
       "    </tr>\n",
       "    <tr>\n",
       "      <th>3</th>\n",
       "      <td>Boone</td>\n",
       "      <td>Midwest</td>\n",
       "      <td>Illinois</td>\n",
       "      <td>IL</td>\n",
       "      <td>34.0</td>\n",
       "      <td>16.0</td>\n",
       "      <td>15.0</td>\n",
       "      <td>10.0</td>\n",
       "      <td>11.0</td>\n",
       "      <td>24.0</td>\n",
       "    </tr>\n",
       "    <tr>\n",
       "      <th>4</th>\n",
       "      <td>Brown</td>\n",
       "      <td>Midwest</td>\n",
       "      <td>Illinois</td>\n",
       "      <td>IL</td>\n",
       "      <td>32.0</td>\n",
       "      <td>16.0</td>\n",
       "      <td>15.0</td>\n",
       "      <td>8.0</td>\n",
       "      <td>12.0</td>\n",
       "      <td>27.0</td>\n",
       "    </tr>\n",
       "  </tbody>\n",
       "</table>\n",
       "</div>"
      ],
      "text/plain": [
       "      County   Region     State State_ABB  Adult Obesity  Adult Smokers  \\\n",
       "0      Adams  Midwest  Illinois        IL           35.0           16.0   \n",
       "1  Alexander  Midwest  Illinois        IL           32.0           24.0   \n",
       "2       Bond  Midwest  Illinois        IL           31.0           17.0   \n",
       "3      Boone  Midwest  Illinois        IL           34.0           16.0   \n",
       "4      Brown  Midwest  Illinois        IL           32.0           16.0   \n",
       "\n",
       "   Children in Poverty  Diabetic  Food Insecure  Physically Inactive  \n",
       "0                 20.0      10.0           13.0                 24.0  \n",
       "1                 52.0      16.0           22.0                 30.0  \n",
       "2                 21.0      10.0           13.0                 26.0  \n",
       "3                 15.0      10.0           11.0                 24.0  \n",
       "4                 15.0       8.0           12.0                 27.0  "
      ]
     },
     "execution_count": 4,
     "metadata": {},
     "output_type": "execute_result"
    }
   ],
   "source": [
    "## reserved for your answer\n",
    "## read the data, remove the % and convert columns to numeric\n",
    "import pandas as pd\n",
    "import numpy as np\n",
    "import matplotlib.pyplot as plt\n",
    "\n",
    "obesity = pd.read_csv(\"Obesity.csv\")\n",
    "columns_with_percent = [\"Adult Obesity\", \"Adult Smokers\", \"Children in Poverty\", \"Diabetic\", \"Food Insecure\", \"Physically Inactive\"]\n",
    "for col in columns_with_percent:\n",
    "    obesity[col] = obesity[col].str.replace(\"%\", \"\").astype(float)\n",
    "\n",
    "obesity.head()"
   ]
  },
  {
   "attachments": {
    "f5914830-0e6d-45dc-b2a1-4c86e11145b8.png": {
     "image/png": "[encoded data removed]"
    }
   },
   "cell_type": "markdown",
   "metadata": {},
   "source": [
    "## Problem 2: Choose any one numeric variable and create a simple graphic\n",
    "\n",
    "In a  comment, please offer an interpretation of what you are seeing in the data that is illustrated/made visible with your graphic.  For example here is a graphic I made:\n",
    "\n",
    "![obesity1.png](attachment:f5914830-0e6d-45dc-b2a1-4c86e11145b8.png)\n",
    "\n",
    "It appears that the distribution of obesity rates by state is close to normally distributed around a mean of 31% Obese"
   ]
  },
  {
   "cell_type": "code",
   "execution_count": 1,
   "metadata": {},
   "outputs": [],
   "source": [
    "## reserved for your answer\n"
   ]
  },
  {
   "cell_type": "markdown",
   "metadata": {},
   "source": [
    "## Problem 3: Choose any two numeric variables and create a graphic\n",
    "\n",
    "Similar to #2, in a  comment, please offer an interpretation of what you are seeing in the data that is illustrated/made visible with your graphic.  "
   ]
  },
  {
   "cell_type": "code",
   "execution_count": null,
   "metadata": {},
   "outputs": [],
   "source": [
    "## reserved for your answer"
   ]
  },
  {
   "cell_type": "markdown",
   "metadata": {},
   "source": [
    "## Problem 4: Choose one non-numeric variable and one numeric variable a create a graphic\n",
    "\n",
    "Similar to #2, in a  comment, please offer an interpretation of what you are seeing in the data that is illustrated/made visible with your graphic.  "
   ]
  },
  {
   "cell_type": "code",
   "execution_count": null,
   "metadata": {},
   "outputs": [],
   "source": [
    "## reserved for your answer"
   ]
  },
  {
   "cell_type": "markdown",
   "metadata": {},
   "source": [
    "## Problem 5: Your choice of a custom plot\n",
    "\n",
    "This is your opportunity to be creative.  Use whatever module/package/library you want.\n",
    "\n",
    "Make sure you label your axes with descriptive names and give a title to the graphic. Make sure your graph displays in your PDF or HTML submission\n",
    "\n",
    "Please write a few sentences telling us about your decision of graphic type.  For example, suppose you decide to create a map, we would like to know your justification, like \"Oh, I thought it would be easy for anyone to understand because...\""
   ]
  },
  {
   "cell_type": "code",
   "execution_count": null,
   "metadata": {},
   "outputs": [],
   "source": [
    "## reserved for your answer"
   ]
  }
 ],
 "metadata": {
  "kernelspec": {
   "display_name": "Python 3 (ipykernel)",
   "language": "python",
   "name": "python3"
  },
  "language_info": {
   "codemirror_mode": {
    "name": "ipython",
    "version": 3
   },
   "file_extension": ".py",
   "mimetype": "text/x-python",
   "name": "python",
   "nbconvert_exporter": "python",
   "pygments_lexer": "ipython3",
   "version": "3.11.2"
  }
 },
 "nbformat": 4,
 "nbformat_minor": 4
}
