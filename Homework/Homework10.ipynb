{
 "cells": [
  {
   "attachments": {},
   "cell_type": "markdown",
   "metadata": {},
   "source": [
    "## Homework 10 Stats 21\n",
    "### Blair Lee - 005721089"
   ]
  },
  {
   "cell_type": "code",
   "execution_count": 4,
   "metadata": {},
   "outputs": [
    {
     "name": "stdout",
     "output_type": "stream",
     "text": [
      "[19, 59, 59, 23, 91, 51, 94, 45, 56, 65, 15, 69, 16, 11, 59, 34, 7, 85, 83, 27, 43, 30, 40, 27, 23]\n"
     ]
    }
   ],
   "source": [
    "import random\n",
    "random.seed(100)\n",
    "i = 25\n",
    "int_list = []\n",
    "while i:\n",
    "    int_list.append(random.randint(1, 94))\n",
    "    i -= 1\n",
    "print(int_list)"
   ]
  },
  {
   "attachments": {},
   "cell_type": "markdown",
   "metadata": {},
   "source": [
    "19. What is the syntax for indexing a dictionary in Python?"
   ]
  },
  {
   "attachments": {},
   "cell_type": "markdown",
   "metadata": {},
   "source": [
    "The syntax for indexing a dictionary is to use the key related to a value. For example, if a dictionary is dict = {\"name\":\"John\"}, we could use dict[\"name\"] to access the value of John."
   ]
  },
  {
   "attachments": {},
   "cell_type": "markdown",
   "metadata": {},
   "source": [
    "59. How do you combine two pandas DataFrames in Python?"
   ]
  },
  {
   "attachments": {},
   "cell_type": "markdown",
   "metadata": {},
   "source": [
    "One of the easiest ways in combining two dataframes is to use the pandas concat() function which combines similar columns together. Even if a column doesn't exist in one dataframe, it will automatically insert NaN values into unsimilar columns."
   ]
  },
  {
   "attachments": {},
   "cell_type": "markdown",
   "metadata": {},
   "source": [
    "60. How do you merge two Dataframes based on a common column in pandas?"
   ]
  },
  {
   "attachments": {},
   "cell_type": "markdown",
   "metadata": {},
   "source": [
    "One method in merging two dataframes is to use the pandas merge() function which only takes values that have a matching value in the common column. "
   ]
  },
  {
   "attachments": {},
   "cell_type": "markdown",
   "metadata": {},
   "source": [
    "23. What is the syntax for a for loop in Python?"
   ]
  },
  {
   "cell_type": "code",
   "execution_count": 8,
   "metadata": {},
   "outputs": [],
   "source": [
    "iterable = [1, 2, 3, 4, 5]\n",
    "for element in iterable:\n",
    "    # code here\n",
    "    pass"
   ]
  },
  {
   "attachments": {},
   "cell_type": "markdown",
   "metadata": {},
   "source": [
    "91. How do you find the maximum value in a NumPy array, and what is the syntax for doing so?"
   ]
  },
  {
   "attachments": {},
   "cell_type": "markdown",
   "metadata": {},
   "source": [
    "The easiest way to find the maximum value is to use the numpy function np.max(array). "
   ]
  },
  {
   "attachments": {},
   "cell_type": "markdown",
   "metadata": {},
   "source": [
    "51. How do you access a column in a pandas DataFrame in Python?"
   ]
  },
  {
   "attachments": {},
   "cell_type": "markdown",
   "metadata": {},
   "source": [
    "One way to access a column in a pandas DataFrame is to use brackets. For example, if there is a column called \"Age\", I can use df[\"Age\"] to access the column."
   ]
  },
  {
   "attachments": {},
   "cell_type": "markdown",
   "metadata": {},
   "source": [
    "94. How do you find the standard deviation of a NumPy array, and what is the syntax for doing so?"
   ]
  },
  {
   "attachments": {},
   "cell_type": "markdown",
   "metadata": {},
   "source": [
    "The easiest way to find the standard deviation of a NumPy array is to use the numpy function np.std(array). "
   ]
  },
  {
   "attachments": {},
   "cell_type": "markdown",
   "metadata": {},
   "source": [
    "45. What is an object in Python, and how is it created?"
   ]
  },
  {
   "attachments": {},
   "cell_type": "markdown",
   "metadata": {},
   "source": [
    "An object is a specific instance of a class in Python. An example is if you had a class called MyClass and then you created the object class = MyClass()."
   ]
  },
  {
   "attachments": {},
   "cell_type": "markdown",
   "metadata": {},
   "source": [
    "56. How do you drop missing values from a pandas DataFrame in Python?"
   ]
  },
  {
   "attachments": {},
   "cell_type": "markdown",
   "metadata": {},
   "source": [
    "The easiest way to drop missing values from a pandas DataFrame is to use the pandas function dropna(). This will by default drop any rows with a missing value. "
   ]
  },
  {
   "attachments": {},
   "cell_type": "markdown",
   "metadata": {},
   "source": [
    "65. What is the syntax for creating a scatter plot using Matplotlib in Python?"
   ]
  },
  {
   "attachments": {},
   "cell_type": "markdown",
   "metadata": {},
   "source": [
    "The easiest way to create a scatterplot using Matplotlib is to use the function scatter(x, y). This automatically takes the first list as x coordinates and the second list as y coordinates and plots it."
   ]
  },
  {
   "attachments": {},
   "cell_type": "markdown",
   "metadata": {},
   "source": [
    "15. What is tuple packing and unpacking, and how is it used in Python?"
   ]
  },
  {
   "attachments": {},
   "cell_type": "markdown",
   "metadata": {},
   "source": [
    "Tuple packing is putting values into a tuple which is similar to a list but can not be changed once it is created. Tuple unpacking is assigning each value of a tuple to a separate variable which can be changed."
   ]
  },
  {
   "attachments": {},
   "cell_type": "markdown",
   "metadata": {},
   "source": [
    "69. How do you save a Matplotlib figure as an image in Python?"
   ]
  },
  {
   "attachments": {},
   "cell_type": "markdown",
   "metadata": {},
   "source": [
    "The easiest way to save a figure is to use the matplotlib function savefig(\"file_name\")."
   ]
  },
  {
   "attachments": {},
   "cell_type": "markdown",
   "metadata": {},
   "source": [
    "16. How can you convert a tuple into a list, and vice versa?"
   ]
  },
  {
   "attachments": {},
   "cell_type": "markdown",
   "metadata": {},
   "source": [
    "You can convert a tuple into a list using the list() function and you can do the same to a list using the tuple() function."
   ]
  },
  {
   "attachments": {},
   "cell_type": "markdown",
   "metadata": {},
   "source": [
    "11. What is the sort() method for lists and how does it differ from built-in sort?"
   ]
  },
  {
   "attachments": {},
   "cell_type": "markdown",
   "metadata": {},
   "source": [
    "The sort method for lists directly reorganizes the list to be rearranged in order. The built-in sort returns a new list that is organized in order and does not modify the original list."
   ]
  },
  {
   "attachments": {},
   "cell_type": "markdown",
   "metadata": {},
   "source": [
    "58. What is the difference between a Series and a DataFrame in pandas?"
   ]
  },
  {
   "attachments": {},
   "cell_type": "markdown",
   "metadata": {},
   "source": [
    "A series is a 1-D array with one datatype and a dataframe is a 2-D data structure that can have many datatypes. Multiple series make up a dataframe."
   ]
  },
  {
   "attachments": {},
   "cell_type": "markdown",
   "metadata": {},
   "source": [
    "34. What is a condition in a list comprehension, and how is it used?"
   ]
  },
  {
   "attachments": {},
   "cell_type": "markdown",
   "metadata": {},
   "source": [
    "A condition in a list comprehension is an optional element that will filter elements on the condition. An example is if you only wanted even numbers, you can add the element \"if n % 2 ==0\" at the end of your list comprehension."
   ]
  },
  {
   "attachments": {},
   "cell_type": "markdown",
   "metadata": {},
   "source": [
    "7. What is the append() method, and how is it used to add elements to a list?"
   ]
  },
  {
   "attachments": {},
   "cell_type": "markdown",
   "metadata": {},
   "source": [
    "The append() method is a function that adds elements to the far right (end) of a list."
   ]
  },
  {
   "attachments": {},
   "cell_type": "markdown",
   "metadata": {},
   "source": [
    "85. What is the purpose of the numpy.ones() function in NumPy, and how is it used?"
   ]
  },
  {
   "attachments": {},
   "cell_type": "markdown",
   "metadata": {},
   "source": [
    "numpy.ones() returns an array of given shape that is completely filled with ones. It is useful in just creating an array of a specific shape and then perhaps changing the values later on."
   ]
  },
  {
   "attachments": {},
   "cell_type": "markdown",
   "metadata": {},
   "source": [
    "83. How do you split a NumPy array into smaller arrays?"
   ]
  },
  {
   "attachments": {},
   "cell_type": "markdown",
   "metadata": {},
   "source": [
    "The easiest way to split a NumPy array into smaller arrays is to use np.split(). This splits an array into equally sized smaller arrays. "
   ]
  },
  {
   "attachments": {},
   "cell_type": "markdown",
   "metadata": {},
   "source": [
    "27. What is the purpose of the continue statement in a loop in Python?"
   ]
  },
  {
   "attachments": {},
   "cell_type": "markdown",
   "metadata": {},
   "source": [
    "Continue is used in a loop to skip a specific loop when a certain condition is met. This enables certain parts of the loop to be skipped without completely exiting the loop."
   ]
  },
  {
   "attachments": {},
   "cell_type": "markdown",
   "metadata": {},
   "source": [
    "43. What is the difference between a built-in function and a user-defined function in Python?"
   ]
  },
  {
   "attachments": {},
   "cell_type": "markdown",
   "metadata": {},
   "source": [
    "The difference between a built-in function and a user-defined function in Python is that built-in functions can be used with any Python file while user-defined functions have to be written out before it can be used."
   ]
  },
  {
   "attachments": {},
   "cell_type": "markdown",
   "metadata": {},
   "source": [
    "30. What is the purpose of the zip() function in a loop in Python?"
   ]
  },
  {
   "attachments": {},
   "cell_type": "markdown",
   "metadata": {},
   "source": [
    "The purpose of the zip() function in a loop in Python is to combine multiple iterables into a single one. It is useful in a loop when you want to compare over multiple iterables at the same time."
   ]
  },
  {
   "attachments": {},
   "cell_type": "markdown",
   "metadata": {},
   "source": [
    "40. What is the difference between positional and keyword arguments in Python?"
   ]
  },
  {
   "attachments": {},
   "cell_type": "markdown",
   "metadata": {},
   "source": [
    "Positional arguments in Python requires that someone knows the order of arguments for a function. The arguments are then taken into the function based on what order they are given. Keyword arguments allow for a specific argument to be defined in a function."
   ]
  },
  {
   "attachments": {},
   "cell_type": "markdown",
   "metadata": {},
   "source": [
    "28. What is an infinite loop in Python, and how can you avoid it?"
   ]
  },
  {
   "attachments": {},
   "cell_type": "markdown",
   "metadata": {},
   "source": [
    "An infinite loop in Python is a loop that does not have a method in which the condition for the loop is broken. One of the easiest ways to avoid it is to use a break statement or make sure that the condition will eventually not be met for a loop."
   ]
  },
  {
   "attachments": {},
   "cell_type": "markdown",
   "metadata": {},
   "source": [
    "24. What is the difference between a range and a list in a for loop in Python? "
   ]
  },
  {
   "attachments": {},
   "cell_type": "markdown",
   "metadata": {},
   "source": [
    "The difference between a range and a list in a for loop in Python is that range does not physically create something that is saved in memory. Each iteration of the loop for range gets the next value without storing every value at once."
   ]
  }
 ],
 "metadata": {
  "kernelspec": {
   "display_name": "Python 3",
   "language": "python",
   "name": "python3"
  },
  "language_info": {
   "codemirror_mode": {
    "name": "ipython",
    "version": 3
   },
   "file_extension": ".py",
   "mimetype": "text/x-python",
   "name": "python",
   "nbconvert_exporter": "python",
   "pygments_lexer": "ipython3",
   "version": "3.11.2"
  },
  "orig_nbformat": 4
 },
 "nbformat": 4,
 "nbformat_minor": 2
}
