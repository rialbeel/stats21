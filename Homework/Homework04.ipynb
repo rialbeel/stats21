{
 "cells": [
  {
   "attachments": {},
   "cell_type": "markdown",
   "id": "2154616b-d490-4d2d-80da-c29efb5e4a43",
   "metadata": {},
   "source": [
    "# Stats 21 - HW 4 - Due 5/13/2023 by 11:59PM\n",
    "## Blair Lee - 005721089"
   ]
  },
  {
   "cell_type": "markdown",
   "id": "ed2ce445-7c8f-468d-a9e8-48f8e0a75b21",
   "metadata": {},
   "source": [
    "The questions have been entered into this document. You will modify the document by entering your code.\n",
    "\n",
    "Make sure you run the cell so the requested output is visible. Download the finished document as a PDF file. If you are unable to convert it to a PDF, you can download it as an HTML file and then print to PDF.\n",
    "\n",
    "**Homework is an opportunity to practice coding and to practice problem solving. Doing exercises is where you will do most of your learning.**\n",
    "\n",
    "**Copying someone else's solutions takes away your learning opportunities. It is also academic dishonesty.**\n",
    "\n",
    "Please use this document as your homework template and submit both the modified .ipynb file and a PDF export."
   ]
  },
  {
   "cell_type": "markdown",
   "id": "e2548878-ae0a-4bdc-a848-a75b6dd0c17a",
   "metadata": {},
   "source": [
    "## Recommended Reading\n",
    "\n",
    "- Think Python: Chapters 9, 11, 20 (lists, tuples, dictionaries)"
   ]
  },
  {
   "cell_type": "markdown",
   "id": "87f07da8-1369-4e91-af67-e201a22a89f0",
   "metadata": {},
   "source": [
    "## 1. \n",
    "Using only the following (in any order as many or as few as you want):\n",
    "\n",
    "- list indexing/slicing with []\n",
    "- extend()\n",
    "- insert()\n",
    "- reverse() \n",
    "- a loop \n",
    "- of course you can create a new list\n",
    "\n",
    "You cannot use the sort method or sorted( ).  You do not need to write a function.\n",
    "\n",
    "Please modify list_1 using it and the other lists so that list_1 contains numbers 1 through 25 in increasing order.  Please reveal your result"
   ]
  },
  {
   "cell_type": "code",
   "execution_count": 53,
   "id": "e732cc34-1450-4691-b04e-c46c52aa5a38",
   "metadata": {
    "tags": []
   },
   "outputs": [],
   "source": [
    "list_1 = [1, 2, 3, 4]  \n",
    "list_2 = [11]  \n",
    "list_3 = [5, 6, 7, 8, 9]\n",
    "list_4 = [15, 14]\n",
    "list_5 = [16, 17, 18, 19, 20, 25] \n",
    "list_6 = [24, 23, 22, 21]\n",
    "list_7 = [13, 12, 10]"
   ]
  },
  {
   "cell_type": "code",
   "execution_count": 54,
   "id": "0aef5f97-bc3e-4ed4-a3a1-17c75c01b4d9",
   "metadata": {},
   "outputs": [
    {
     "name": "stdout",
     "output_type": "stream",
     "text": [
      "[1, 2, 3, 4, 5, 6, 7, 8, 9, 10, 11, 12, 13, 14, 15, 16, 17, 18, 19, 20, 21, 22, 23, 24, 25]\n"
     ]
    }
   ],
   "source": [
    "# please put your solution here\n",
    "list_1.extend(list_3)\n",
    "list_7.reverse()\n",
    "list_1.extend(list_7)\n",
    "list_1.insert(10, list_2[0])\n",
    "list_4.reverse()\n",
    "list_1.extend(list_4)\n",
    "list_1.extend(list_5)\n",
    "for i in range(0, len(list_6)):\n",
    "    list_1.insert(20, list_6[i])\n",
    "print(list_1)"
   ]
  },
  {
   "cell_type": "markdown",
   "id": "9e4838c3-110f-4dd5-bc56-35780a43a252",
   "metadata": {},
   "source": [
    "## 2.\n",
    "\n",
    "Please write a function my_dot_product(list1, list2) which takes in two lists of integers and returns their dot product. Assume the lists are of equal length and contain only integer values. "
   ]
  },
  {
   "cell_type": "code",
   "execution_count": 68,
   "id": "2cab2800-8266-4274-97d7-a4f5eee57f25",
   "metadata": {
    "tags": []
   },
   "outputs": [],
   "source": [
    "# please write your function here\n",
    "def my_dot_product(list1, list2):\n",
    "    products = []\n",
    "    for n in range(0, len(list1)):\n",
    "        products.append(list1[n]*list2[n])\n",
    "    return sum(products)"
   ]
  },
  {
   "cell_type": "code",
   "execution_count": 69,
   "id": "c68a9421-f509-425d-911e-41decf0fb18a",
   "metadata": {
    "tags": []
   },
   "outputs": [
    {
     "data": {
      "text/plain": [
       "83"
      ]
     },
     "execution_count": 69,
     "metadata": {},
     "output_type": "execute_result"
    }
   ],
   "source": [
    "# please test it using\n",
    "one = [5, 6]\n",
    "two = [7, 8]\n",
    "my_dot_product(one, two)"
   ]
  },
  {
   "cell_type": "code",
   "execution_count": 70,
   "id": "fd4b5b18-33d1-4e99-9d04-321963798b2b",
   "metadata": {
    "tags": []
   },
   "outputs": [
    {
     "data": {
      "text/plain": [
       "505"
      ]
     },
     "execution_count": 70,
     "metadata": {},
     "output_type": "execute_result"
    }
   ],
   "source": [
    "# please test it using\n",
    "three = range(7,12)\n",
    "four = range(9,14)\n",
    "my_dot_product(three, four)"
   ]
  },
  {
   "cell_type": "markdown",
   "id": "21a41fe3-c4db-479d-911e-f0acd1b144d6",
   "metadata": {},
   "source": [
    "## 3. \n",
    "\n",
    "There are 3 data files: names.txt, heights.txt and weights.txt which represent different Pokemon characters.  Please read them and then use them to print the Pokemon's names associated with the minimum BMI and the maximum BMI.  \n",
    "\n",
    "Function writing is not required here, BUT, you should demonstrate the use of either list comprehension or the use of dictionary for this problem (or both, I leave the final decision to you).\n",
    "\n",
    "BMI is calculated as weight divided by height-squared.  The weights are in kilos and the height in meters."
   ]
  },
  {
   "cell_type": "code",
   "execution_count": 98,
   "id": "7dd9ab67-ecc9-451c-9ad1-fdb762ab9e55",
   "metadata": {
    "tags": []
   },
   "outputs": [],
   "source": [
    "## I will get you started, you don't need to use my version \n",
    "## you can write your own of course\n",
    "\n",
    "names = []\n",
    "with open(\"names.txt\", \"r\") as f:\n",
    "    for name in f:\n",
    "        names.append(name.strip())\n",
    "\n",
    "weights = []\n",
    "with open(\"weights.txt\", \"r\") as f:\n",
    "    for weight in f:\n",
    "        weights.append(weight.strip())\n",
    "\n",
    "heights = []\n",
    "with open(\"heights.txt\", \"r\") as f:\n",
    "    for height in f:\n",
    "        heights.append(height.strip())"
   ]
  },
  {
   "cell_type": "code",
   "execution_count": 107,
   "id": "000492b8-7de8-4406-87e2-367ee195d79b",
   "metadata": {},
   "outputs": [
    {
     "name": "stdout",
     "output_type": "stream",
     "text": [
      "The pokemon with the highest BMI is: Cosmoem\n",
      "The pokemon with the lowest BMI is: Haunter\n"
     ]
    }
   ],
   "source": [
    "# please put your solution here\n",
    "float_weights = [float(w) for w in weights]\n",
    "float_heights = [float(h) for h in heights]\n",
    "bmi = []\n",
    "for n in range(0, len(weights)):\n",
    "    calculation = float_weights[n] / (float_heights[n]**2)\n",
    "    bmi.append(calculation)\n",
    "pokemon = dict(zip(names, bmi))\n",
    "\n",
    "print(\"The pokemon with the highest BMI is:\",max(pokemon, key = pokemon.get))\n",
    "print(\"The pokemon with the lowest BMI is:\", min(pokemon, key = pokemon.get))"
   ]
  }
 ],
 "metadata": {
  "kernelspec": {
   "display_name": "Python 3 (ipykernel)",
   "language": "python",
   "name": "python3"
  },
  "language_info": {
   "codemirror_mode": {
    "name": "ipython",
    "version": 3
   },
   "file_extension": ".py",
   "mimetype": "text/x-python",
   "name": "python",
   "nbconvert_exporter": "python",
   "pygments_lexer": "ipython3",
   "version": "3.11.2"
  }
 },
 "nbformat": 4,
 "nbformat_minor": 5
}
