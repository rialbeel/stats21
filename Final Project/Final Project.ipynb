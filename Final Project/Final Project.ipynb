{
 "cells": [
  {
   "attachments": {},
   "cell_type": "markdown",
   "metadata": {},
   "source": [
    "## Final Project - Stats 21\n",
    "Blair L, Ryan T, Wesley B, Aryan S, William S"
   ]
  },
  {
   "attachments": {},
   "cell_type": "markdown",
   "metadata": {},
   "source": [
    "The first step is to import all of our packages necessary for the project, the datasets, and generally clean the data. In the documentation, it says that 0 is a valid rating only for the exposure data, but for some raters they rate 0 for multiple pictures which seems to demonstrate some error on the rating part. For that reason, we are going to clean 0s from both datasets and change them to be NaNs."
   ]
  },
  {
   "cell_type": "code",
   "execution_count": 2,
   "metadata": {},
   "outputs": [],
   "source": [
    "import numpy as np\n",
    "import seaborn as sns\n",
    "import pandas as pd\n",
    "import matplotlib.pyplot as plt\n",
    "import scipy.stats as stats\n",
    "\n",
    "# Reading in both dataframes\n",
    "lightings = pd.read_excel(\"20201228 Perception of Attractiveness Raw Data.xlsx\", sheet_name = 0)\n",
    "exposures = pd.read_excel(\"20201228 Perception of Attractiveness Raw Data.xlsx\", sheet_name = 1)"
   ]
  },
  {
   "cell_type": "code",
   "execution_count": 3,
   "metadata": {},
   "outputs": [],
   "source": [
    "# Replacing 0s in the lightings dataset with NaNs\n",
    "lightings.iloc[:, -60:] = lightings.iloc[:, -60:].replace(0, float(\"nan\"))"
   ]
  },
  {
   "cell_type": "code",
   "execution_count": 4,
   "metadata": {},
   "outputs": [],
   "source": [
    "# Replacing 0s in the exposures dataset with NaNs\n",
    "exposures[exposures.columns[-60:]] = exposures[exposures.columns[-60:]].replace(0, float(\"nan\"))"
   ]
  },
  {
   "cell_type": "code",
   "execution_count": 5,
   "metadata": {},
   "outputs": [
    {
     "data": {
      "text/html": [
       "<div>\n",
       "<style scoped>\n",
       "    .dataframe tbody tr th:only-of-type {\n",
       "        vertical-align: middle;\n",
       "    }\n",
       "\n",
       "    .dataframe tbody tr th {\n",
       "        vertical-align: top;\n",
       "    }\n",
       "\n",
       "    .dataframe thead th {\n",
       "        text-align: right;\n",
       "    }\n",
       "</style>\n",
       "<table border=\"1\" class=\"dataframe\">\n",
       "  <thead>\n",
       "    <tr style=\"text-align: right;\">\n",
       "      <th></th>\n",
       "      <th>ResponseId</th>\n",
       "      <th>StartDate</th>\n",
       "      <th>EndDate</th>\n",
       "      <th>Status</th>\n",
       "      <th>IPAddress</th>\n",
       "      <th>Progress</th>\n",
       "      <th>Duration (in seconds)</th>\n",
       "      <th>Finished</th>\n",
       "      <th>RecordedDate</th>\n",
       "      <th>LocationLatitude</th>\n",
       "      <th>...</th>\n",
       "      <th>N3</th>\n",
       "      <th>N4</th>\n",
       "      <th>N5</th>\n",
       "      <th>N6</th>\n",
       "      <th>O1</th>\n",
       "      <th>O2</th>\n",
       "      <th>O3</th>\n",
       "      <th>O4</th>\n",
       "      <th>O5</th>\n",
       "      <th>O6</th>\n",
       "    </tr>\n",
       "  </thead>\n",
       "  <tbody>\n",
       "    <tr>\n",
       "      <th>0</th>\n",
       "      <td>R_2QVUTvHQF2MIFRc</td>\n",
       "      <td>2020-08-10 20:57:02</td>\n",
       "      <td>2020-08-10 21:02:27</td>\n",
       "      <td>IP Address</td>\n",
       "      <td>100.14.1.231</td>\n",
       "      <td>100</td>\n",
       "      <td>324</td>\n",
       "      <td>True</td>\n",
       "      <td>2020-08-10 21:02:27.756</td>\n",
       "      <td>40.036407</td>\n",
       "      <td>...</td>\n",
       "      <td>8</td>\n",
       "      <td>8</td>\n",
       "      <td>8</td>\n",
       "      <td>7</td>\n",
       "      <td>7.0</td>\n",
       "      <td>7.0</td>\n",
       "      <td>7.0</td>\n",
       "      <td>7.0</td>\n",
       "      <td>7.0</td>\n",
       "      <td>7.0</td>\n",
       "    </tr>\n",
       "    <tr>\n",
       "      <th>1</th>\n",
       "      <td>R_sNA0Y7Wikfbjmoh</td>\n",
       "      <td>2020-08-10 14:26:38</td>\n",
       "      <td>2020-08-10 14:29:55</td>\n",
       "      <td>IP Address</td>\n",
       "      <td>100.7.25.54</td>\n",
       "      <td>100</td>\n",
       "      <td>196</td>\n",
       "      <td>True</td>\n",
       "      <td>2020-08-10 14:29:55.330</td>\n",
       "      <td>37.510895</td>\n",
       "      <td>...</td>\n",
       "      <td>6</td>\n",
       "      <td>6</td>\n",
       "      <td>7</td>\n",
       "      <td>7</td>\n",
       "      <td>4.0</td>\n",
       "      <td>6.0</td>\n",
       "      <td>7.0</td>\n",
       "      <td>7.0</td>\n",
       "      <td>7.0</td>\n",
       "      <td>5.0</td>\n",
       "    </tr>\n",
       "    <tr>\n",
       "      <th>2</th>\n",
       "      <td>R_3mjH4mWb8yz5oci</td>\n",
       "      <td>2020-08-10 20:06:48</td>\n",
       "      <td>2020-08-10 20:14:34</td>\n",
       "      <td>IP Address</td>\n",
       "      <td>103.104.49.153</td>\n",
       "      <td>100</td>\n",
       "      <td>465</td>\n",
       "      <td>True</td>\n",
       "      <td>2020-08-10 20:14:34.982</td>\n",
       "      <td>8.179001</td>\n",
       "      <td>...</td>\n",
       "      <td>7</td>\n",
       "      <td>6</td>\n",
       "      <td>7</td>\n",
       "      <td>6</td>\n",
       "      <td>5.0</td>\n",
       "      <td>6.0</td>\n",
       "      <td>4.0</td>\n",
       "      <td>4.0</td>\n",
       "      <td>4.0</td>\n",
       "      <td>4.0</td>\n",
       "    </tr>\n",
       "    <tr>\n",
       "      <th>3</th>\n",
       "      <td>R_1lsGctLd8WM6U9W</td>\n",
       "      <td>2020-08-10 18:18:03</td>\n",
       "      <td>2020-08-10 18:24:40</td>\n",
       "      <td>IP Address</td>\n",
       "      <td>103.110.237.214</td>\n",
       "      <td>100</td>\n",
       "      <td>397</td>\n",
       "      <td>True</td>\n",
       "      <td>2020-08-10 18:24:41.027</td>\n",
       "      <td>11.342804</td>\n",
       "      <td>...</td>\n",
       "      <td>9</td>\n",
       "      <td>10</td>\n",
       "      <td>10</td>\n",
       "      <td>9</td>\n",
       "      <td>5.0</td>\n",
       "      <td>7.0</td>\n",
       "      <td>5.0</td>\n",
       "      <td>6.0</td>\n",
       "      <td>6.0</td>\n",
       "      <td>6.0</td>\n",
       "    </tr>\n",
       "    <tr>\n",
       "      <th>4</th>\n",
       "      <td>R_3HztxfUfojAXTNT</td>\n",
       "      <td>2020-08-11 02:16:52</td>\n",
       "      <td>2020-08-11 02:21:06</td>\n",
       "      <td>IP Address</td>\n",
       "      <td>103.114.211.46</td>\n",
       "      <td>100</td>\n",
       "      <td>253</td>\n",
       "      <td>True</td>\n",
       "      <td>2020-08-11 02:21:06.996</td>\n",
       "      <td>11.007507</td>\n",
       "      <td>...</td>\n",
       "      <td>10</td>\n",
       "      <td>7</td>\n",
       "      <td>10</td>\n",
       "      <td>10</td>\n",
       "      <td>7.0</td>\n",
       "      <td>7.0</td>\n",
       "      <td>7.0</td>\n",
       "      <td>7.0</td>\n",
       "      <td>7.0</td>\n",
       "      <td>7.0</td>\n",
       "    </tr>\n",
       "  </tbody>\n",
       "</table>\n",
       "<p>5 rows × 77 columns</p>\n",
       "</div>"
      ],
      "text/plain": [
       "          ResponseId           StartDate             EndDate      Status  \\\n",
       "0  R_2QVUTvHQF2MIFRc 2020-08-10 20:57:02 2020-08-10 21:02:27  IP Address   \n",
       "1  R_sNA0Y7Wikfbjmoh 2020-08-10 14:26:38 2020-08-10 14:29:55  IP Address   \n",
       "2  R_3mjH4mWb8yz5oci 2020-08-10 20:06:48 2020-08-10 20:14:34  IP Address   \n",
       "3  R_1lsGctLd8WM6U9W 2020-08-10 18:18:03 2020-08-10 18:24:40  IP Address   \n",
       "4  R_3HztxfUfojAXTNT 2020-08-11 02:16:52 2020-08-11 02:21:06  IP Address   \n",
       "\n",
       "         IPAddress  Progress  Duration (in seconds)  Finished  \\\n",
       "0     100.14.1.231       100                    324      True   \n",
       "1      100.7.25.54       100                    196      True   \n",
       "2   103.104.49.153       100                    465      True   \n",
       "3  103.110.237.214       100                    397      True   \n",
       "4   103.114.211.46       100                    253      True   \n",
       "\n",
       "             RecordedDate  LocationLatitude  ...  N3  N4  N5  N6   O1   O2  \\\n",
       "0 2020-08-10 21:02:27.756         40.036407  ...   8   8   8   7  7.0  7.0   \n",
       "1 2020-08-10 14:29:55.330         37.510895  ...   6   6   7   7  4.0  6.0   \n",
       "2 2020-08-10 20:14:34.982          8.179001  ...   7   6   7   6  5.0  6.0   \n",
       "3 2020-08-10 18:24:41.027         11.342804  ...   9  10  10   9  5.0  7.0   \n",
       "4 2020-08-11 02:21:06.996         11.007507  ...  10   7  10  10  7.0  7.0   \n",
       "\n",
       "    O3   O4   O5   O6  \n",
       "0  7.0  7.0  7.0  7.0  \n",
       "1  7.0  7.0  7.0  5.0  \n",
       "2  4.0  4.0  4.0  4.0  \n",
       "3  5.0  6.0  6.0  6.0  \n",
       "4  7.0  7.0  7.0  7.0  \n",
       "\n",
       "[5 rows x 77 columns]"
      ]
     },
     "execution_count": 5,
     "metadata": {},
     "output_type": "execute_result"
    }
   ],
   "source": [
    "lightings.head()"
   ]
  },
  {
   "cell_type": "code",
   "execution_count": 6,
   "metadata": {},
   "outputs": [
    {
     "data": {
      "text/html": [
       "<div>\n",
       "<style scoped>\n",
       "    .dataframe tbody tr th:only-of-type {\n",
       "        vertical-align: middle;\n",
       "    }\n",
       "\n",
       "    .dataframe tbody tr th {\n",
       "        vertical-align: top;\n",
       "    }\n",
       "\n",
       "    .dataframe thead th {\n",
       "        text-align: right;\n",
       "    }\n",
       "</style>\n",
       "<table border=\"1\" class=\"dataframe\">\n",
       "  <thead>\n",
       "    <tr style=\"text-align: right;\">\n",
       "      <th></th>\n",
       "      <th>StartDate</th>\n",
       "      <th>EndDate</th>\n",
       "      <th>Status</th>\n",
       "      <th>IPAddress</th>\n",
       "      <th>Progress</th>\n",
       "      <th>Duration (in seconds)</th>\n",
       "      <th>Finished</th>\n",
       "      <th>RecordedDate</th>\n",
       "      <th>ResponseId</th>\n",
       "      <th>LocationLatitude</th>\n",
       "      <th>...</th>\n",
       "      <th>91</th>\n",
       "      <th>92</th>\n",
       "      <th>93</th>\n",
       "      <th>94</th>\n",
       "      <th>95</th>\n",
       "      <th>101</th>\n",
       "      <th>102</th>\n",
       "      <th>103</th>\n",
       "      <th>104</th>\n",
       "      <th>105</th>\n",
       "    </tr>\n",
       "  </thead>\n",
       "  <tbody>\n",
       "    <tr>\n",
       "      <th>0</th>\n",
       "      <td>2020-11-07 12:04:28</td>\n",
       "      <td>2020-11-07 12:07:53</td>\n",
       "      <td>0</td>\n",
       "      <td>79.110.53.34</td>\n",
       "      <td>100</td>\n",
       "      <td>204</td>\n",
       "      <td>1</td>\n",
       "      <td>2020-11-07 12:07:53.825</td>\n",
       "      <td>R_3KZmLhM9GxlzOFm</td>\n",
       "      <td>36.168503</td>\n",
       "      <td>...</td>\n",
       "      <td>4.0</td>\n",
       "      <td>3.0</td>\n",
       "      <td>6.0</td>\n",
       "      <td>7.0</td>\n",
       "      <td>8.0</td>\n",
       "      <td>8.0</td>\n",
       "      <td>8.0</td>\n",
       "      <td>8.0</td>\n",
       "      <td>9.0</td>\n",
       "      <td>7.0</td>\n",
       "    </tr>\n",
       "    <tr>\n",
       "      <th>1</th>\n",
       "      <td>2020-11-07 12:04:40</td>\n",
       "      <td>2020-11-07 12:08:31</td>\n",
       "      <td>0</td>\n",
       "      <td>75.190.204.157</td>\n",
       "      <td>100</td>\n",
       "      <td>230</td>\n",
       "      <td>1</td>\n",
       "      <td>2020-11-07 12:08:31.316</td>\n",
       "      <td>R_BJTbzmzL62fahbz</td>\n",
       "      <td>35.401001</td>\n",
       "      <td>...</td>\n",
       "      <td>3.0</td>\n",
       "      <td>3.0</td>\n",
       "      <td>3.0</td>\n",
       "      <td>3.0</td>\n",
       "      <td>3.0</td>\n",
       "      <td>5.0</td>\n",
       "      <td>5.0</td>\n",
       "      <td>5.0</td>\n",
       "      <td>5.0</td>\n",
       "      <td>5.0</td>\n",
       "    </tr>\n",
       "    <tr>\n",
       "      <th>2</th>\n",
       "      <td>2020-11-07 12:04:13</td>\n",
       "      <td>2020-11-07 12:08:40</td>\n",
       "      <td>0</td>\n",
       "      <td>24.167.162.47</td>\n",
       "      <td>100</td>\n",
       "      <td>266</td>\n",
       "      <td>1</td>\n",
       "      <td>2020-11-07 12:08:40.842</td>\n",
       "      <td>R_UxLAf8XxkoX6qBj</td>\n",
       "      <td>36.032196</td>\n",
       "      <td>...</td>\n",
       "      <td>4.0</td>\n",
       "      <td>4.0</td>\n",
       "      <td>4.0</td>\n",
       "      <td>4.0</td>\n",
       "      <td>4.0</td>\n",
       "      <td>5.0</td>\n",
       "      <td>5.0</td>\n",
       "      <td>5.0</td>\n",
       "      <td>5.0</td>\n",
       "      <td>5.0</td>\n",
       "    </tr>\n",
       "    <tr>\n",
       "      <th>3</th>\n",
       "      <td>2020-11-07 12:05:01</td>\n",
       "      <td>2020-11-07 12:08:44</td>\n",
       "      <td>0</td>\n",
       "      <td>122.164.33.143</td>\n",
       "      <td>100</td>\n",
       "      <td>223</td>\n",
       "      <td>1</td>\n",
       "      <td>2020-11-07 12:08:44.983</td>\n",
       "      <td>R_2CwaqzLJonWy4zi</td>\n",
       "      <td>13.087799</td>\n",
       "      <td>...</td>\n",
       "      <td>1.0</td>\n",
       "      <td>2.0</td>\n",
       "      <td>4.0</td>\n",
       "      <td>4.0</td>\n",
       "      <td>4.0</td>\n",
       "      <td>4.0</td>\n",
       "      <td>7.0</td>\n",
       "      <td>6.0</td>\n",
       "      <td>6.0</td>\n",
       "      <td>6.0</td>\n",
       "    </tr>\n",
       "    <tr>\n",
       "      <th>4</th>\n",
       "      <td>2020-11-07 12:04:54</td>\n",
       "      <td>2020-11-07 12:08:55</td>\n",
       "      <td>0</td>\n",
       "      <td>103.66.79.87</td>\n",
       "      <td>100</td>\n",
       "      <td>241</td>\n",
       "      <td>1</td>\n",
       "      <td>2020-11-07 12:08:56.222</td>\n",
       "      <td>R_23fpZnxZtbx1clK</td>\n",
       "      <td>11.042007</td>\n",
       "      <td>...</td>\n",
       "      <td>3.0</td>\n",
       "      <td>3.0</td>\n",
       "      <td>4.0</td>\n",
       "      <td>4.0</td>\n",
       "      <td>3.0</td>\n",
       "      <td>6.0</td>\n",
       "      <td>10.0</td>\n",
       "      <td>9.0</td>\n",
       "      <td>7.0</td>\n",
       "      <td>7.0</td>\n",
       "    </tr>\n",
       "  </tbody>\n",
       "</table>\n",
       "<p>5 rows × 63 columns</p>\n",
       "</div>"
      ],
      "text/plain": [
       "            StartDate             EndDate  Status       IPAddress  Progress  \\\n",
       "0 2020-11-07 12:04:28 2020-11-07 12:07:53       0    79.110.53.34       100   \n",
       "1 2020-11-07 12:04:40 2020-11-07 12:08:31       0  75.190.204.157       100   \n",
       "2 2020-11-07 12:04:13 2020-11-07 12:08:40       0   24.167.162.47       100   \n",
       "3 2020-11-07 12:05:01 2020-11-07 12:08:44       0  122.164.33.143       100   \n",
       "4 2020-11-07 12:04:54 2020-11-07 12:08:55       0    103.66.79.87       100   \n",
       "\n",
       "   Duration (in seconds)  Finished            RecordedDate         ResponseId  \\\n",
       "0                    204         1 2020-11-07 12:07:53.825  R_3KZmLhM9GxlzOFm   \n",
       "1                    230         1 2020-11-07 12:08:31.316  R_BJTbzmzL62fahbz   \n",
       "2                    266         1 2020-11-07 12:08:40.842  R_UxLAf8XxkoX6qBj   \n",
       "3                    223         1 2020-11-07 12:08:44.983  R_2CwaqzLJonWy4zi   \n",
       "4                    241         1 2020-11-07 12:08:56.222  R_23fpZnxZtbx1clK   \n",
       "\n",
       "   LocationLatitude  ...   91   92   93   94   95  101   102  103  104  105  \n",
       "0         36.168503  ...  4.0  3.0  6.0  7.0  8.0  8.0   8.0  8.0  9.0  7.0  \n",
       "1         35.401001  ...  3.0  3.0  3.0  3.0  3.0  5.0   5.0  5.0  5.0  5.0  \n",
       "2         36.032196  ...  4.0  4.0  4.0  4.0  4.0  5.0   5.0  5.0  5.0  5.0  \n",
       "3         13.087799  ...  1.0  2.0  4.0  4.0  4.0  4.0   7.0  6.0  6.0  6.0  \n",
       "4         11.042007  ...  3.0  3.0  4.0  4.0  3.0  6.0  10.0  9.0  7.0  7.0  \n",
       "\n",
       "[5 rows x 63 columns]"
      ]
     },
     "execution_count": 6,
     "metadata": {},
     "output_type": "execute_result"
    }
   ],
   "source": [
    "exposures.head()"
   ]
  },
  {
   "attachments": {},
   "cell_type": "markdown",
   "metadata": {},
   "source": [
    "### Hypothesis 1: Hypothesize that lighting condition 2 (box light) results in generally different (higher or lower) ratings"
   ]
  },
  {
   "attachments": {},
   "cell_type": "markdown",
   "metadata": {},
   "source": [
    "Our first hypothesis looked to compare the different lighting conditions and see which ones were preferred. Just skimming over the different lighting conditions, we hypothesized that box lighting would be the one most preferred."
   ]
  },
  {
   "cell_type": "code",
   "execution_count": 7,
   "metadata": {},
   "outputs": [],
   "source": [
    "# Changing the dataframe to have a row for every rating \n",
    "# instead of a row for every rater\n",
    "lighting_df = pd.melt(lightings, \n",
    "                      id_vars = lightings.columns[:17],\n",
    "                      value_vars = lightings.columns[17:],\n",
    "                      var_name = \"Participant_Lighting\",\n",
    "                      value_name = \"Rating\")\n",
    "lighting_df[\"Participant\"] = lighting_df[\"Participant_Lighting\"].str[0]\n",
    "lighting_df[\"Lighting\"] = lighting_df[\"Participant_Lighting\"].str[1:].astype(int)\n",
    "\n",
    "lighting_df = lighting_df.drop(columns=\"Participant_Lighting\")\n",
    "\n",
    "# Removing invalid rows of ratings\n",
    "lighting_df = lighting_df.dropna(subset = \"Rating\")\n",
    "# Removing unused columns\n",
    "lighting_df = lighting_df.drop(columns = ['IPAddress', 'StartDate', 'EndDate', 'Status', 'Progress', 'Duration (in seconds)', 'Finished', 'RecordedDate', 'DistributionChannel', 'UserLanguage', 'Race_other'])"
   ]
  },
  {
   "cell_type": "code",
   "execution_count": 8,
   "metadata": {},
   "outputs": [
    {
     "data": {
      "text/html": [
       "<div>\n",
       "<style scoped>\n",
       "    .dataframe tbody tr th:only-of-type {\n",
       "        vertical-align: middle;\n",
       "    }\n",
       "\n",
       "    .dataframe tbody tr th {\n",
       "        vertical-align: top;\n",
       "    }\n",
       "\n",
       "    .dataframe thead th {\n",
       "        text-align: right;\n",
       "    }\n",
       "</style>\n",
       "<table border=\"1\" class=\"dataframe\">\n",
       "  <thead>\n",
       "    <tr style=\"text-align: right;\">\n",
       "      <th></th>\n",
       "      <th>ResponseId</th>\n",
       "      <th>LocationLatitude</th>\n",
       "      <th>LocationLongitude</th>\n",
       "      <th>Age</th>\n",
       "      <th>Race</th>\n",
       "      <th>Sex</th>\n",
       "      <th>Rating</th>\n",
       "      <th>Participant</th>\n",
       "      <th>Lighting</th>\n",
       "    </tr>\n",
       "  </thead>\n",
       "  <tbody>\n",
       "    <tr>\n",
       "      <th>0</th>\n",
       "      <td>R_2QVUTvHQF2MIFRc</td>\n",
       "      <td>40.036407</td>\n",
       "      <td>-75.221901</td>\n",
       "      <td>35</td>\n",
       "      <td>East Asian,Other</td>\n",
       "      <td>Male</td>\n",
       "      <td>5.0</td>\n",
       "      <td>A</td>\n",
       "      <td>1</td>\n",
       "    </tr>\n",
       "    <tr>\n",
       "      <th>1</th>\n",
       "      <td>R_sNA0Y7Wikfbjmoh</td>\n",
       "      <td>37.510895</td>\n",
       "      <td>-77.642899</td>\n",
       "      <td>54</td>\n",
       "      <td>White</td>\n",
       "      <td>Male</td>\n",
       "      <td>4.0</td>\n",
       "      <td>A</td>\n",
       "      <td>1</td>\n",
       "    </tr>\n",
       "    <tr>\n",
       "      <th>2</th>\n",
       "      <td>R_3mjH4mWb8yz5oci</td>\n",
       "      <td>8.179001</td>\n",
       "      <td>77.432312</td>\n",
       "      <td>34</td>\n",
       "      <td>South Asian</td>\n",
       "      <td>Male</td>\n",
       "      <td>3.0</td>\n",
       "      <td>A</td>\n",
       "      <td>1</td>\n",
       "    </tr>\n",
       "    <tr>\n",
       "      <th>3</th>\n",
       "      <td>R_1lsGctLd8WM6U9W</td>\n",
       "      <td>11.342804</td>\n",
       "      <td>77.727386</td>\n",
       "      <td>33</td>\n",
       "      <td>South Asian</td>\n",
       "      <td>Male</td>\n",
       "      <td>5.0</td>\n",
       "      <td>A</td>\n",
       "      <td>1</td>\n",
       "    </tr>\n",
       "    <tr>\n",
       "      <th>4</th>\n",
       "      <td>R_3HztxfUfojAXTNT</td>\n",
       "      <td>11.007507</td>\n",
       "      <td>76.967102</td>\n",
       "      <td>29</td>\n",
       "      <td>South Asian</td>\n",
       "      <td>Male</td>\n",
       "      <td>7.0</td>\n",
       "      <td>A</td>\n",
       "      <td>1</td>\n",
       "    </tr>\n",
       "  </tbody>\n",
       "</table>\n",
       "</div>"
      ],
      "text/plain": [
       "          ResponseId  LocationLatitude  LocationLongitude  Age  \\\n",
       "0  R_2QVUTvHQF2MIFRc         40.036407         -75.221901   35   \n",
       "1  R_sNA0Y7Wikfbjmoh         37.510895         -77.642899   54   \n",
       "2  R_3mjH4mWb8yz5oci          8.179001          77.432312   34   \n",
       "3  R_1lsGctLd8WM6U9W         11.342804          77.727386   33   \n",
       "4  R_3HztxfUfojAXTNT         11.007507          76.967102   29   \n",
       "\n",
       "               Race   Sex  Rating Participant  Lighting  \n",
       "0  East Asian,Other  Male     5.0           A         1  \n",
       "1             White  Male     4.0           A         1  \n",
       "2       South Asian  Male     3.0           A         1  \n",
       "3       South Asian  Male     5.0           A         1  \n",
       "4       South Asian  Male     7.0           A         1  "
      ]
     },
     "execution_count": 8,
     "metadata": {},
     "output_type": "execute_result"
    }
   ],
   "source": [
    "lighting_df.head()"
   ]
  },
  {
   "cell_type": "code",
   "execution_count": 9,
   "metadata": {},
   "outputs": [
    {
     "name": "stdout",
     "output_type": "stream",
     "text": [
      "Overhead:\n",
      "Mean Score: 5.27\n",
      "Standard Deviation: 0.16\n",
      "\n",
      "Ring Light:\n",
      "Mean Score: 5.48\n",
      "Standard Deviation: 0.10\n",
      "\n",
      "Box Light:\n",
      "Mean Score: 5.58\n",
      "Standard Deviation: 0.17\n",
      "\n",
      "Camera Flash:\n",
      "Mean Score: 5.47\n",
      "Standard Deviation: 0.19\n",
      "\n",
      "Two 45 Degrees Box Lights:\n",
      "Mean Score: 5.47\n",
      "Standard Deviation: 0.17\n",
      "\n",
      "Natural Light:\n",
      "Mean Score: 5.42\n",
      "Standard Deviation: 0.14\n",
      "\n"
     ]
    }
   ],
   "source": [
    "Lighting_Types = [\"Overhead\", \"Ring Light\", \"Box Light\", \"Camera Flash\", \"Two 45 Degrees Box Lights\", \"Natural Light\"]\n",
    "\n",
    "# Created a for loop that finds the mean and standard deviation for each lighting condition\n",
    "for i in range(0, 6):\n",
    "    lighting_columns = lightings.columns[range(17 + i, 77, 6)]\n",
    "    mean_rate = lightings[lighting_columns].mean().mean()\n",
    "    std_rate = lightings[lighting_columns].std().std()\n",
    "    print(f\"{Lighting_Types[i]}:\")\n",
    "    print(f\"Mean Score: {mean_rate:.2f}\")\n",
    "    print(f\"Standard Deviation: {std_rate:.2f}\")\n",
    "    print()"
   ]
  },
  {
   "cell_type": "code",
   "execution_count": 10,
   "metadata": {},
   "outputs": [
    {
     "data": {
      "image/png": "[encoded data removed]",
      "text/plain": [
       "<Figure size 640x480 with 1 Axes>"
      ]
     },
     "metadata": {},
     "output_type": "display_data"
    }
   ],
   "source": [
    "sns.boxplot(x = \"Lighting\", y = \"Rating\", data = lighting_df)\n",
    "plt.show()"
   ]
  },
  {
   "cell_type": "code",
   "execution_count": 11,
   "metadata": {},
   "outputs": [
    {
     "name": "stdout",
     "output_type": "stream",
     "text": [
      "F-Statistic: 5.2361134565604255\n",
      "p-value: 8.327531956126282e-05\n"
     ]
    }
   ],
   "source": [
    "# Perform an ANOVA test to find significance variance between means\n",
    "sample_lighting_groups = {\n",
    "    'overhead': lightings[lightings.columns[range(17, 77, 6)]].values.flatten(),\n",
    "    'ringlight': lightings[lightings.columns[range(17 + 1, 77, 6)]].values.flatten(),\n",
    "    'boxlight': lightings[lightings.columns[range(17 + 2, 77, 6)]].values.flatten(),\n",
    "    'cameraflash': lightings[lightings.columns[range(17 + 3, 77, 6)]].values.flatten(),\n",
    "    'two45degreeboxlights': lightings[lightings.columns[range(17 + 4, 77, 6)]].values.flatten(),\n",
    "    'naturallight': lightings[lightings.columns[range(17 + 5, 77, 6)]].values.flatten()\n",
    "}\n",
    "\n",
    "groups = {key: value[~np.isnan(value)] for key, value in sample_lighting_groups.items()}\n",
    "\n",
    "f_statistic, p_value = stats.f_oneway(*groups.values())\n",
    "\n",
    "# Print the results\n",
    "print(\"F-Statistic:\", f_statistic)\n",
    "print(\"p-value:\", p_value)"
   ]
  },
  {
   "attachments": {},
   "cell_type": "markdown",
   "metadata": {},
   "source": [
    "Based on the ANOVA Test performed above, the variances between each group are significantly different. The p-value is less than an alpha level of 0.05, so there is a significant difference between each group."
   ]
  },
  {
   "cell_type": "code",
   "execution_count": 12,
   "metadata": {},
   "outputs": [
    {
     "name": "stdout",
     "output_type": "stream",
     "text": [
      "Darker indicates more significant p-values. Any 0.00s are just so small they dont fit\n"
     ]
    },
    {
     "data": {
      "image/png": "[encoded data removed]",
      "text/plain": [
       "<Figure size 800x600 with 2 Axes>"
      ]
     },
     "metadata": {},
     "output_type": "display_data"
    }
   ],
   "source": [
    "# Create an empty DataFrame to store the p-values\n",
    "p_values_table = pd.DataFrame(index = sample_lighting_groups.keys(), columns = sample_lighting_groups.keys())\n",
    "\n",
    "# Perform t-tests between sample groups\n",
    "for group1_name, group1_values in sample_lighting_groups.items():\n",
    "    for group2_name, group2_values in sample_lighting_groups.items():\n",
    "        # Exclude self-comparisons\n",
    "        if group1_name != group2_name:\n",
    "            # drop nulls\n",
    "            group1_values = group1_values[~pd.isnull(group1_values)]\n",
    "            group2_values = group2_values[~pd.isnull(group2_values)]\n",
    "\n",
    "            t_statistic, p_value = stats.ttest_ind(group1_values, group2_values, alternative='two-sided')\n",
    "            p_values_table.loc[group1_name, group2_name] = p_value\n",
    "\n",
    "light_p_values_df = pd.DataFrame(p_values_table.values, index=p_values_table.index, columns=p_values_table.columns)\n",
    "\n",
    "# Print the p-values dataframe\n",
    "print('Darker indicates more significant p-values. Any 0.00s are just so small they dont fit')\n",
    "\n",
    "# Graphing\n",
    "# Create a custom color map\n",
    "# red shades for lower values\n",
    "cmap = sns.cm.rocket  \n",
    "\n",
    "# Plot the heatmap\n",
    "plt.figure(figsize=(8, 6))\n",
    "sns.heatmap(light_p_values_df.astype(float), cmap=cmap, annot=True, fmt=\".2f\", cbar=True)\n",
    "plt.title(\"Lightings P-Values Heatmap\")\n",
    "plt.show()"
   ]
  },
  {
   "attachments": {},
   "cell_type": "markdown",
   "metadata": {},
   "source": [
    "Observing the heatmap above, it appears that only boxlight has significant p-values. Thus, boxlight does appear to have generally different ratings than all of the other lighting conditions."
   ]
  },
  {
   "attachments": {},
   "cell_type": "markdown",
   "metadata": {},
   "source": [
    "### Hypothesis 2: Exposure type 4 seems to result in generally more different ratings"
   ]
  },
  {
   "attachments": {},
   "cell_type": "markdown",
   "metadata": {},
   "source": [
    "Looking at exposures, we took many of the same steps to analyzing lighting conditions."
   ]
  },
  {
   "cell_type": "code",
   "execution_count": 13,
   "metadata": {},
   "outputs": [],
   "source": [
    "# Once again, changing each rating to have a row instead of each rater\n",
    "exposure_df = pd.melt(exposures, \n",
    "                      id_vars=exposures.columns[:13], \n",
    "                      value_vars = exposures.columns[13:],\n",
    "                      var_name='Participant_Exposure', \n",
    "                      value_name='Rating')\n",
    "\n",
    "exposure_df[\"Participant_Exposure\"] = exposure_df[\"Participant_Exposure\"].astype(\"str\")\n",
    "exposure_df[\"Participant\"] = exposure_df[\"Participant_Exposure\"].str[0]\n",
    "exposure_df[\"Exposure\"] = exposure_df[\"Participant_Exposure\"].str[-1]\n",
    "exposure_df['Participant'] = exposure_df['Participant'].astype(int)\n",
    "exposure_df['Exposure'] = exposure_df['Exposure'].astype(int)\n",
    "\n",
    "# Drop all NaN values\n",
    "exposure_df = exposure_df.dropna(subset = \"Exposure\")\n",
    "#Remove unused columns\n",
    "exposure_df = exposure_df.drop(columns=['IPAddress', 'StartDate', 'EndDate', 'Status', 'Progress', 'Duration (in seconds)', 'Finished', 'RecordedDate', 'DistributionChannel', 'UserLanguage', 'Participant_Exposure'])"
   ]
  },
  {
   "cell_type": "code",
   "execution_count": 14,
   "metadata": {},
   "outputs": [
    {
     "data": {
      "text/html": [
       "<div>\n",
       "<style scoped>\n",
       "    .dataframe tbody tr th:only-of-type {\n",
       "        vertical-align: middle;\n",
       "    }\n",
       "\n",
       "    .dataframe tbody tr th {\n",
       "        vertical-align: top;\n",
       "    }\n",
       "\n",
       "    .dataframe thead th {\n",
       "        text-align: right;\n",
       "    }\n",
       "</style>\n",
       "<table border=\"1\" class=\"dataframe\">\n",
       "  <thead>\n",
       "    <tr style=\"text-align: right;\">\n",
       "      <th></th>\n",
       "      <th>ResponseId</th>\n",
       "      <th>LocationLatitude</th>\n",
       "      <th>LocationLongitude</th>\n",
       "      <th>Rating</th>\n",
       "      <th>Participant</th>\n",
       "      <th>Exposure</th>\n",
       "    </tr>\n",
       "  </thead>\n",
       "  <tbody>\n",
       "    <tr>\n",
       "      <th>0</th>\n",
       "      <td>R_3KZmLhM9GxlzOFm</td>\n",
       "      <td>36.168503</td>\n",
       "      <td>-115.116402</td>\n",
       "      <td>3.0</td>\n",
       "      <td>1</td>\n",
       "      <td>1</td>\n",
       "    </tr>\n",
       "    <tr>\n",
       "      <th>1</th>\n",
       "      <td>R_BJTbzmzL62fahbz</td>\n",
       "      <td>35.401001</td>\n",
       "      <td>-80.868797</td>\n",
       "      <td>2.0</td>\n",
       "      <td>1</td>\n",
       "      <td>1</td>\n",
       "    </tr>\n",
       "    <tr>\n",
       "      <th>2</th>\n",
       "      <td>R_UxLAf8XxkoX6qBj</td>\n",
       "      <td>36.032196</td>\n",
       "      <td>-79.858803</td>\n",
       "      <td>4.0</td>\n",
       "      <td>1</td>\n",
       "      <td>1</td>\n",
       "    </tr>\n",
       "    <tr>\n",
       "      <th>3</th>\n",
       "      <td>R_2CwaqzLJonWy4zi</td>\n",
       "      <td>13.087799</td>\n",
       "      <td>80.278503</td>\n",
       "      <td>5.0</td>\n",
       "      <td>1</td>\n",
       "      <td>1</td>\n",
       "    </tr>\n",
       "    <tr>\n",
       "      <th>4</th>\n",
       "      <td>R_23fpZnxZtbx1clK</td>\n",
       "      <td>11.042007</td>\n",
       "      <td>76.081512</td>\n",
       "      <td>5.0</td>\n",
       "      <td>1</td>\n",
       "      <td>1</td>\n",
       "    </tr>\n",
       "  </tbody>\n",
       "</table>\n",
       "</div>"
      ],
      "text/plain": [
       "          ResponseId  LocationLatitude  LocationLongitude  Rating  \\\n",
       "0  R_3KZmLhM9GxlzOFm         36.168503        -115.116402     3.0   \n",
       "1  R_BJTbzmzL62fahbz         35.401001         -80.868797     2.0   \n",
       "2  R_UxLAf8XxkoX6qBj         36.032196         -79.858803     4.0   \n",
       "3  R_2CwaqzLJonWy4zi         13.087799          80.278503     5.0   \n",
       "4  R_23fpZnxZtbx1clK         11.042007          76.081512     5.0   \n",
       "\n",
       "   Participant  Exposure  \n",
       "0            1         1  \n",
       "1            1         1  \n",
       "2            1         1  \n",
       "3            1         1  \n",
       "4            1         1  "
      ]
     },
     "execution_count": 14,
     "metadata": {},
     "output_type": "execute_result"
    }
   ],
   "source": [
    "exposure_df.head()"
   ]
  },
  {
   "cell_type": "code",
   "execution_count": 15,
   "metadata": {},
   "outputs": [
    {
     "name": "stdout",
     "output_type": "stream",
     "text": [
      "fstop 8:\n",
      "Mean Score: 5.59\n",
      "Standard Deviation: 0.12\n",
      "\n",
      "fstop 9:\n",
      "Mean Score: 5.63\n",
      "Standard Deviation: 0.12\n",
      "\n",
      "fstop 11:\n",
      "Mean Score: 5.63\n",
      "Standard Deviation: 0.14\n",
      "\n",
      "fstop 13:\n",
      "Mean Score: 5.61\n",
      "Standard Deviation: 0.14\n",
      "\n",
      "fstop 16:\n",
      "Mean Score: 5.55\n",
      "Standard Deviation: 0.16\n",
      "\n"
     ]
    }
   ],
   "source": [
    "exposure_types = [\"fstop 8\", \"fstop 9\", \"fstop 11\", \"fstop 13\", \"fstop 16\"]\n",
    "\n",
    "for i in range(0, 5):\n",
    "    exposure_columns = exposures.columns[range(13 + i, 63, 5)]\n",
    "    mean_score = exposures[exposure_columns].mean().mean()\n",
    "    std_score = exposures[exposure_columns].std().std()\n",
    "    print(f\"{exposure_types[i]}:\")\n",
    "    print(f\"Mean Score: {mean_score:.2f}\")\n",
    "    print(f\"Standard Deviation: {std_score:.2f}\")\n",
    "    print()"
   ]
  },
  {
   "cell_type": "code",
   "execution_count": 16,
   "metadata": {},
   "outputs": [
    {
     "data": {
      "image/png": "[encoded data removed]",
      "text/plain": [
       "<Figure size 640x480 with 1 Axes>"
      ]
     },
     "metadata": {},
     "output_type": "display_data"
    }
   ],
   "source": [
    "sns.boxplot(x = \"Exposure\", y = \"Rating\", data = exposure_df)\n",
    "plt.show()"
   ]
  },
  {
   "cell_type": "code",
   "execution_count": 17,
   "metadata": {},
   "outputs": [
    {
     "name": "stdout",
     "output_type": "stream",
     "text": [
      "F-Statistic: 0.595744028412363\n",
      "p-value: 0.66571426999344\n"
     ]
    }
   ],
   "source": [
    "sample_exposure_groups = {\n",
    "    'fstop8': exposures[exposures.columns[range(13, 63, 5)]].values.flatten(),\n",
    "    'fstop9': exposures[exposures.columns[range(13 + 1, 63, 5)]].values.flatten(),\n",
    "    'fstop11': exposures[exposures.columns[range(13 + 2, 63, 5)]].values.flatten(),\n",
    "    'fstop13': exposures[exposures.columns[range(13 + 3, 63, 5)]].values.flatten(),\n",
    "    'fstop16': exposures[exposures.columns[range(13 + 4, 63, 5)]].values.flatten(),\n",
    "}\n",
    "\n",
    "groups = {key: value[~np.isnan(value)] for key, value in sample_exposure_groups.items()}\n",
    "\n",
    "f_statistic, p_value = stats.f_oneway(*groups.values())\n",
    "\n",
    "# Print the results\n",
    "print(\"F-Statistic:\", f_statistic)\n",
    "print(\"p-value:\", p_value)"
   ]
  },
  {
   "attachments": {},
   "cell_type": "markdown",
   "metadata": {},
   "source": [
    "Looking at exposures, the p-value is not significant, so it appears that the variance between the different groups is not significant. Even looking at the boxplots above, it does not appear to be a significant difference between each group."
   ]
  },
  {
   "cell_type": "code",
   "execution_count": 18,
   "metadata": {},
   "outputs": [
    {
     "name": "stdout",
     "output_type": "stream",
     "text": [
      "Darker indicates more significant p-values.\n"
     ]
    },
    {
     "data": {
      "image/png": "[encoded data removed]",
      "text/plain": [
       "<Figure size 800x600 with 2 Axes>"
      ]
     },
     "metadata": {},
     "output_type": "display_data"
    }
   ],
   "source": [
    "# Create an empty DataFrame to store the p-values\n",
    "p_values_table = pd.DataFrame(index = sample_exposure_groups.keys(), columns = sample_exposure_groups.keys())\n",
    "\n",
    "# Perform t-tests between sample groups\n",
    "for group1_name, group1_values in sample_exposure_groups.items():\n",
    "    for group2_name, group2_values in sample_exposure_groups.items():\n",
    "        # Exclude self-comparisons\n",
    "        if group1_name != group2_name:\n",
    "            # drop nulls\n",
    "            group1_values = group1_values[~pd.isnull(group1_values)]\n",
    "            group2_values = group2_values[~pd.isnull(group2_values)]\n",
    "\n",
    "            t_statistic, p_value = stats.ttest_ind(group1_values, group2_values, alternative='two-sided')\n",
    "            p_values_table.loc[group1_name, group2_name] = p_value\n",
    "\n",
    "exposure_p_values_df = pd.DataFrame(p_values_table.values, index=p_values_table.index, columns=p_values_table.columns)\n",
    "\n",
    "# Print the p-values dataframe\n",
    "print('Darker indicates more significant p-values.')\n",
    "\n",
    "# Graphing\n",
    "# Create a custom color map\n",
    "# red shades for lower values\n",
    "cmap = sns.cm.rocket  \n",
    "\n",
    "# Plot the heatmap\n",
    "plt.figure(figsize=(8, 6))\n",
    "sns.heatmap(exposure_p_values_df.astype(float), cmap=cmap, annot=True, fmt=\".2f\", cbar=True)\n",
    "plt.title(\"Exposures P-Values Heatmap\")\n",
    "plt.show()"
   ]
  },
  {
   "attachments": {},
   "cell_type": "markdown",
   "metadata": {},
   "source": [
    "### Hypothesis 3: Women rate harsher than men"
   ]
  },
  {
   "attachments": {},
   "cell_type": "markdown",
   "metadata": {},
   "source": [
    "Another variable we were interested in was looking at different sexes and how they rate people. "
   ]
  },
  {
   "cell_type": "code",
   "execution_count": 19,
   "metadata": {},
   "outputs": [
    {
     "data": {
      "image/png": "[encoded data removed]",
      "text/plain": [
       "<Figure size 640x480 with 1 Axes>"
      ]
     },
     "metadata": {},
     "output_type": "display_data"
    }
   ],
   "source": [
    "# Create side-by-side box plots\n",
    "sns.boxplot(x = \"Sex\", y = \"Rating\", data = lighting_df)\n",
    "plt.title(\"Boxplot of Ratings by Sex\")\n",
    "plt.xlabel(\"Sex\")\n",
    "plt.ylabel(\"Rating\")\n",
    "plt.show()"
   ]
  },
  {
   "cell_type": "code",
   "execution_count": 20,
   "metadata": {},
   "outputs": [
    {
     "name": "stdout",
     "output_type": "stream",
     "text": [
      "T-statistic: 5.218093572806616\n",
      "P-value: 1.838550892647749e-07\n"
     ]
    }
   ],
   "source": [
    "# Group data by sex\n",
    "male = lighting_df[lighting_df[\"Sex\"] == \"Male\"][\"Rating\"]\n",
    "female = lighting_df[lighting_df[\"Sex\"] == \"Female\"][\"Rating\"]\n",
    "\n",
    "# Perform t-test\n",
    "t_stat, p_value = stats.ttest_ind(male, female)\n",
    "\n",
    "print(\"T-statistic:\", t_stat)\n",
    "print(\"P-value:\", p_value)"
   ]
  },
  {
   "attachments": {},
   "cell_type": "markdown",
   "metadata": {},
   "source": [
    "Looking at the t test, the p-value seems to show a significant difference between the two means. It appears that there is a possibility that women rate harsher than men."
   ]
  },
  {
   "attachments": {},
   "cell_type": "markdown",
   "metadata": {},
   "source": [
    "### Hypothesis 4: Younger people rate harsher than older people"
   ]
  },
  {
   "attachments": {},
   "cell_type": "markdown",
   "metadata": {},
   "source": [
    "In determining a threshold for what counts as a \"young\" person, we decided to just deem the median as the cut-off."
   ]
  },
  {
   "cell_type": "code",
   "execution_count": 21,
   "metadata": {},
   "outputs": [
    {
     "name": "stdout",
     "output_type": "stream",
     "text": [
      "37.0\n"
     ]
    }
   ],
   "source": [
    "median = np.median(lightings[\"Age\"])\n",
    "print(median)"
   ]
  },
  {
   "attachments": {},
   "cell_type": "markdown",
   "metadata": {},
   "source": [
    "Everyone that is under 37 will be deemded as younger for our circumstances and everyone over 37 will be deemed as older."
   ]
  },
  {
   "cell_type": "code",
   "execution_count": 22,
   "metadata": {},
   "outputs": [
    {
     "name": "stdout",
     "output_type": "stream",
     "text": [
      "The t-value:  1.7235940090834097\n",
      "The P-value:  0.08639935570292896\n"
     ]
    }
   ],
   "source": [
    "# Find the old and young raters\n",
    "young = lightings.loc[lightings[\"Age\"] < 37]\n",
    "old = lightings.loc[lightings[\"Age\"] > 37]\n",
    "\n",
    "# Drop unnecessary columns\n",
    "young = young.drop([\"Age\", \"ResponseId\", \"StartDate\", \"EndDate\", \"Status\", \"IPAddress\", \"Progress\", \"Duration (in seconds)\", \"Finished\", \"RecordedDate\", \"LocationLatitude\", \"LocationLongitude\", \"DistributionChannel\", \"UserLanguage\", \"Race\", \"Race_other\", \"Sex\"], axis = 1)\n",
    "old = old.drop([\"Age\", \"ResponseId\", \"StartDate\", \"EndDate\", \"Status\", \"IPAddress\", \"Progress\", \"Duration (in seconds)\", \"Finished\", \"RecordedDate\", \"LocationLatitude\", \"LocationLongitude\", \"DistributionChannel\", \"UserLanguage\", \"Race\", \"Race_other\", \"Sex\"], axis = 1)\n",
    "\n",
    "# Find the mean of each rater\n",
    "young_mean = young.mean(axis = 1)\n",
    "old_mean = old.mean(axis = 1)\n",
    "\n",
    "# Conduct t-tests between the ages\n",
    "t_value, p_value = stats.ttest_ind(young_mean, old_mean)\n",
    "\n",
    "print(\"The t-value: \", t_value)\n",
    "print(\"The P-value: \", p_value)"
   ]
  },
  {
   "cell_type": "code",
   "execution_count": 23,
   "metadata": {},
   "outputs": [
    {
     "data": {
      "image/png": "[encoded data removed]",
      "text/plain": [
       "<Figure size 640x480 with 1 Axes>"
      ]
     },
     "metadata": {},
     "output_type": "display_data"
    }
   ],
   "source": [
    "young[\"Rater Type\"] = \"Younger\"\n",
    "young_melt = pd.melt(young, id_vars = \"Rater Type\", var_name = \"Rater\", value_vars = young[:], value_name = \"Rating\")\n",
    "old[\"Rater Type\"] = \"Older\"\n",
    "old_melt = pd.melt(old, id_vars = \"Rater Type\", var_name = \"Rater\", value_vars = old[:], value_name = \"Rating\")\n",
    "combined = pd.concat([young_melt, old_melt])\n",
    "sns.boxplot(x = \"Rater Type\", y = \"Rating\", data = combined)\n",
    "plt.title(\"Boxplot between Older and Younger Raters\")\n",
    "plt.xlabel(\"Younger or Older\")\n",
    "plt.ylabel(\"Rating\")\n",
    "plt.show()"
   ]
  },
  {
   "attachments": {},
   "cell_type": "markdown",
   "metadata": {},
   "source": [
    "Based on the T-tests and the above box plot, it does not appear that there is a significant difference between younger and older raters. But we can go more in-depth."
   ]
  },
  {
   "cell_type": "code",
   "execution_count": 24,
   "metadata": {},
   "outputs": [
    {
     "name": "stdout",
     "output_type": "stream",
     "text": [
      "In  0.0 % of participant & lighting combinations, younger raters were statistically significantly harsher than older raters\n"
     ]
    }
   ],
   "source": [
    "participants = [\"A\", \"B\", \"D\", \"G\", \"H\", \"I\", \"J\", \"K\", \"N\", \"O\"]\n",
    "young_raters = lightings.loc[lightings[\"Age\"] < 37]\n",
    "old_raters = lightings.loc[lightings[\"Age\"] >= 37]\n",
    "young_harsh_count = 0\n",
    "rater_age_diff = []\n",
    "for p in participants:\n",
    "    for n in range(1, 7): #there are 6 different lighting types\n",
    "        col = p + str(n)\n",
    "        young_ratings = young_raters[col]\n",
    "        old_ratings = old_raters[col]\n",
    "        t_statistic, p_value = stats.ttest_ind(old_ratings, young_ratings)\n",
    "        if p_value < 0.05 and young_ratings.mean() < old_ratings.mean():\n",
    "            young_harsh_count += 1\n",
    "        if p_value < 0.05:\n",
    "            rater_age_diff.append(col)\n",
    "print(\"In \", young_harsh_count / 60 * 100, \"% of participant & lighting combinations, younger raters were statistically significantly harsher than older raters\")"
   ]
  }
 ],
 "metadata": {
  "kernelspec": {
   "display_name": "Python 3",
   "language": "python",
   "name": "python3"
  },
  "language_info": {
   "codemirror_mode": {
    "name": "ipython",
    "version": 3
   },
   "file_extension": ".py",
   "mimetype": "text/x-python",
   "name": "python",
   "nbconvert_exporter": "python",
   "pygments_lexer": "ipython3",
   "version": "3.11.2"
  },
  "orig_nbformat": 4
 },
 "nbformat": 4,
 "nbformat_minor": 2
}
