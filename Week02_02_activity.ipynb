{
 "cells": [
  {
   "cell_type": "markdown",
   "id": "17474efc-a435-431c-87b6-abcee356b403",
   "metadata": {},
   "source": [
    "## Week02.2 In-Class Team Activity\n",
    "Thursday April 13th, 2023 - upload PDF with photograph (either rendered or a separate file) Due by 11:59pm\n",
    "\n",
    "If you missed class – no credit for this in-class activity, instead, I drop two unexcused absences from the Monday/Wednesday activities before deductions begin.\n",
    "\n",
    "1. Please identify your team & the names of your teammates. \n",
    "\n",
    "2. Please insert a team photo somewhere in this notebook.  If you cannot get the to render correctly to PDF please upload a separate file of the photo\n",
    "\n",
    "Please modify the next cell to obtain a copy of (a) a random sample of Wordle words - no modification needed for this one OR (b) all words used in Wordle up to recently OR (c) all of Trump's tweets to 1/6/2021.  These are ordered by difficulty, choose your team's comfort level.  \n",
    "\n",
    "(https://docs.python.org/3.10/tutorial/inputoutput.html#reading-and-writing-files)"
   ]
  },
  {
   "cell_type": "code",
   "execution_count": 6,
   "id": "460335ad-e81c-4ae4-89dd-adc5cf7013b6",
   "metadata": {},
   "outputs": [
    {
     "data": {
      "text/plain": [
       "365"
      ]
     },
     "execution_count": 6,
     "metadata": {},
     "output_type": "execute_result"
    }
   ],
   "source": [
    "with open('wordle_sample.txt', 'r') as f:\n",
    "    wordle_sample = f.read()\n",
    "\n",
    "len(wordle_sample.split())"
   ]
  },
  {
   "cell_type": "markdown",
   "id": "547ee510-ce20-496d-b457-7ed0826892e2",
   "metadata": {},
   "source": [
    "1. Using a for loop, please print the first five words of your data.\n",
    "(put  your code in the cell below)"
   ]
  },
  {
   "cell_type": "code",
   "execution_count": 10,
   "id": "53be5d17-707b-47ac-b658-668ddf2e3e38",
   "metadata": {
    "tags": []
   },
   "outputs": [
    {
     "name": "stdout",
     "output_type": "stream",
     "text": [
      "miner\n",
      "salty\n",
      "beard\n",
      "arrow\n",
      "troop\n"
     ]
    }
   ],
   "source": [
    "# modify this cell with the appropriate code\n",
    "first_five = range(0, 5)\n",
    "for index in first_five:\n",
    "    print(wordle_sample.split()[index])"
   ]
  },
  {
   "cell_type": "markdown",
   "id": "87ddcb5b-5f0b-4138-afe0-f9c62c32eb9a",
   "metadata": {},
   "source": [
    "2.  Using a for loop and what you've learned about indexing and the use of `if` (see Monday Week 2 on indentation) can you print (or more challenging - save a file) with words starting with a specific letter or maybe ending with a specific letter?"
   ]
  },
  {
   "cell_type": "code",
   "execution_count": 14,
   "id": "ddc33af6-8643-4cb2-acd1-067fad7790bf",
   "metadata": {},
   "outputs": [
    {
     "data": {
      "text/plain": [
       "365"
      ]
     },
     "execution_count": 14,
     "metadata": {},
     "output_type": "execute_result"
    }
   ],
   "source": [
    "# modify this cell with the appropriate code\n",
    "wordle_split = wordle_sample.split()\n",
    "len(wordle_split)\n",
    "#for index in len(wordle_sample.split()):\n",
    " #   if wordle_sample.split()[index][0] == \"s\":\n",
    "  #      print(wordle_sample.split())"
   ]
  },
  {
   "cell_type": "markdown",
   "id": "998a49de-1549-49b6-85f2-e060ba6c713e",
   "metadata": {},
   "source": [
    "3.  *Learn to add a counter to use with your for loop.*  First allow me to show you a bad example from a newbie programmer.  This code runs without error (so no syntax errors) but the answer it gives is wrong (suppose we know there are 5 words with the letter q) this a semantic error.  It runs, but do we really want its logic?"
   ]
  },
  {
   "cell_type": "code",
   "execution_count": 7,
   "id": "bb7b2e51-3df4-4d71-bfa5-4d1d7ca40081",
   "metadata": {},
   "outputs": [
    {
     "name": "stdout",
     "output_type": "stream",
     "text": [
      "Number of words with 'q': 0\n"
     ]
    }
   ],
   "source": [
    "# This does not give the right answer, \n",
    "# my question to you is can you correct it and \n",
    "# more important can you explain why its incorrect.\n",
    "\n",
    "words = wordle_sample.split()\n",
    "letter = \"q\"\n",
    "\n",
    "for character in words:\n",
    "    letter_count = 0\n",
    "    if letter in character:\n",
    "        letter_count += 1\n",
    "\n",
    "print(f\"Number of words with '{letter}': {letter_count}\")\n"
   ]
  },
  {
   "cell_type": "code",
   "execution_count": 5,
   "id": "44078f2e-b28c-452b-aa09-75ecceaced22",
   "metadata": {},
   "outputs": [],
   "source": [
    "# please copy and then correct the previous cell in this cell"
   ]
  },
  {
   "cell_type": "markdown",
   "id": "e7209153-1119-4015-815d-ab16677020d3",
   "metadata": {},
   "source": [
    "4. (thinking question) Think it through as a team using either the full wordle data or Trump's tweets -- what kinds of questions could we ask/answer with the data (you do not need to know how to program the solution, this is more about brainstorming together)?  I'll give you an example - what is the typical length Trump's tweets?  This might be interesting if we had information on date/time of the tweet (we do, but that's for later) and using length as a proxy for complexity."
   ]
  },
  {
   "cell_type": "markdown",
   "id": "8d232a24-99b5-4a97-b255-d5731e521161",
   "metadata": {},
   "source": [
    "*this is a markdown cell* please modify it"
   ]
  },
  {
   "cell_type": "markdown",
   "id": "182db9a3-68c8-42e9-9160-0bba9bbd4d34",
   "metadata": {},
   "source": [
    "(optional) 5. If your team has the time/inclination -- try to answer your question in 4 above."
   ]
  },
  {
   "cell_type": "code",
   "execution_count": 6,
   "id": "ca6b312a-a165-4a7b-aab4-43a20975fb23",
   "metadata": {},
   "outputs": [],
   "source": [
    "# modify this cell with the appropriate code"
   ]
  }
 ],
 "metadata": {
  "kernelspec": {
   "display_name": "Python 3 (ipykernel)",
   "language": "python",
   "name": "python3"
  },
  "language_info": {
   "codemirror_mode": {
    "name": "ipython",
    "version": 3
   },
   "file_extension": ".py",
   "mimetype": "text/x-python",
   "name": "python",
   "nbconvert_exporter": "python",
   "pygments_lexer": "ipython3",
   "version": "3.11.2"
  }
 },
 "nbformat": 4,
 "nbformat_minor": 5
}
