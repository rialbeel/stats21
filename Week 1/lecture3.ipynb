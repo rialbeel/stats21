{
 "cells": [
  {
   "cell_type": "markdown",
   "id": "258814d8-4dd0-4e9c-a8df-6efa0c72c072",
   "metadata": {
    "tags": []
   },
   "source": [
    "## Stats 21 Lecture 3"
   ]
  },
  {
   "cell_type": "code",
   "execution_count": 2,
   "id": "2d49cf28-e75e-48f8-883a-39be12445058",
   "metadata": {
    "tags": []
   },
   "outputs": [
    {
     "data": {
      "text/plain": [
       "5"
      ]
     },
     "execution_count": 2,
     "metadata": {},
     "output_type": "execute_result"
    }
   ],
   "source": [
    "2 + 3"
   ]
  },
  {
   "cell_type": "code",
   "execution_count": 3,
   "id": "8d36ede0-8fdb-49f1-9414-4cd52a5ab307",
   "metadata": {
    "tags": []
   },
   "outputs": [
    {
     "data": {
      "text/plain": [
       "25"
      ]
     },
     "execution_count": 3,
     "metadata": {},
     "output_type": "execute_result"
    }
   ],
   "source": [
    "4 + 5\n",
    "5 * 5"
   ]
  },
  {
   "cell_type": "code",
   "execution_count": 4,
   "id": "5590d707-6002-4910-b8e7-67f19e0dbc23",
   "metadata": {
    "tags": []
   },
   "outputs": [
    {
     "name": "stdout",
     "output_type": "stream",
     "text": [
      "9\n",
      "25\n"
     ]
    }
   ],
   "source": [
    "print(4 + 5)\n",
    "print(5 * 5)"
   ]
  },
  {
   "cell_type": "code",
   "execution_count": 7,
   "id": "7d17b0b4-b661-4d0a-8ab1-b99e439edd60",
   "metadata": {
    "tags": []
   },
   "outputs": [
    {
     "data": {
      "text/plain": [
       "5"
      ]
     },
     "execution_count": 7,
     "metadata": {},
     "output_type": "execute_result"
    }
   ],
   "source": [
    "Out[2]"
   ]
  },
  {
   "cell_type": "code",
   "execution_count": 8,
   "id": "c7dc5189-f937-473c-ac49-7e22e3095c8f",
   "metadata": {
    "tags": []
   },
   "outputs": [
    {
     "data": {
      "text/plain": [
       "'2 + 3'"
      ]
     },
     "execution_count": 8,
     "metadata": {},
     "output_type": "execute_result"
    }
   ],
   "source": [
    "In[2]"
   ]
  },
  {
   "cell_type": "code",
   "execution_count": 16,
   "id": "b696952a-681a-49d7-a924-f2782e8263bf",
   "metadata": {
    "tags": []
   },
   "outputs": [
    {
     "data": {
      "text/plain": [
       "'2 + 3'"
      ]
     },
     "execution_count": 16,
     "metadata": {},
     "output_type": "execute_result"
    }
   ],
   "source": [
    "_"
   ]
  },
  {
   "cell_type": "code",
   "execution_count": null,
   "id": "3410b3a6-63e0-422a-8d45-99fb2db04d8f",
   "metadata": {},
   "outputs": [],
   "source": []
  }
 ],
 "metadata": {
  "kernelspec": {
   "display_name": "Python 3 (ipykernel)",
   "language": "python",
   "name": "python3"
  },
  "language_info": {
   "codemirror_mode": {
    "name": "ipython",
    "version": 3
   },
   "file_extension": ".py",
   "mimetype": "text/x-python",
   "name": "python",
   "nbconvert_exporter": "python",
   "pygments_lexer": "ipython3",
   "version": "3.11.2"
  }
 },
 "nbformat": 4,
 "nbformat_minor": 5
}
