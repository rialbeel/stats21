{
 "cells": [
  {
   "cell_type": "markdown",
   "id": "17474efc-a435-431c-87b6-abcee356b403",
   "metadata": {
    "tags": []
   },
   "source": [
    "## Week02.3 In-Class Team Activity\n",
    "Saturday April 15th, 2023 - upload PDF with photograph (either rendered or a separate file) Due by 11:59pm\n",
    "\n",
    "If you missed class – no credit for this in-class activity, instead, I drop two unexcused absences from the Monday/Wednesday activities before deductions begin.\n",
    "\n",
    "- Please identify your team & the names of your teammates. \n",
    "\n",
    "- Please insert a team photo somewhere in this notebook.  If you cannot get the to render correctly to PDF please upload a separate file of the photo\n",
    "\n"
   ]
  },
  {
   "cell_type": "markdown",
   "id": "e5d3e5d2-af3f-497b-958a-ab6443a81663",
   "metadata": {},
   "source": [
    "1.  Please demonstrate that your team can construct   \n",
    "\n",
    "(a) a list comprised of string values    \n",
    "(b) an empty list    \n",
    "(c) a list of numeric values    "
   ]
  },
  {
   "cell_type": "code",
   "execution_count": null,
   "id": "46ed3a9a-3f97-4b9e-a1b5-b94e8e724703",
   "metadata": {
    "jupyter": {
     "source_hidden": true
    },
    "tags": []
   },
   "outputs": [],
   "source": [
    "# please type your code in here"
   ]
  },
  {
   "cell_type": "markdown",
   "id": "a9ba636b-4ad9-4025-9672-f2569daa4799",
   "metadata": {},
   "source": [
    "2. Recall wordle_sample.txt from a previous lecture:"
   ]
  },
  {
   "cell_type": "code",
   "execution_count": null,
   "id": "7fdab480-369c-401f-be0b-4a2af36d5f6e",
   "metadata": {},
   "outputs": [],
   "source": [
    "with open('wordle_sample.txt', 'r') as f:\n",
    "    wordle_sample = f.read()\n",
    "\n",
    "wordle_small = wordle_sample.split()"
   ]
  },
  {
   "cell_type": "markdown",
   "id": "c627fda3-9726-470e-a433-c3f846a88c86",
   "metadata": {
    "tags": []
   },
   "source": [
    "Please show that you can:    \n",
    "\n",
    "(a) sort wordle_sample alphabetically  \n",
    "(b) access the first letter of any word in the list  \n",
    "(c) (optional) how would you obtain a list of the first  letter of each word?  "
   ]
  },
  {
   "cell_type": "code",
   "execution_count": null,
   "id": "edc98864-28df-4db1-835b-9d532858b04d",
   "metadata": {
    "tags": []
   },
   "outputs": [],
   "source": [
    "# please type your code in here"
   ]
  },
  {
   "cell_type": "markdown",
   "id": "547ee510-ce20-496d-b457-7ed0826892e2",
   "metadata": {},
   "source": [
    "3. Using the data in the next cell, can you think of **two** different ways to append the list height to the list name?"
   ]
  },
  {
   "cell_type": "code",
   "execution_count": null,
   "id": "460335ad-e81c-4ae4-89dd-adc5cf7013b6",
   "metadata": {},
   "outputs": [],
   "source": [
    "name = [\"Luke Skywalker\", \"C-3PO\", \"R2-D2\", \"Darth Vader\",\n",
    "        \"Leia Organa\", \"Owen Lars\", \"Beru Whitesun lars\" , \n",
    "        \"R5-D4\", \"Biggs Darklighter\" ,\"Obi-Wan Kenobi\"]\n",
    "height = [172, 167, 96, 202, 150, 178, 165, 97, 183, 182]"
   ]
  },
  {
   "cell_type": "code",
   "execution_count": null,
   "id": "7269cf88-a4dd-4fb9-a32b-3af2de360022",
   "metadata": {
    "tags": []
   },
   "outputs": [],
   "source": [
    "# please type your code in here"
   ]
  }
 ],
 "metadata": {
  "kernelspec": {
   "display_name": "Python 3 (ipykernel)",
   "language": "python",
   "name": "python3"
  },
  "language_info": {
   "codemirror_mode": {
    "name": "ipython",
    "version": 3
   },
   "file_extension": ".py",
   "mimetype": "text/x-python",
   "name": "python",
   "nbconvert_exporter": "python",
   "pygments_lexer": "ipython3",
   "version": "3.11.2"
  }
 },
 "nbformat": 4,
 "nbformat_minor": 5
}
